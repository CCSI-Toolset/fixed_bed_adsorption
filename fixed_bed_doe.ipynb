{
 "cells": [
  {
   "cell_type": "markdown",
   "id": "7e211341",
   "metadata": {},
   "source": [
    "# Fixed-bed problem\n",
    "\n",
    "\n",
    "Jialu Wang (jwang44@nd.edu) and Alex Dowling (adowling@nd.edu)\n",
    "\n",
    "University of Notre Dame\n",
    "\n",
    "This notebook conducts design of experiments for a fixed-bed model with the Pyomo.DOE.\n",
    "    "
   ]
  },
  {
   "cell_type": "code",
   "execution_count": 1,
   "id": "940d1fa5",
   "metadata": {},
   "outputs": [],
   "source": [
    "from pyomo.environ import *\n",
    "from pyomo.dae import *\n",
    "\n",
    "import idaes\n",
    "\n",
    "import matplotlib.pyplot as plt\n",
    "import numpy as np\n",
    "import pandas as pd \n",
    "from itertools import permutations, product, combinations"
   ]
  },
  {
   "cell_type": "markdown",
   "id": "b90bce4e",
   "metadata": {},
   "source": [
    "### Import Pyomo.DOE"
   ]
  },
  {
   "cell_type": "code",
   "execution_count": 2,
   "id": "96d0d083",
   "metadata": {},
   "outputs": [],
   "source": [
    "from fim_doe import *"
   ]
  },
  {
   "cell_type": "markdown",
   "id": "44174137",
   "metadata": {},
   "source": [
    "### Import fixed-bed model"
   ]
  },
  {
   "cell_type": "code",
   "execution_count": 3,
   "id": "3186b934",
   "metadata": {},
   "outputs": [
    {
     "name": "stdout",
     "output_type": "stream",
     "text": [
      "alpha option:\n",
      "1 / (1 + exp(-x))\n",
      "WARNING: DEPRECATED: The pyomo.core.kernel.component_set module is deprecated.\n",
      "    Import ComponentSet from pyomo.common.collections.  (deprecated in 5.7.1)\n",
      "    (called from <frozen importlib._bootstrap>:219)\n"
     ]
    }
   ],
   "source": [
    "from fixed_bed_model import *"
   ]
  },
  {
   "cell_type": "markdown",
   "id": "a262af1d",
   "metadata": {},
   "source": [
    "### Set up fixed-bed model "
   ]
  },
  {
   "cell_type": "code",
   "execution_count": 4,
   "id": "9194ace2",
   "metadata": {},
   "outputs": [],
   "source": [
    "def add_model(doe, timepoints, time_start=0):\n",
    "    '''\n",
    "    add variables, equations and discretize the model time\n",
    "    Arguments\n",
    "    ---------\n",
    "    timepoints: the timesteps\n",
    "    time_start: where the timesteps start. For self defined timepoints it's 0. For experimental data it's -10.\n",
    "    '''\n",
    "    add_variables(doe, timesteps=timepoints, start=time_start)\n",
    "    add_equations(doe)\n",
    "    print ('the number of timepoints is', NFEt)\n",
    "    \n",
    "def discretize(doe, no_points=68, collo=False):\n",
    "    '''\n",
    "    Discretization \n",
    "    Arguments \n",
    "    ---------\n",
    "    no_points: how many time invertals to divide. For self defined timepoints it's 69. For experimental data it's 68. \n",
    "    here it's 68\n",
    "    collo: if using collocation or finite difference\n",
    "    '''\n",
    "    if collo:\n",
    "        TransformationFactory('dae.collocation').apply_to(doe, nfe=no_points, ncp=3, scheme='LAGRANGE-RADAU', wrt=doe.t)\n",
    "    else:\n",
    "        TransformationFactory('dae.finite_difference').apply_to(doe, nfe=no_points, scheme='BACKWARD', wrt=doe.t)\n",
    "        \n",
    "    for i in doe.t: \n",
    "        doe.Q[i].fix()\n",
    "    \n",
    "    \n",
    "def initialize(doe, init_point):\n",
    "    '''\n",
    "    Initialize the fixed bed \n",
    "    Arguments \n",
    "    ---------\n",
    "    init_point: initial point, csv file\n",
    "    '''\n",
    "    print('The init point is', init_point)    \n",
    "    store = pd.read_csv(init_point)\n",
    "    position_max = store['position'].max()\n",
    "    store['position'] = store['position'] / position_max\n",
    "\n",
    "    initial_bed_csv(doe, store)\n",
    "    fix_initial_bed(doe)\n",
    "    \n",
    "def generate_exp_addQ(feed, y, const_q):\n",
    "    '''\n",
    "    Generalize experiments adding Q\n",
    "    Arguments \n",
    "    ---------\n",
    "    feed: feed temperature, [K]\n",
    "    yfeed: feed CO2 fraction, mol % \n",
    "    Q: extra heat added\n",
    "    '''\n",
    "    initialize_q = {}\n",
    "    for t in exp_time_:\n",
    "        initialize_q[t] = const_q\n",
    "    dv_dict_overall = {'temp_feed': {0: feed}, 'yfeed': {0: y}, 'Q': initialize_q}\n",
    "    return dv_dict_overall\n",
    "\n",
    "def generate_exp(feed, y):\n",
    "    '''\n",
    "    Generalize experiments with no adding Q\n",
    "    Arguments \n",
    "    ---------\n",
    "    feed: feed temperature, [K]\n",
    "    yfeed: feed CO2 fraction, mol % \n",
    "    '''\n",
    "    dv_dict_overall = {'temp_feed': {0: feed}, 'yfeed': {0: y}}\n",
    "    return dv_dict_overall"
   ]
  },
  {
   "cell_type": "code",
   "execution_count": 5,
   "id": "f0dc7a42",
   "metadata": {},
   "outputs": [],
   "source": [
    "NFEt = 68 # No. of time points \n",
    "time_scale = 3200 # [s], time\n",
    "collo = False # if not using collocation, finite difference is used \n",
    "exp_time_ = time_points(NFEt, time_scale) # The discretized time points \n",
    "\n",
    "scena_all = {'scena-name': [0], 'fitted_transport_coefficient':212, 'ua': np.log(5.0E6)}\n",
    "\n",
    "# Starting point for the fixed-bed model \n",
    "initialize_point = '/media/psf/Home/CCSI-Toolset/fixed_bed_adsorption/fixed-bed-priors/2021oct8_f293_b293_y15_5e6.csv'\n"
   ]
  },
  {
   "cell_type": "code",
   "execution_count": 6,
   "id": "a7f8e4a2",
   "metadata": {},
   "outputs": [],
   "source": [
    "def model_integrate(scena, args=[True, False], exp_time=exp_time_, init_point=initialize_point):\n",
    "    '''Work as the model creation function provided to Pyomo.DOE\n",
    "    Note: When more than one Pyomo function are needed for creating, initializing, and discretizing\n",
    "    models, they should be combined in this way and provide a ready-for-solving model name\n",
    "    Arguments\n",
    "    ---------\n",
    "    args_list: Additional arguments for fixed-bed \n",
    "    exp_time: discretized time points \n",
    "    init_point: starting point for solving the model \n",
    "    \n",
    "    Return \n",
    "    ------\n",
    "    test: model for Pyomo.DOE\n",
    "    '''\n",
    "    test = create_model(scena, temp_feed=313.15, temp_bath=293.15, y=0.15, doe_model=args[0], k_aug=args[1], opt=False, diff=0)\n",
    "    add_model(test, exp_time)\n",
    "    discretize(test)\n",
    "    initialize(test, init_point)\n",
    "    return test\n"
   ]
  },
  {
   "cell_type": "markdown",
   "id": "5966926c",
   "metadata": {},
   "source": [
    "### Specify inputs for Pyomo.DOE"
   ]
  },
  {
   "cell_type": "code",
   "execution_count": 7,
   "id": "d03b6e85",
   "metadata": {},
   "outputs": [
    {
     "name": "stdout",
     "output_type": "stream",
     "text": [
      "All measurements are flattened.\n",
      "Flatten measurement name: ['FCO2_index_19', 'temp_index_10', 'temp_index_19']\n"
     ]
    }
   ],
   "source": [
    "# specify parameters \n",
    "parameter_dict = {'fitted_transport_coefficient':212, 'ua': np.log(5.0E6)}\n",
    "\n",
    "# specify design variables \n",
    "#dv_pass = {'temp_feed': None, 'yfeed': None, 'Q':exp_time_}\n",
    "dv_pass = {'temp_feed':None, 'yfeed': None}\n",
    "#if_optimization = {'temp_feed': True, 'yfeed': True, 'Q':False}\n",
    "\n",
    "# specify measurements \n",
    "t_measure = exp_time_\n",
    "measurement_pass = {'FCO2': {19: t_measure}, 'temp': {10: t_measure, 19:t_measure}}\n",
    "var = {'FCO2': {19: 0.00001}, 'temp': {10: 1, 19:1}}\n",
    "\n",
    "measure_class = Measurements(measurement_pass, variance=var)"
   ]
  },
  {
   "cell_type": "code",
   "execution_count": 8,
   "id": "0d155ff6",
   "metadata": {},
   "outputs": [
    {
     "name": "stdout",
     "output_type": "stream",
     "text": [
      "The prior information FIM: [[0. 0.]\n",
      " [0. 0.]]\n",
      "Prior Det: 0.0\n",
      "Eigenvalue of the prior experiments FIM: [0. 0.]\n",
      "Eigenvalue of the prior experiments FIM: [[1. 0.]\n",
      " [0. 1.]]\n"
     ]
    }
   ],
   "source": [
    "# empty prior\n",
    "prior_all = np.zeros((2,2))\n",
    "\n",
    "prior_pass=np.asarray(prior_all)\n",
    "\n",
    "#L_initials = np.linalg.cholesky(prior_pass)\n",
    "#print(L_initials)\n",
    "\n",
    "print('The prior information FIM:', prior_pass)\n",
    "print('Prior Det:', np.linalg.det(prior_pass))\n",
    "print('Eigenvalue of the prior experiments FIM:', np.linalg.eigvals(prior_pass))\n",
    "print('Eigenvalue of the prior experiments FIM:', np.linalg.eigh(prior_pass)[1])"
   ]
  },
  {
   "cell_type": "markdown",
   "id": "b1879150",
   "metadata": {},
   "source": [
    "## Compute FIM\n",
    "Compute a square MBDoE problem for a specified experiment"
   ]
  },
  {
   "cell_type": "code",
   "execution_count": null,
   "id": "643d82eb",
   "metadata": {},
   "outputs": [],
   "source": [
    "# choose from 'sequential_finite', 'direct_kaug'\n",
    "sensi_opt = 'sequential_finite'\n",
    "#sensi_opt = 'direct_kaug'\n",
    "\n",
    "# specify model for different modes\n",
    "if (sensi_opt == 'sequential_finite'):\n",
    "    args_ = [True, False]\n",
    "    \n",
    "elif (sensi_opt =='direct_kaug'):\n",
    "    args_ = [True, True]\n",
    "    \n",
    "# define an experiment\n",
    "#exp1 = generate_exp(293.15, 0.15, 0)\n",
    "exp1 = generate_exp(293.15, 0.15)"
   ]
  },
  {
   "cell_type": "code",
   "execution_count": null,
   "id": "c0c8cf4a",
   "metadata": {
    "scrolled": true
   },
   "outputs": [],
   "source": [
    "doe_object = DesignOfExperiments(parameter_dict, dv_pass,\n",
    "                                 measure_class, model_integrate,\n",
    "                                prior_FIM=prior_pass, discretize_model=None, args=args_)\n",
    "\n",
    "# Read the solution stored\n",
    "read_name = '/media/psf/Home/CCSI-Toolset/fixed_bed_adsorption/fixed-bed-priors/20220205_293_293_40_5e6' \n",
    "\n",
    "# use .compute_FIM() function\n",
    "result = doe_object.compute_FIM(exp1, mode=sensi_opt, FIM_store_name = 'fixed_bed.csv', \n",
    "                                store_output = None, read_output=read_name,\n",
    "                                extract_single_model = extract3_v2,\n",
    "                                formula='central')\n",
    "\n",
    "# analyze the result object\n",
    "result.calculate_FIM(doe_object.design_values)\n",
    "    \n",
    "    "
   ]
  },
  {
   "cell_type": "code",
   "execution_count": null,
   "id": "36e3a3ef",
   "metadata": {
    "scrolled": false
   },
   "outputs": [],
   "source": [
    "print('======Result summary======')\n",
    "print('Four design criteria log10() value:')\n",
    "print('A-optimality:', np.log10(result.trace))\n",
    "print('D-optimality:', np.log10(result.det))\n",
    "print('E-optimality:', np.log10(result.min_eig))\n",
    "print('Modified E-optimality:', np.log10(result.cond))"
   ]
  },
  {
   "cell_type": "code",
   "execution_count": null,
   "id": "e03e6a84",
   "metadata": {},
   "outputs": [],
   "source": [
    "# Addiontional: to store the solution for one specific model \n",
    "#dataframe = extract3_v2(doe_object.models[0])\n",
    "#dataframe.to_csv('test6.csv')\n",
    "\n",
    "# Additional: to show the breakthrough curve for adsorption \n",
    "#breakthrough_modify2(doe_object.models[0])"
   ]
  },
  {
   "cell_type": "markdown",
   "id": "5d9677e3",
   "metadata": {},
   "source": [
    "## Gradient-based optimization "
   ]
  },
  {
   "cell_type": "code",
   "execution_count": null,
   "id": "5245c36b",
   "metadata": {},
   "outputs": [],
   "source": [
    "# define a starting point for optimization \n",
    "exp1 = generate_exp(293.15, 0.15)"
   ]
  },
  {
   "cell_type": "markdown",
   "id": "51aaba31",
   "metadata": {},
   "source": [
    "### Sequential initial solution "
   ]
  },
  {
   "cell_type": "code",
   "execution_count": null,
   "id": "5f307051",
   "metadata": {},
   "outputs": [],
   "source": [
    "fim_init = result.FIM\n",
    "print(fim_init)\n",
    "    \n",
    "l_init = np.linalg.cholesky(fim_init)\n",
    "print(l_init)"
   ]
  },
  {
   "cell_type": "code",
   "execution_count": null,
   "id": "44d47c9a",
   "metadata": {
    "scrolled": true
   },
   "outputs": [],
   "source": [
    "args_ = [True, False]\n",
    "\n",
    "doe_object = DesignOfExperiments(parameter_dict, dv_pass,\n",
    "                                 measure_class, model_integrate,\n",
    "                                prior_FIM=prior_pass, discretize_model=None, args=args_)\n",
    "\n",
    "square_result, optimize_result = doe_object.optimize_doe(exp1, if_optimize=True, if_Cholesky=True,\n",
    "                                                         scale_nominal_param_value=True, objective_option='det',\n",
    "                                                         L_initial=l_init, fim_initial=fim_init)\n"
   ]
  },
  {
   "cell_type": "code",
   "execution_count": null,
   "id": "a289906d",
   "metadata": {},
   "outputs": [],
   "source": [
    "print('======Result summary======')\n",
    "print('This optimization is solved with status:', optimize_result.status)\n",
    "print('It gives solution:', optimize_result.solution)\n",
    "print('The log10(OF) optimized is:', optimize_result.obj_value)\n",
    "print('The result FIM is:', optimize_result.FIM)\n",
    "\n",
    "t_list = []\n",
    "for t in optimize_result.model.t:\n",
    "    t_list.append(t)\n",
    "\n",
    "T_list = []\n",
    "for i in t_list:\n",
    "    T_list.append(value(optimize_result.model.T[i]))\n",
    "\n",
    "si=16\n",
    "plt.rc('axes', titlesize=si)\n",
    "plt.rc('axes', labelsize=si)\n",
    "plt.rc('xtick', labelsize=si)\n",
    "plt.rc('ytick', labelsize=si)\n",
    "plt.rc('legend', fontsize=12)\n",
    "    \n",
    "plt.plot(t_list, T_list, 'b', linewidth=2)\n",
    "#plt.scatter(t_list, T_list, 'b')\n",
    "plt.ylabel('T [$K$]')\n",
    "plt.xlabel('Time [$h$]')\n",
    "plt.show()"
   ]
  },
  {
   "cell_type": "markdown",
   "id": "1f38a72c",
   "metadata": {},
   "source": [
    "## Exploratory analysis "
   ]
  },
  {
   "cell_type": "markdown",
   "id": "e2e762d8",
   "metadata": {},
   "source": [
    "### Define enumeration ranges"
   ]
  },
  {
   "cell_type": "code",
   "execution_count": null,
   "id": "51e4c533",
   "metadata": {},
   "outputs": [],
   "source": [
    "# Define design ranges \n",
    "dv_apply_name = ['temp_feed','yfeed']\n",
    "# go over these designs\n",
    "design_ranges = [list(np.linspace(293,353,13)), list(np.linspace(0.1,0.4,13))]\n",
    "# control time points \n",
    "dv_apply_time = [[0],[0]]\n",
    "\n",
    "# Define experiments\n",
    "exp1 = generate_exp(313.15, 293.15, 0.15, 0)\n",
    "    \n",
    "# choose from 'simultaneous', 'sequential', 'sipopt'\n",
    "sensi_opt = 'sequential_finite'\n",
    "#sensi_opt = 'direct_kaug'"
   ]
  },
  {
   "cell_type": "markdown",
   "id": "c8ae03df",
   "metadata": {},
   "source": [
    "### Enumeration"
   ]
  },
  {
   "cell_type": "code",
   "execution_count": null,
   "id": "964f1494",
   "metadata": {
    "scrolled": true
   },
   "outputs": [],
   "source": [
    "doe_object = DesignOfExperiments(parameter_dict, dv_pass,\n",
    "                                 measure_class, createmod,\n",
    "                                prior_FIM=prior_pass, discretize_model=None, args=args_)\n",
    "\n",
    "all_fim = doe_object.run_grid_search(exp1, design_ranges,dv_apply_name, dv_apply_time, \n",
    "                                     mode=sensi_opt, tee_option=True,\n",
    "                                    scale_nominal_param_value=True, \n",
    "                                     store_name='20211031_heatmap'\n",
    "                                    )"
   ]
  },
  {
   "cell_type": "markdown",
   "id": "94bf96f4",
   "metadata": {},
   "source": [
    "### Draw heatmaps"
   ]
  },
  {
   "cell_type": "code",
   "execution_count": null,
   "id": "d32338c6",
   "metadata": {},
   "outputs": [],
   "source": [
    "fixed = {}\n",
    "all_fim.figure_drawing(fixed, ['temp_feed','y'], 'fixed bed', '$T_{feed}$ [K]', 'y [mol%]' )"
   ]
  }
 ],
 "metadata": {
  "kernelspec": {
   "display_name": "Python 3 (ipykernel)",
   "language": "python",
   "name": "python3"
  },
  "language_info": {
   "codemirror_mode": {
    "name": "ipython",
    "version": 3
   },
   "file_extension": ".py",
   "mimetype": "text/x-python",
   "name": "python",
   "nbconvert_exporter": "python",
   "pygments_lexer": "ipython3",
   "version": "3.7.11"
  }
 },
 "nbformat": 4,
 "nbformat_minor": 5
}
