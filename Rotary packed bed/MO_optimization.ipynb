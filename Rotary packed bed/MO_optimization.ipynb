{
 "cells": [
  {
   "cell_type": "code",
   "execution_count": 1,
   "id": "6cb21f97",
   "metadata": {},
   "outputs": [],
   "source": [
    "import numpy as np\n",
    "import pandas as pd\n",
    "import pyomo.environ as pyo\n",
    "from measure_optimize import MeasurementOptimizer, DataProcess, CovarianceStructure, ObjectiveLib\n",
    "#import matplotlib.pyplot as plt\n",
    "import pickle "
   ]
  },
  {
   "cell_type": "code",
   "execution_count": 2,
   "id": "6a63d65c",
   "metadata": {},
   "outputs": [],
   "source": [
    "Nt = 1\n",
    "\n",
    "# they are set up but not work\n",
    "max_manual_num = 100\n",
    "min_interval_num = 100"
   ]
  },
  {
   "cell_type": "code",
   "execution_count": 3,
   "id": "a5102c74",
   "metadata": {},
   "outputs": [],
   "source": [
    "#measure_names = [\"y_CO2\", \"C_CO2\", \"C_N2\", \"Tg\", \"Pg\", \"vg\", \"q_CO2\",\"Ts\", \"y_theta\"]\n",
    "measure_names = [\"Tg\", \"Pg\", \"vg\", \"Ts\", \"y_CO2\",  \"C_CO2\", \"C_N2\",  \"q_CO2\",\"y_theta\"]\n",
    "num_measure = len(measure_names)\n",
    "\n",
    "#z_pos = 8\n",
    "#z_names = \"01234567\"\n",
    "z_pos = 3\n",
    "z_names = \"012\"\n",
    "\n",
    "o_pos = 3 \n",
    "o_names = \"012\"\n",
    "\n",
    "num_mod = 2 \n",
    "mod_names = \"ads\", \"des\"\n",
    "\n",
    "num_total = num_measure*z_pos*o_pos*num_mod\n",
    "\n",
    "all_ind = list(range(num_total))"
   ]
  },
  {
   "cell_type": "code",
   "execution_count": 4,
   "id": "4f1a1938",
   "metadata": {
    "scrolled": true
   },
   "outputs": [
    {
     "name": "stdout",
     "output_type": "stream",
     "text": [
      "[0, 0, 0, 0, 0, 0, 0, 0, 0, 0, 0, 0, 0, 0, 0, 0, 0, 0, 0, 0, 0, 0, 0, 0, 0, 0, 0, 0, 0, 0, 0, 0, 0, 0, 0, 0, 0, 0, 0, 0, 0, 0, 0, 0, 0, 0, 0, 0, 0, 0, 0, 0, 0, 0, 0, 0, 0, 0, 0, 0, 0, 0, 0, 0, 0, 0, 0, 0, 0, 0, 0, 0, 100, 100, 100, 100, 100, 100, 100, 100, 100, 100, 100, 100, 100, 100, 100, 100, 100, 100, 100, 100, 100, 100, 100, 100, 100, 100, 100, 100, 100, 100, 100, 100, 100, 100, 100, 100, 100, 100, 100, 100, 100, 100, 100, 100, 100, 100, 100, 100, 100, 100, 100, 100, 100, 100, 100, 100, 100, 100, 100, 100, 100, 100, 100, 100, 100, 100, 100, 100, 100, 100, 100, 100, 100, 100, 100, 100, 100, 100, 100, 100, 100, 100, 100, 100, 100, 100, 100, 100, 100, 100]\n"
     ]
    }
   ],
   "source": [
    "# name generator\n",
    "# CCO2, ADS, Z=0, O=0\n",
    "# CCO2, ADS, Z=1, O=0\n",
    "# ...\n",
    "# CCO2, ADS, Z=0, O=1\n",
    "#...\n",
    "# CCO2, DES, Z=0, O=0\n",
    "# CCO2, DES, Z=1, O=0\n",
    "# ...\n",
    "# CCO2, DES, Z=0, O=1\n",
    "# adsorption + desorption, ...\n",
    "\n",
    "def name_generator():\n",
    "    \n",
    "    name_list = []\n",
    "    static_costs = []\n",
    "    dynamic_costs = []\n",
    "    \n",
    "    \n",
    "    for m_n in measure_names:\n",
    "        for mod_n in mod_names:\n",
    "            if m_n in [\"Tg\", \"Pg\", \"vg\", \"Ts\"]:\n",
    "                static = 1000\n",
    "                dynamic = 0 \n",
    "            else:\n",
    "                static = 0 \n",
    "                dynamic = 100 \n",
    "            \n",
    "            for o in list(o_names):\n",
    "                for z in list(z_names):\n",
    "                    name = \"_\".join([m_n, z, o, mod_n])\n",
    "                    \n",
    "                    name_list.append(name)\n",
    "                    static_costs.append(static)\n",
    "                    dynamic_costs.append(dynamic)\n",
    "    \n",
    "    return name_list, static_costs, dynamic_costs\n",
    "\n",
    "all_names, static_cost, dynamic_cost = name_generator() \n",
    "print(dynamic_cost)"
   ]
  },
  {
   "cell_type": "code",
   "execution_count": 5,
   "id": "0d56bc84",
   "metadata": {},
   "outputs": [],
   "source": [
    "num_z_o = z_pos*o_pos     \n",
    "\n",
    "max_manual = [max_manual_num]*num_total\n",
    "min_time_interval = [min_interval_num]*num_total"
   ]
  },
  {
   "cell_type": "code",
   "execution_count": 6,
   "id": "3b478c04",
   "metadata": {},
   "outputs": [
    {
     "name": "stdout",
     "output_type": "stream",
     "text": [
      "                name  Q_index  static_cost  dynamic_cost  min_time_interval  \\\n",
      "0         Tg_0_0_ads        0         1000             0                100   \n",
      "1         Tg_1_0_ads        1         1000             0                100   \n",
      "2         Tg_2_0_ads        2         1000             0                100   \n",
      "3         Tg_0_1_ads        3         1000             0                100   \n",
      "4         Tg_1_1_ads        4         1000             0                100   \n",
      "..               ...      ...          ...           ...                ...   \n",
      "157  y_theta_1_1_des      157            0           100                100   \n",
      "158  y_theta_2_1_des      158            0           100                100   \n",
      "159  y_theta_0_2_des      159            0           100                100   \n",
      "160  y_theta_1_2_des      160            0           100                100   \n",
      "161  y_theta_2_2_des      161            0           100                100   \n",
      "\n",
      "     max_manual_number  \n",
      "0                  100  \n",
      "1                  100  \n",
      "2                  100  \n",
      "3                  100  \n",
      "4                  100  \n",
      "..                 ...  \n",
      "157                100  \n",
      "158                100  \n",
      "159                100  \n",
      "160                100  \n",
      "161                100  \n",
      "\n",
      "[162 rows x 6 columns]\n"
     ]
    }
   ],
   "source": [
    "measure_info = pd.DataFrame({\n",
    "    \"name\": all_names,\n",
    "    \"Q_index\": all_ind,\n",
    "        \"static_cost\": static_cost,\n",
    "    \"dynamic_cost\": dynamic_cost,\n",
    "    \"min_time_interval\": min_time_interval, \n",
    "    \"max_manual_number\": max_manual\n",
    "})\n",
    "\n",
    "print(measure_info)"
   ]
  },
  {
   "cell_type": "code",
   "execution_count": 7,
   "id": "6559659f",
   "metadata": {},
   "outputs": [
    {
     "name": "stdout",
     "output_type": "stream",
     "text": [
      "72 90\n"
     ]
    }
   ],
   "source": [
    "num_static = 4*num_mod*z_pos*o_pos\n",
    "num_dynamic  = 5*num_mod*z_pos*o_pos\n",
    "\n",
    "print(num_static, num_dynamic)\n",
    "num_total = num_static+num_dynamic"
   ]
  },
  {
   "cell_type": "code",
   "execution_count": 9,
   "id": "ab3363d5",
   "metadata": {},
   "outputs": [
    {
     "name": "stdout",
     "output_type": "stream",
     "text": [
      "(162, 1, 5)\n",
      "[[0.01424043941256059, -0.09380282162396725, -0.06041254277988628, 0.04913281242124867, -0.0004855924942148704]]\n"
     ]
    }
   ],
   "source": [
    "dataObject = DataProcess()\n",
    "dataObject.read_jacobian('./MO_QVs/Q_z3')\n",
    "Q = dataObject.get_Q_list(list(range(num_static)), list(range(num_dynamic)), Nt)\n",
    "\n",
    "print(np.shape(Q))\n",
    "\n",
    "print(Q[1])"
   ]
  },
  {
   "cell_type": "code",
   "execution_count": 10,
   "id": "defa8e37",
   "metadata": {},
   "outputs": [],
   "source": [
    "## error covariance \n",
    "file = open(\"./MO_QVs/Var_z3\", \"rb\")\n",
    "data = pickle.load(file)\n",
    "file.close()\n",
    "\n",
    "error_cov = np.zeros((num_total, num_total))\n",
    "\n",
    "for i in range(num_total):\n",
    "    error_cov[i,i] = data[i]"
   ]
  },
  {
   "cell_type": "code",
   "execution_count": 12,
   "id": "9016bd61",
   "metadata": {},
   "outputs": [
    {
     "name": "stdout",
     "output_type": "stream",
     "text": [
      "Covariances are between measurements at the same time.\n",
      "(26244, 5, 5)\n"
     ]
    }
   ],
   "source": [
    "calculator = MeasurementOptimizer(Q, measure_info, error_cov=error_cov, error_opt=CovarianceStructure.measure_correlation, verbose=True)\n",
    "\n",
    "\n",
    "fim_expect = calculator.fim_computation()\n",
    "\n",
    "print(np.shape(calculator.fim_collection))"
   ]
  },
  {
   "cell_type": "code",
   "execution_count": 13,
   "id": "09ca845f",
   "metadata": {},
   "outputs": [
    {
     "name": "stdout",
     "output_type": "stream",
     "text": [
      "[[0.011414240197826785, -0.06912939982116605, -0.034850453503580174, 0.024804195011498376, 0.0003070317130399114], [-0.06912939982116605, 0.41867648102801497, 0.21106888346862096, -0.15022455147899497, -0.0018595121252621503], [-0.034850453503580174, 0.21106888346862096, 0.10640691700499247, -0.07573324461023205, -0.0009374425501803672], [0.024804195011498373, -0.15022455147899494, -0.07573324461023205, 0.05390179981367319, 0.0006672081849483382], [0.00030703171303991133, -0.0018595121252621503, -0.0009374425501803673, 0.0006672081849483382, 8.258847823280495e-06]]\n"
     ]
    }
   ],
   "source": []
  },
  {
   "cell_type": "code",
   "execution_count": 14,
   "id": "27b1e06d",
   "metadata": {},
   "outputs": [],
   "source": [
    "#with open('./kinetics_results/May2_3000_a', 'rb') as f:\n",
    "#    init_cov_y = pickle.load(f)\n",
    "#print(init_cov_y)\n",
    "\n",
    "fim_prior = [[0]*5 for _ in range(5)]\n",
    "\n",
    "for _ in range(5):\n",
    "    fim_prior[_][_] = 1 \n",
    "    \n",
    "fim_prior = np.asarray(fim_prior)"
   ]
  },
  {
   "cell_type": "code",
   "execution_count": 15,
   "id": "7bed28e9",
   "metadata": {},
   "outputs": [],
   "source": [
    "mip_option = False\n",
    "objective = ObjectiveLib.A\n",
    "sparse_opt = True\n",
    "fix_opt = False\n",
    "\n",
    "manual_num = 100\n",
    "budget_opt = 10000\n",
    "\n",
    "total_manual_init = 0\n",
    "dynamic_install_init = [1]*num_total \n",
    "\n",
    "num_dynamic_time = [0]\n",
    "\n",
    "#static_dynamic = [[0,3],[1,4],[2,5]]\n",
    "#time_interval_for_all = True\n",
    "\n",
    "#dynamic_time_dict = {}\n",
    "#for i, tim in enumerate(num_dynamic_time[1:]):\n",
    "#    dynamic_time_dict[i] = np.round(tim, decimals=2)\n",
    "    \n",
    "#print(dynamic_time_dict)"
   ]
  },
  {
   "cell_type": "code",
   "execution_count": null,
   "id": "2b6efdc3",
   "metadata": {
    "scrolled": true
   },
   "outputs": [
    {
     "name": "stdout",
     "output_type": "stream",
     "text": [
      "Ipopt 3.13.2: linear_solver=ma57\n",
      "\n",
      "\n",
      "******************************************************************************\n",
      "This program contains Ipopt, a library for large-scale nonlinear optimization.\n",
      " Ipopt is released as open source code under the Eclipse Public License (EPL).\n",
      "         For more information visit http://projects.coin-or.org/Ipopt\n",
      "\n",
      "This version of Ipopt was compiled from source code available at\n",
      "    https://github.com/IDAES/Ipopt as part of the Institute for the Design of\n",
      "    Advanced Energy Systems Process Systems Engineering Framework (IDAES PSE\n",
      "    Framework) Copyright (c) 2018-2019. See https://github.com/IDAES/idaes-pse.\n",
      "\n",
      "This version of Ipopt was compiled using HSL, a collection of Fortran codes\n",
      "    for large-scale scientific computation.  All technical papers, sales and\n",
      "    publicity material resulting from use of the HSL codes within IPOPT must\n",
      "    contain the following acknowledgement:\n",
      "        HSL, a collection of Fortran codes for large-scale scientific\n",
      "        computation. See http://www.hsl.rl.ac.uk.\n",
      "******************************************************************************\n",
      "\n",
      "This is Ipopt version 3.13.2, running with linear solver ma57.\n",
      "\n",
      "Number of nonzeros in equality constraint Jacobian...:     2474\n",
      "Number of nonzeros in inequality constraint Jacobian.:    91829\n",
      "Number of nonzeros in Lagrangian Hessian.............:        0\n",
      "\n",
      "Total number of variables............................:    13310\n",
      "                     variables with only lower bounds:        0\n",
      "                variables with lower and upper bounds:    13293\n",
      "                     variables with only upper bounds:        0\n",
      "Total number of equality constraints.................:       17\n",
      "Total number of inequality constraints...............:    39485\n",
      "        inequality constraints with only lower bounds:        0\n",
      "   inequality constraints with lower and upper bounds:        0\n",
      "        inequality constraints with only upper bounds:    39485\n",
      "\n",
      "iter    objective    inf_pr   inf_du lg(mu)  ||d||  lg(rg) alpha_du alpha_pr  ls\n",
      "   0 -5.0000000e+00 3.88e+11 1.00e+00  -1.0 0.00e+00    -  0.00e+00 0.00e+00   0\n",
      "   1 -5.9815739e+09 3.88e+11 1.86e+00  -1.0 2.55e+19    -  2.59e-10 1.39e-10f  1\n",
      "   2 -6.0437336e+09 3.88e+11 2.81e+02  -1.0 3.83e+18    -  9.59e-10 9.60e-12f  1\n",
      "   3 -6.3311442e+09 3.88e+11 5.85e+02  -1.0 1.78e+17    -  1.95e-09 9.35e-10f  1\n",
      "   4 -6.5009777e+09 3.88e+11 9.61e+02  -1.0 3.11e+17    -  1.26e-09 3.20e-10f  1\n",
      "   5 -6.5236724e+09 3.88e+11 3.30e+03  -1.0 1.11e+16    -  6.21e-09 8.52e-10f  1\n",
      "   6 -6.6313849e+09 3.88e+11 3.74e+03  -1.0 1.40e+16    -  3.98e-09 3.08e-09f  1\n",
      "   7 -6.6493229e+09 3.88e+11 8.54e+03  -1.0 5.87e+15    -  1.04e-08 1.50e-09f  1\n",
      "   8 -6.6709418e+09 3.88e+11 1.97e+04  -1.0 2.14e+15    -  2.44e-08 4.48e-09f  1\n",
      "   9 -6.6976579e+09 3.88e+11 2.57e+04  -1.0 8.76e+14    -  3.76e-08 2.73e-08f  1\n",
      "iter    objective    inf_pr   inf_du lg(mu)  ||d||  lg(rg) alpha_du alpha_pr  ls\n",
      "  10 -6.7091804e+09 3.88e+11 4.97e+04  -1.0 1.00e+15    -  5.09e-08 1.04e-08f  1\n",
      "  11 -6.7244882e+09 3.88e+11 7.55e+04  -1.0 6.43e+14    -  6.47e-08 2.16e-08f  1\n",
      "  12 -6.7331923e+09 3.88e+11 1.11e+05  -1.0 2.33e+14    -  9.34e-08 3.39e-08f  1\n",
      "  13 -6.7392489e+09 3.88e+11 1.64e+05  -1.0 9.54e+13    -  1.41e-07 5.26e-08f  1\n",
      "  14 -6.7423674e+09 3.88e+11 2.62e+05  -1.0 2.54e+13    -  2.37e-07 7.42e-08f  1\n",
      "  15 -6.7427132e+09 3.88e+11 1.24e+06  -1.0 6.76e+11    -  1.82e-06 1.82e-07f  1\n",
      "  16 -6.7445015e+09 3.88e+11 1.05e+06  -1.0 7.07e+11    -  1.01e-06 1.34e-06f  1\n",
      "  17 -6.7447194e+09 3.88e+11 3.03e+06  -1.0 5.23e+11    -  3.53e-06 2.28e-07f  1\n",
      "  18 -6.7464751e+09 3.88e+11 3.75e+07  -1.0 3.93e+11    -  5.99e-05 2.57e-06f  1\n",
      "  19 -6.7825256e+09 3.88e+11 2.79e+07  -1.0 3.88e+11    -  3.79e-05 5.39e-05f  1\n",
      "iter    objective    inf_pr   inf_du lg(mu)  ||d||  lg(rg) alpha_du alpha_pr  ls\n",
      "  20 -6.7862404e+09 3.88e+11 8.00e+07  -1.0 3.88e+11    -  9.24e-05 5.56e-06f  1\n",
      "  21 -6.8058943e+09 3.88e+11 1.43e+08  -1.0 3.88e+11    -  1.34e-04 2.94e-05f  1\n",
      "  22 -6.8704463e+09 3.88e+11 1.68e+08  -1.0 3.88e+11    -  1.39e-04 9.67e-05f  1\n",
      "  23 -6.9059421e+09 3.88e+11 3.01e+08  -1.0 3.88e+11    -  2.74e-04 5.32e-05f  1\n",
      "  24 -7.0030873e+09 3.87e+11 3.99e+08  -1.0 3.88e+11    -  3.09e-04 1.46e-04f  1\n",
      "  25 -7.1135832e+09 3.87e+11 6.07e+08  -1.0 3.87e+11    -  5.13e-04 1.66e-04f  1\n",
      "  26 -7.2702899e+09 3.87e+11 9.58e+08  -1.0 3.87e+11    -  8.20e-04 2.35e-04f  1\n",
      "  27 -7.6437258e+09 3.87e+11 1.25e+09  -1.0 3.87e+11    -  1.04e-03 5.60e-04f  1\n",
      "  28 -7.9276619e+09 3.87e+11 2.05e+09  -1.0 3.87e+11    -  1.78e-03 4.26e-04f  1\n",
      "  29 -8.4556766e+09 3.87e+11 3.00e+09  -1.0 3.87e+11    -  2.38e-03 7.92e-04f  1\n",
      "iter    objective    inf_pr   inf_du lg(mu)  ||d||  lg(rg) alpha_du alpha_pr  ls\n",
      "  30 -9.1460179e+09 3.86e+11 4.56e+09  -1.0 3.87e+11    -  3.65e-03 1.04e-03f  1\n",
      "  31 -1.0126493e+10 3.86e+11 6.84e+09  -1.0 3.86e+11    -  5.33e-03 1.47e-03f  1\n",
      "  32 -1.2333901e+10 3.84e+11 9.46e+09  -1.0 3.86e+11    -  7.79e-03 3.32e-03f  1\n",
      "  33 -1.4037116e+10 3.83e+11 1.56e+10  -1.0 3.84e+11    -  1.30e-02 2.57e-03f  1\n",
      "  34 -1.6565734e+10 3.82e+11 2.23e+10  -1.0 3.83e+11    -  1.56e-02 3.83e-03f  1\n",
      "  35 -2.0096580e+10 3.80e+11 3.45e+10  -1.0 3.82e+11    -  2.71e-02 5.37e-03f  1\n",
      "  36 -2.8356642e+10 3.75e+11 4.45e+10  -1.0 3.80e+11    -  3.15e-02 1.26e-02f  1\n",
      "  37 -4.9220270e+10 3.63e+11 5.28e+10  -1.0 3.75e+11    -  5.04e-02 3.23e-02f  1\n",
      "  38 -6.8659018e+10 3.52e+11 8.69e+10  -1.0 3.63e+11    -  1.01e-01 3.11e-02f  1\n",
      "  39 -9.3378767e+10 3.37e+11 1.08e+11  -1.0 3.52e+11    -  9.49e-02 4.08e-02f  1\n",
      "iter    objective    inf_pr   inf_du lg(mu)  ||d||  lg(rg) alpha_du alpha_pr  ls\n",
      "  40 -2.6064866e+11 2.40e+11 3.91e+10  -1.0 3.37e+11    -  1.97e-01 2.88e-01f  1\n",
      "  41 -4.1755032e+11 1.49e+11 3.77e+10  -1.0 2.40e+11    -  1.93e-01 3.79e-01f  1\n",
      "  42 -6.0916540e+11 3.78e+10 8.49e+09  -1.0 1.49e+11    -  8.13e-01 7.46e-01f  1\n",
      "  43 -6.2090625e+11 3.10e+10 8.27e+09  -1.0 3.78e+10    -  2.06e-01 1.80e-01f  1\n",
      "  44 -6.2806007e+11 2.69e+10 5.61e+09  -1.0 3.10e+10    -  9.47e-02 1.34e-01f  1\n",
      "  45 -6.4852198e+11 1.50e+10 7.85e+09  -1.0 2.69e+10    -  1.36e-01 4.42e-01f  1\n",
      "  46 -6.6375603e+11 6.15e+09 1.46e+10  -1.0 1.50e+10    -  2.22e-01 5.90e-01f  1\n",
      "  47 -6.7023466e+11 2.39e+09 1.74e+10  -1.0 6.15e+09    -  1.15e-01 6.11e-01f  1\n",
      "  48 -6.7109756e+11 1.89e+09 1.55e+10  -1.0 2.39e+09    -  1.19e-01 2.10e-01f  1\n",
      "  49 -6.7237049e+11 1.15e+09 1.44e+10  -1.0 1.89e+09    -  9.51e-02 3.91e-01f  1\n",
      "iter    objective    inf_pr   inf_du lg(mu)  ||d||  lg(rg) alpha_du alpha_pr  ls\n",
      "  50 -6.7292884e+11 8.26e+08 1.25e+10  -1.0 1.15e+09    -  1.28e-01 2.82e-01f  1\n",
      "  51 -6.7342229e+11 5.40e+08 1.06e+10  -1.0 8.26e+08    -  1.08e-01 3.47e-01f  1\n",
      "  52 -6.7371159e+11 3.72e+08 9.52e+09  -1.0 5.40e+08    -  1.15e-01 3.11e-01f  1\n",
      "  53 -6.7391904e+11 2.51e+08 7.83e+09  -1.0 3.72e+08    -  1.42e-01 3.24e-01f  1\n",
      "  54 -6.7406505e+11 1.66e+08 7.13e+09  -1.0 2.51e+08    -  1.01e-01 3.37e-01f  1\n",
      "  55 -6.7415613e+11 1.14e+08 6.38e+09  -1.0 1.66e+08    -  1.13e-01 3.18e-01f  1\n",
      "  56 -6.7421975e+11 7.66e+07 5.71e+09  -1.0 1.14e+08    -  1.12e-01 3.25e-01f  1\n",
      "  57 -6.7426268e+11 5.17e+07 5.11e+09  -1.0 7.66e+07    -  1.08e-01 3.25e-01f  1\n",
      "  58 -6.7429220e+11 3.45e+07 4.61e+09  -1.0 5.17e+07    -  1.02e-01 3.32e-01f  1\n",
      "  59 -6.7431230e+11 2.28e+07 4.17e+09  -1.0 3.45e+07    -  9.86e-02 3.38e-01f  1\n",
      "iter    objective    inf_pr   inf_du lg(mu)  ||d||  lg(rg) alpha_du alpha_pr  ls\n",
      "  60 -6.7432637e+11 1.47e+07 3.73e+09  -1.0 2.28e+07    -  1.07e-01 3.58e-01f  1\n",
      "  61 -6.7433651e+11 8.78e+06 3.35e+09  -1.0 1.47e+07    -  1.02e-01 4.01e-01f  1\n",
      "  62 -6.7434339e+11 4.79e+06 2.66e+09  -1.0 8.79e+06    -  2.08e-01 4.55e-01f  1\n",
      "  63 -6.7434857e+11 1.78e+06 2.29e+09  -1.0 4.79e+06    -  1.40e-01 6.28e-01f  1\n",
      "Reallocating memory for MA57: lfact (899720)\n",
      "  64 -6.7435065e+11 5.71e+05 1.87e+09  -1.0 1.78e+06    -  1.86e-01 6.80e-01f  1\n",
      "Reallocating memory for MA57: lfact (15858597)\n",
      "  65 -6.7435143e+11 1.22e+05 1.64e+09  -1.0 5.71e+05    -  1.21e-01 7.87e-01f  1\n",
      "  66 -6.7435159e+11 2.35e+04 1.24e+09  -1.0 1.22e+05    -  2.44e-01 8.06e-01f  1\n",
      "Reallocating memory for MA57: lfact (17643228)\n",
      "  67 -6.7435163e+11 2.48e+03 1.00e+09  -1.0 2.35e+04    -  1.94e-01 8.94e-01f  1\n",
      "  68 -6.7435163e+11 3.61e-01 2.23e+08  -1.0 2.49e+03    -  7.77e-01 1.00e+00f  1\n"
     ]
    },
    {
     "name": "stdout",
     "output_type": "stream",
     "text": [
      "  69 -6.7435163e+11 1.83e-04 1.45e+08  -1.0 2.98e+00    -  3.46e-01 1.00e+00f  1\n",
      "iter    objective    inf_pr   inf_du lg(mu)  ||d||  lg(rg) alpha_du alpha_pr  ls\n",
      "  70 -6.7435163e+11 6.10e-05 1.22e-04  -1.0 2.12e+00    -  1.00e+00 1.00e+00h  1\n",
      "  71 -6.7435164e+11 1.83e-04 2.02e+02  -5.7 4.72e+02    -  3.65e-01 6.04e-01f  1\n",
      "Reallocating memory for MA57: lfact (21161963)\n",
      "  72 -6.7435164e+11 3.05e-04 4.64e+02  -5.7 4.42e+02    -  9.41e-02 3.28e-01f  1\n",
      "  73 -6.7435164e+11 3.66e-04 3.95e+02  -5.7 4.56e+02    -  1.50e-01 1.51e-01f  1\n",
      "  74 -6.7435164e+11 2.44e-04 1.75e+02  -5.7 3.39e+02    -  1.91e-01 8.33e-02f  1\n",
      "Reallocating memory for MA57: lfact (23027194)\n",
      "  75 -6.7435164e+11 2.00e-04 2.75e+02  -5.7 3.55e+02    -  1.51e-01 2.41e-01f  1\n",
      "  76 -6.7435164e+11 4.88e-04 3.22e+02  -5.7 3.48e+02    -  2.01e-01 2.71e-01f  1\n",
      "Reallocating memory for MA57: lfact (25457761)\n",
      "  77 -6.7435164e+11 1.83e-04 5.93e+02  -5.7 2.78e+02    -  1.62e-01 3.79e-01f  1\n",
      "  78 -6.7435164e+11 9.78e-05 2.45e+02  -5.7 1.55e+02    -  2.06e-01 5.61e-02f  1\n",
      "  79 -6.7435164e+11 7.76e-05 1.88e+02  -5.7 1.38e+02    -  1.78e-01 1.69e-01f  1\n",
      "Reallocating memory for MA57: lfact (27764980)\n",
      "iter    objective    inf_pr   inf_du lg(mu)  ||d||  lg(rg) alpha_du alpha_pr  ls\n",
      "  80 -6.7435164e+11 2.44e-04 4.25e+02  -5.7 1.27e+02    -  1.96e-01 3.78e-01f  1\n",
      "Reallocating memory for MA57: lfact (30270081)\n",
      "  81 -6.7435164e+11 1.83e-04 9.20e+02  -5.7 9.32e+01    -  3.56e-01 7.88e-01f  1\n",
      "Reallocating memory for MA57: lfact (38169990)\n",
      "In iteration 81, 1 Slack too small, adjusting variable bound\n",
      "  82 -6.7435164e+11 1.07e-04 5.19e+02  -5.7 2.40e+01    -  7.68e-01 9.84e-01f  1\n",
      "Reallocating memory for MA57: lfact (95596432)\n",
      "In iteration 82, 2 Slacks too small, adjusting variable bounds\n",
      "  83 -6.7435164e+11 3.05e-04 7.79e+01  -5.7 1.17e+00    -  9.00e-01 9.25e-01f  1\n",
      "Reallocating memory for MA57: lfact (118578928)\n",
      "In iteration 83, 2 Slacks too small, adjusting variable bounds\n",
      "  84 -6.7435164e+11 1.83e-04 6.21e+01  -5.7 9.55e-02    -  1.00e+00 9.28e-01f  1\n",
      "Reallocating memory for MA57: lfact (129148853)\n",
      "In iteration 84, 2 Slacks too small, adjusting variable bounds\n",
      "  85 -6.7435164e+11 1.22e-04 7.63e-06  -5.7 6.13e-03    -  1.00e+00 1.00e+00f  1\n",
      "In iteration 85, 3 Slacks too small, adjusting variable bounds\n",
      "  86 -6.7435164e+11 6.10e-05 4.80e+03  -9.0 2.94e-02    -  1.00e+00 3.29e-01f  1\n",
      "In iteration 86, 3 Slacks too small, adjusting variable bounds\n",
      "  87 -6.7435164e+11 1.17e-04 4.02e+03  -9.0 1.83e-02    -  1.00e+00 3.57e-01f  1\n",
      "In iteration 87, 3 Slacks too small, adjusting variable bounds\n",
      "  88 -6.7435164e+11 1.22e-04 3.25e+03  -9.0 1.15e-02    -  1.00e+00 4.39e-01f  1\n",
      "Reallocating memory for MA57: lfact (138299871)\n",
      "In iteration 88, 3 Slacks too small, adjusting variable bounds\n",
      "  89 -6.7435164e+11 8.15e-05 3.69e+03  -9.0 6.35e-03    -  8.56e-01 2.90e-01h  1\n",
      "In iteration 89, 3 Slacks too small, adjusting variable bounds\n",
      "iter    objective    inf_pr   inf_du lg(mu)  ||d||  lg(rg) alpha_du alpha_pr  ls\n",
      "  90 -6.7435164e+11 6.10e-05 3.07e+03  -9.0 4.47e-03    -  6.76e-01 3.54e-01h  1\n",
      "In iteration 90, 3 Slacks too small, adjusting variable bounds\n",
      "  91 -6.7435164e+11 6.10e-05 2.24e+03  -9.0 2.81e-03    -  4.87e-01 3.77e-01h  1\n",
      "In iteration 91, 28 Slacks too small, adjusting variable bounds\n",
      "  92 -6.7435164e+11 1.22e-04 3.40e+02  -9.0 1.65e-03    -  3.47e-01 5.24e-01h  1\n",
      "Reallocating memory for MA57: lfact (146156482)\n",
      "In iteration 92, 26 Slacks too small, adjusting variable bounds\n",
      "  93 -6.7435164e+11 6.10e-05 4.01e+02  -9.0 8.66e-04    -  2.56e-01 3.52e-01h  1\n",
      "In iteration 93, 30 Slacks too small, adjusting variable bounds\n",
      "  94 -6.7435164e+11 6.10e-05 1.32e+03  -9.0 4.99e-04    -  2.06e-01 3.47e-01h  1\n",
      "In iteration 94, 18 Slacks too small, adjusting variable bounds\n",
      "  95 -6.7435164e+11 3.11e-05 1.93e+03  -9.0 3.35e-04    -  1.81e-01 2.98e-01h  1\n",
      "In iteration 95, 18 Slacks too small, adjusting variable bounds\n",
      "  96 -6.7435164e+11 3.65e-05 2.61e+03  -9.0 1.93e-04    -  1.59e-01 2.94e-01h  1\n",
      "Reallocating memory for MA57: lfact (508494242)\n",
      "In iteration 96, 17 Slacks too small, adjusting variable bounds\n",
      "  97 -6.7435164e+11 4.44e-05 4.21e+03  -9.0 1.26e-04    -  1.44e-01 4.10e-01h  1\n",
      "Reallocating memory for MA57: lfact (576155288)\n",
      "In iteration 97, 17 Slacks too small, adjusting variable bounds\n",
      "  98 -6.7435164e+11 1.64e-05 2.57e+03  -9.0 4.19e-05    -  1.49e-01 1.45e-02f  1\n",
      "In iteration 98, 17 Slacks too small, adjusting variable bounds\n",
      "  99 -6.7435164e+11 7.62e-05 2.30e+03  -9.0 4.50e-05    -  7.43e-02 6.33e-02f  1\n"
     ]
    }
   ],
   "source": [
    "mod = calculator.continuous_optimization(mixed_integer=mip_option, \n",
    "                      obj=objective, \n",
    "                    fix=fix_opt, \n",
    "                    upper_diagonal_only=sparse_opt, \n",
    "                    num_dynamic_t_name = num_dynamic_time, \n",
    "                    manual_number = manual_num, \n",
    "                    budget=budget_opt,\n",
    "                    #init_cov_y= init_cov_y,\n",
    "                    initial_fim = fim_prior,\n",
    "                    #dynamic_install_initial = dynamic_install_init, \n",
    "                    #static_dynamic_pair=static_dynamic,\n",
    "                    #time_interval_all_dynamic = time_interval_for_all,\n",
    "                    total_manual_num_init=total_manual_init)\n",
    "\n",
    "mod = calculator.solve(mod, mip_option=mip_option, objective = objective)"
   ]
  },
  {
   "cell_type": "code",
   "execution_count": null,
   "id": "b8c9d211",
   "metadata": {
    "scrolled": false
   },
   "outputs": [],
   "source": [
    "fim_result = np.zeros((5,5))\n",
    "for i in range(5):\n",
    "    for j in range(i,5):\n",
    "        fim_result[i,j] = fim_result[j,i] = pyo.value(mod.TotalFIM[i,j])\n",
    "        \n",
    "print(fim_result)  \n",
    "print('trace:', np.trace(fim_result))\n",
    "print('det:', np.linalg.det(fim_result))\n",
    "print(np.linalg.eigvals(fim_result))\n",
    "\n",
    "print(\"Pyomo OF:\", pyo.value(mod.Obj))\n",
    "print(\"Log_det:\", np.log(np.linalg.det(fim_result)))\n",
    "\n",
    "ans_y, sol_y = calculator.extract_solutions(mod)\n",
    "print('pyomo calculated cost:', pyo.value(mod.cost))"
   ]
  },
  {
   "cell_type": "markdown",
   "id": "7c796b02",
   "metadata": {},
   "source": [
    "### verify "
   ]
  },
  {
   "cell_type": "code",
   "execution_count": null,
   "id": "ba22a922",
   "metadata": {},
   "outputs": [],
   "source": [
    "## rank FIMs \n",
    "\n",
    "measure_names = [\n",
    "    'Tg_0', 'Tg_1', 'Tg_2', 'Pg_0', 'Pg_1', 'Pg_2', 'vg_0', 'vg_1', 'vg_2', \n",
    "    'Ts_0', 'Ts_1', 'Ts_2',\n",
    "    'y_CO2_0', 'y_CO2_1', 'y_CO2_2', 'C_CO2_0', 'C_CO2_1', \n",
    "                 'C_CO2_2', 'C_N2_0', 'C_N2_1', 'C_N2_2', \n",
    "                 'qCO2_0', 'qCO2_1', 'qCO2_2',  'ytheta_0', 'ytheta_1', 'ytheta_2']\n",
    "\n",
    "measure_lookup = {}\n",
    "\n",
    "for i, n in enumerate(measure_names):\n",
    "    measure_lookup[n] = i  \n",
    "\n",
    "\n",
    "idx_lookup_solid = [1,5,10]\n",
    "idx_lookup_gas = [5,20,40]\n",
    "\n",
    "num_t = len(idx_lookup_solid)"
   ]
  },
  {
   "cell_type": "code",
   "execution_count": null,
   "id": "903db568",
   "metadata": {},
   "outputs": [],
   "source": [
    "i=7\n",
    "\n",
    "idx = i*num_total+i \n",
    "\n",
    "print(calculator.fim_collection[idx])"
   ]
  },
  {
   "cell_type": "code",
   "execution_count": null,
   "id": "75079c10",
   "metadata": {},
   "outputs": [],
   "source": [
    "### If it's computing right FIMs \n",
    "\n",
    "def verify_FIM(name, time_idx): \n",
    "    \n",
    "    if name in ['qCO2_0', 'qCO2_1', 'qCO2_2', 'Ts_0', 'Ts_1', 'Ts_2', 'ytheta_0', 'ytheta_1', 'ytheta_2']:\n",
    "        lookup = idx_lookup_solid \n",
    "        \n",
    "    else:\n",
    "        lookup = idx_lookup_gas\n",
    "       \n",
    "    # index of this name+time index in MO package\n",
    "    idx_converted = measure_lookup[name]*num_t+lookup.index(time_idx)\n",
    "    print(\"should be the \", idx_converted)\n",
    "    \n",
    "    # find computed FIMs \n",
    "    file = open(\"./MO_FIMs/\"+name, \"rb\")\n",
    "    data = pickle.load(file)\n",
    "    file.close()\n",
    "\n",
    "    print(data[])\n",
    "    \n",
    "    "
   ]
  },
  {
   "cell_type": "code",
   "execution_count": null,
   "id": "5e5555bb",
   "metadata": {},
   "outputs": [],
   "source": []
  }
 ],
 "metadata": {
  "kernelspec": {
   "display_name": "Python 3 (ipykernel)",
   "language": "python",
   "name": "python3"
  },
  "language_info": {
   "codemirror_mode": {
    "name": "ipython",
    "version": 3
   },
   "file_extension": ".py",
   "mimetype": "text/x-python",
   "name": "python",
   "nbconvert_exporter": "python",
   "pygments_lexer": "ipython3",
   "version": "3.8.17"
  }
 },
 "nbformat": 4,
 "nbformat_minor": 5
}
