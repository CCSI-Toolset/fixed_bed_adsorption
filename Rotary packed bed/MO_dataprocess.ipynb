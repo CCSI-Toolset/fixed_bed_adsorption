{
 "cells": [
  {
   "cell_type": "code",
   "execution_count": 1,
   "id": "dd4f7613",
   "metadata": {},
   "outputs": [],
   "source": [
    "import pickle \n",
    "import numpy as np"
   ]
  },
  {
   "cell_type": "code",
   "execution_count": 4,
   "id": "63d806f6",
   "metadata": {},
   "outputs": [
    {
     "name": "stdout",
     "output_type": "stream",
     "text": [
      "(162,)\n"
     ]
    }
   ],
   "source": [
    "# name generator\n",
    "# CCO2, ADS, Z=0, O=0\n",
    "# CCO2, ADS, Z=1, O=0\n",
    "# ...\n",
    "# CCO2, ADS, Z=0, O=1\n",
    "#...\n",
    "# after all measurements are enumerated in adsorption model, begin to do desorption model\n",
    "\n",
    "#measure_names = ['y_CO2_0', 'y_CO2_1', 'y_CO2_2', 'C_CO2_0', 'C_CO2_1', \n",
    "#                 'C_CO2_2', 'C_N2_0', 'C_N2_1', 'C_N2_2', \n",
    "#                 'Tg_0', 'Tg_1', 'Tg_2', 'Pg_0', 'Pg_1', 'Pg_2', 'vg_0', 'vg_1', 'vg_2', \n",
    "#                 'qCO2_0', 'qCO2_1', 'qCO2_2', 'Ts_0', 'Ts_1', 'Ts_2', 'ytheta_0', 'ytheta_1', 'ytheta_2']\n",
    "\n",
    "measure_names = [\n",
    "    'Tg_0', 'Tg_1', 'Tg_2', 'Pg_0', 'Pg_1', 'Pg_2', 'vg_0', 'vg_1', 'vg_2', \n",
    "    'Ts_0', 'Ts_1', 'Ts_2',\n",
    "    'y_CO2_0', 'y_CO2_1', 'y_CO2_2', 'C_CO2_0', 'C_CO2_1', \n",
    "                 'C_CO2_2', 'C_N2_0', 'C_N2_1', 'C_N2_2', \n",
    "                 'qCO2_0', 'qCO2_1', 'qCO2_2',  'ytheta_0', 'ytheta_1', 'ytheta_2']\n",
    "\n",
    "#measure_names = [\"y_CO2_0\"]\n",
    "Q = [] \n",
    "\n",
    "\n",
    "for m in measure_names: \n",
    "    \n",
    "    if m in ['qCO2_0', 'qCO2_1', 'qCO2_2', 'Ts_0', 'Ts_1', 'Ts_2', 'ytheta_0', 'ytheta_1', 'ytheta_2']:\n",
    "        #idx_set = [1, 2, 3, 5, 6, 7, 8, 10] # 8 out of 11\n",
    "        #idx_set = [1,3,5,7,10] # 5 out of 11\n",
    "        idx_set = [1,5,10]\n",
    "    else:\n",
    "        #idx_set = [5, 10, 15, 20, 25, 30, 35, 40] # 8 out of 41\n",
    "        #idx_set = [5, 15, 25, 35, 40] # 5 out of 41\n",
    "        idx_set = [5, 20, 40]\n",
    "        \n",
    "    # ads \n",
    "    #file = open(\"./MO_QVs/\"+m, \"rb\")\n",
    "    file = open(\"./MO_QVs/Var_\"+m, \"rb\")\n",
    "    data = pickle.load(file)\n",
    "    file.close()\n",
    "    \n",
    "    name = \"ads_\"+m\n",
    "    \n",
    "    for ii in idx_set:\n",
    "        Q.append(data[name][ii])\n",
    "        \n",
    "    name_des = \"des_\"+m\n",
    "    \n",
    "    for jj in idx_set:\n",
    "        Q.append(data[name_des][jj])\n",
    "        \n",
    "    \n",
    "print(np.shape(Q))    \n",
    "    "
   ]
  },
  {
   "cell_type": "code",
   "execution_count": null,
   "id": "09f3e444",
   "metadata": {},
   "outputs": [],
   "source": [
    "print(Q[72])"
   ]
  },
  {
   "cell_type": "code",
   "execution_count": 5,
   "id": "05af9f21",
   "metadata": {},
   "outputs": [],
   "source": [
    "file = open(\"./MO_QVs/Var_z3\", \"wb\")\n",
    "pickle.dump(Q, file)\n",
    "file.close()"
   ]
  },
  {
   "cell_type": "code",
   "execution_count": null,
   "id": "bfa3d048",
   "metadata": {},
   "outputs": [],
   "source": [
    "file = open(\"./MO_Qs/\"+\"y_CO2_0\", \"rb\")\n",
    "data = pickle.load(file)\n",
    "file.close()\n",
    "\n",
    "print(data)"
   ]
  }
 ],
 "metadata": {
  "kernelspec": {
   "display_name": "Python 3 (ipykernel)",
   "language": "python",
   "name": "python3"
  },
  "language_info": {
   "codemirror_mode": {
    "name": "ipython",
    "version": 3
   },
   "file_extension": ".py",
   "mimetype": "text/x-python",
   "name": "python",
   "nbconvert_exporter": "python",
   "pygments_lexer": "ipython3",
   "version": "3.8.17"
  }
 },
 "nbformat": 4,
 "nbformat_minor": 5
}
