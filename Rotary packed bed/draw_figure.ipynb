{
 "cells": [
  {
   "cell_type": "markdown",
   "id": "ed28adec",
   "metadata": {},
   "source": [
    "# Figure drawing functions for RPB \n",
    "\n",
    "This notebook generates figures 4.2, 4.3, 4.4, and 4.5 in chapter 4 in Jialu's thesis. "
   ]
  },
  {
   "cell_type": "code",
   "execution_count": 13,
   "id": "7db6701b",
   "metadata": {},
   "outputs": [
    {
     "ename": "ModuleNotFoundError",
     "evalue": "No module named 'pyomo'",
     "output_type": "error",
     "traceback": [
      "\u001b[0;31m---------------------------------------------------------------------------\u001b[0m",
      "\u001b[0;31mModuleNotFoundError\u001b[0m                       Traceback (most recent call last)",
      "\u001b[0;32m/var/folders/bl/v2hzn0vs6tv6fx2tvby1z60w0000gn/T/ipykernel_23489/598878821.py\u001b[0m in \u001b[0;36m<module>\u001b[0;34m\u001b[0m\n\u001b[1;32m      3\u001b[0m \u001b[0;32mimport\u001b[0m \u001b[0mpickle\u001b[0m\u001b[0;34m\u001b[0m\u001b[0;34m\u001b[0m\u001b[0m\n\u001b[1;32m      4\u001b[0m \u001b[0;32mimport\u001b[0m \u001b[0mpandas\u001b[0m \u001b[0;32mas\u001b[0m \u001b[0mpd\u001b[0m\u001b[0;34m\u001b[0m\u001b[0;34m\u001b[0m\u001b[0m\n\u001b[0;32m----> 5\u001b[0;31m \u001b[0;32mfrom\u001b[0m \u001b[0mRPB_model_countercurrent\u001b[0m \u001b[0;32mimport\u001b[0m \u001b[0;34m*\u001b[0m\u001b[0;34m\u001b[0m\u001b[0;34m\u001b[0m\u001b[0m\n\u001b[0m",
      "\u001b[0;32m~/fixed_bed_adsorption/Rotary packed bed/RPB_model_countercurrent.py\u001b[0m in \u001b[0;36m<module>\u001b[0;34m\u001b[0m\n\u001b[1;32m     11\u001b[0m \u001b[0;32mimport\u001b[0m \u001b[0mtime\u001b[0m\u001b[0;34m\u001b[0m\u001b[0;34m\u001b[0m\u001b[0m\n\u001b[1;32m     12\u001b[0m \u001b[0;34m\u001b[0m\u001b[0m\n\u001b[0;32m---> 13\u001b[0;31m from pyomo.environ import (\n\u001b[0m\u001b[1;32m     14\u001b[0m     \u001b[0mConcreteModel\u001b[0m\u001b[0;34m,\u001b[0m\u001b[0;34m\u001b[0m\u001b[0;34m\u001b[0m\u001b[0m\n\u001b[1;32m     15\u001b[0m     \u001b[0mVar\u001b[0m\u001b[0;34m,\u001b[0m\u001b[0;34m\u001b[0m\u001b[0;34m\u001b[0m\u001b[0m\n",
      "\u001b[0;31mModuleNotFoundError\u001b[0m: No module named 'pyomo'"
     ]
    }
   ],
   "source": [
    "import matplotlib.pyplot as plt\n",
    "import numpy as np\n",
    "import pickle\n",
    "import pandas as pd\n",
    "from RPB_model_countercurrent import *"
   ]
  },
  {
   "cell_type": "markdown",
   "id": "a31a1139",
   "metadata": {},
   "source": [
    "## Figure 4.2 \n",
    "\n",
    "MO objectives change with budgets"
   ]
  },
  {
   "cell_type": "code",
   "execution_count": 2,
   "id": "fa7da610",
   "metadata": {},
   "outputs": [],
   "source": [
    "def read_fim(pre_name, after_name, x_ranges):\n",
    "    \"\"\"Read all FIMs in the given ranges, and return the log10(A)- and log10(D)-optimality\n",
    "    \n",
    "    Arguments \n",
    "    ---------\n",
    "    pre_name: string, file name pre string \n",
    "    after_name: string, file name string after the budget \n",
    "    x_ranges: a range of budgets \n",
    "    \n",
    "    Return \n",
    "    ------\n",
    "    a_ranges: a list including log10(trace) of the given budget ranges \n",
    "    d_ranges: a list including log10(determinant) of the given budget ranges \n",
    "    \"\"\"\n",
    "    # initialize A- and D-optimality ranges \n",
    "    a_ranges, d_ranges = [], []\n",
    "    # loop over every budget\n",
    "    for i in x_ranges:\n",
    "        # assemble file string names \n",
    "        name = pre_name + str(i) + after_name\n",
    "        # read FIM\n",
    "        with open(name, 'rb') as f:\n",
    "            fim = pickle.load(f)\n",
    "            f.close()\n",
    "        # get A-optimality ranges and D-optimality ranges\n",
    "        a_ranges.append(np.log10(np.trace(fim)))\n",
    "        d_ranges.append(np.log10(np.linalg.det(fim)))\n",
    "    return a_ranges, d_ranges\n"
   ]
  },
  {
   "cell_type": "code",
   "execution_count": 8,
   "id": "fe27fb6b",
   "metadata": {},
   "outputs": [
    {
     "name": "stdout",
     "output_type": "stream",
     "text": [
      "[9.732093014607184, 9.77480216112448, 9.808792591406771, 9.838793418714772, 9.866033621993497, 9.891178066825255, 9.914258483567508, 9.954280356814856, 9.99403001321937, 10.020403228924492, 10.054754900183495, 10.074284218409607] [13.57838298379182, 15.386500919101064, 15.56777735385663, 16.5303900490576, 16.823529170505108, 17.31280490606632, 17.500045583482198, 18.13037276601848, 18.587507617709473, 19.36148092114499, 19.782723591202075, 19.656861801509468]\n"
     ]
    }
   ],
   "source": [
    "# budget ranges used for the paper \n",
    "x_set = [ 2000, 2500, 3000, 3500, 4000, 4500, 5000, \n",
    "        6000, 7000, 8000,9000,10000] \n",
    "# A- and D-optimality ranges\n",
    "milp_a, milp_d = read_fim(\"./Countercurrent_results/MO_MILP_solution/updated_fim_\", # string name\n",
    "                          \"\", # no string after the budget\n",
    "                          x_set) # budget ranges\n",
    "print(milp_a, milp_d)"
   ]
  },
  {
   "cell_type": "code",
   "execution_count": 18,
   "id": "eedc6b4f",
   "metadata": {},
   "outputs": [],
   "source": [
    "def plot_MO_data(x=None, a_nlp=None, d_nlp=None, \n",
    "             objective = \"A\", benchmark_x=None, benchmark_a=None, benchmark_d=None, save=None):\n",
    "    \"\"\"\n",
    "    objective means these solutions are based on what objective function. \n",
    "    For e.g., if it's A, it means it's A-optimality solution. We can still analyze its determinant value. \n",
    "    \n",
    "    Arguments\n",
    "    ---------\n",
    "    x: budget range \n",
    "    a_nlp: log10(trace) of all budgets \n",
    "    d_nlp: log10(det) of all budgets \n",
    "    objective: \"A\" for A-optimality, \"D\" for D-optimality \n",
    "    benchmark_x: benchmark solution budgets \n",
    "    benchmark_a: benchmark solution A-optimality \n",
    "    benchmark_d: benchmark solution D-optimality \n",
    "    save: if True, save the fig\n",
    "    \"\"\"\n",
    "    # set up legends for NLP\n",
    "    label_nlp = \"NLP: A-optimality\"\n",
    "    color_minlp = \"red\"\n",
    "    scatter_minlp = \"*\"\n",
    "    color_nlp = \"blue\"\n",
    "    scatter_nlp = \".\"\n",
    "    marker_size=200\n",
    "        \n",
    "    # set up fonts \n",
    "    si=18\n",
    "    plt.rc('axes', titlesize=si)\n",
    "    plt.rc('axes', labelsize=si)\n",
    "    plt.rc('xtick', labelsize=si)\n",
    "    plt.rc('ytick', labelsize=si)\n",
    "    si_legend = 16\n",
    "        \n",
    "    # A-optimality figure\n",
    "    # A-optimality MO solution \n",
    "    if a_nlp is not None:\n",
    "        plt.scatter(x, a_nlp, color=color_minlp, \n",
    "                 s=marker_size, marker=scatter_minlp, label=label_nlp)\n",
    "    # A-optimality benchmark solution \n",
    "    if benchmark_a is not None:\n",
    "        plt.scatter(benchmark_x, benchmark_a, color = color_nlp, s=marker_size, marker=scatter_nlp)\n",
    "           \n",
    "    plt.xlabel('Budget $k', fontweight=\"bold\")\n",
    "    plt.ylabel('log$_{10}$(A-optimality)', fontweight=\"bold\")\n",
    "    #plt.legend(loc=\"lower right\", fontsize=si_legend)\n",
    "    plt.tight_layout()\n",
    "    if save is not None:\n",
    "        plt.savefig(save+'_trace.pdf')\n",
    "    plt.show()\n",
    "    \n",
    "\n",
    "    # D-optimality optimal solution \n",
    "    # D-optimality MO solution \n",
    "    if d_nlp is not None: \n",
    "        #plt.plot(x, d_nlp, linestyle=\"-\", color=color_nlp, markersize=marker_size, marker=scatter_nlp, label=label_nlp)\n",
    "        plt.scatter(x, d_nlp, color=color_minlp, \n",
    "                 s=marker_size, marker=scatter_minlp, label=label_nlp)\n",
    "    # D-optimality benchmark solution\n",
    "    if benchmark_d is not None:\n",
    "        plt.scatter(benchmark_x, benchmark_d, color = color_nlp, s=marker_size, marker=scatter_nlp)\n",
    "    \n",
    "    plt.xlabel('Budget $k', fontweight=\"bold\")\n",
    "    plt.ylabel('log$_{10}$(D-optimality)', fontweight=\"bold\")\n",
    "    #plt.legend(loc=\"lower right\", fontsize=si_legend)\n",
    "    plt.tight_layout()\n",
    "    if save is not None:\n",
    "        plt.savefig(save+'_det.pdf')\n",
    "    plt.show()\n"
   ]
  },
  {
   "cell_type": "code",
   "execution_count": 14,
   "id": "9c9e82ff",
   "metadata": {},
   "outputs": [],
   "source": [
    "def load_pickle(name): \n",
    "    \"\"\"Used for loading data from pickle file \n",
    "    \"\"\"\n",
    "    file = open(name, \"rb\")\n",
    "    data = pickle.load(file)\n",
    "    file.close()\n",
    "    return data\n",
    "def save_pickle(data, name):\n",
    "    \"\"\"Used for saving data to pickle file \n",
    "    \"\"\"\n",
    "    file = open(name, \"wb\")\n",
    "    pickle.dump(data, file)\n",
    "    file.close()"
   ]
  },
  {
   "cell_type": "code",
   "execution_count": 16,
   "id": "70522ee9",
   "metadata": {},
   "outputs": [],
   "source": [
    "# benchmark ranges \n",
    "ben_a = [1.6, 2.6, 3.6, 4.6, 5.4, 6.4]\n",
    "\n",
    "# benchmark A-optimality solutions \n",
    "a = load_pickle(\"./Countercurrent_results/MO_MILP_solution/benchmark_a\")\n",
    "# benchmark D-optimality solutions\n",
    "d = load_pickle(\"./Countercurrent_results/MO_MILP_solution/benchmark_a\")\n",
    "\n",
    "a = [np.log10(i) for i in a]\n",
    "d = [np.log10(i) for i in d]"
   ]
  },
  {
   "cell_type": "code",
   "execution_count": 19,
   "id": "68e9b9a4",
   "metadata": {
    "scrolled": true
   },
   "outputs": [
    {
     "data": {
      "image/png": "[encoded data removed]",
      "text/plain": [
       "<Figure size 432x288 with 1 Axes>"
      ]
     },
     "metadata": {
      "needs_background": "light"
     },
     "output_type": "display_data"
    },
    {
     "data": {
      "image/png": "[encoded data removed]",
      "text/plain": [
       "<Figure size 432x288 with 1 Axes>"
      ]
     },
     "metadata": {
      "needs_background": "light"
     },
     "output_type": "display_data"
    }
   ],
   "source": [
    "plot_MO_data(x=[i/1000 for i in x_set], a_nlp=milp_a, d_nlp=milp_d, \n",
    "             objective = \"A\", \n",
    "          benchmark_x = ben_a, \n",
    "          benchmark_a = a, \n",
    "          benchmark_d = d, \n",
    "          save=\"MILP\")\n"
   ]
  },
  {
   "cell_type": "markdown",
   "id": "951fb43b",
   "metadata": {},
   "source": [
    "## Figure 4.4 MBDoE heatmap "
   ]
  },
  {
   "cell_type": "code",
   "execution_count": 20,
   "id": "9024cecd",
   "metadata": {},
   "outputs": [],
   "source": [
    "def heatmap(\n",
    "        cri_a, \n",
    "        cri_d, \n",
    "        title_text,\n",
    "        xlabel_text,\n",
    "        ylabel_text,\n",
    "        font_axes=18,\n",
    "        font_tick=18,\n",
    "        log_scale=True,\n",
    "        save=None\n",
    "    ):\n",
    "    \"\"\"\n",
    "    Draw heatmap. Adapted from Pyomo.DoE: \n",
    "    https://github.com/Pyomo/pyomo/blob/9608e0e649b0f7763cc65d2232da8aeb5899f156/pyomo/contrib/doe/result.py#L603\n",
    "    \n",
    "    Arguments\n",
    "    ----------\n",
    "    cri_a: A-optimality in the range \n",
    "    cri_d: D-optimality in the range\n",
    "    title_text: name of the figure, a string\n",
    "    xlabel_text: x label title, a string.\n",
    "        In a 2D heatmap, it should be the second design variable in the design_ranges\n",
    "    ylabel_text: y label title, a string.\n",
    "        In a 2D heatmap, it should be the first design variable in the dv_ranges\n",
    "    font_axes: axes label font size\n",
    "    font_tick: tick label font size\n",
    "    log_scale: if True, the result matrix will be scaled by log10\n",
    "\n",
    "    Returns\n",
    "    --------\n",
    "    4 Figures of 2D heatmap for each criteria\n",
    "    \"\"\"\n",
    "    # decide if log scaled\n",
    "    if log_scale:\n",
    "        hes_a = np.log10(cri_a)\n",
    "        hes_d = np.log10(cri_d)\n",
    "    else:\n",
    "        hes_a = cri_a\n",
    "        hes_d = cri_d\n",
    "\n",
    "    # set heatmap x,y ranges\n",
    "    xLabel = x_range\n",
    "    yLabel = y_range\n",
    "\n",
    "    # A-optimality\n",
    "    fig = plt.figure()\n",
    "    plt.rc('axes', titlesize=font_axes)\n",
    "    plt.rc('axes', labelsize=font_axes)\n",
    "    plt.rc('xtick', labelsize=font_tick)\n",
    "    plt.rc('ytick', labelsize=font_tick)\n",
    "    ax = fig.add_subplot(111)\n",
    "    params = {'mathtext.default': 'regular'}\n",
    "    plt.rcParams.update(params)\n",
    "    ax.set_yticks(range(len(yLabel)))\n",
    "    ax.set_yticklabels(yLabel)\n",
    "    ax.set_ylabel(ylabel_text)\n",
    "    ax.set_xticks(range(len(xLabel)))\n",
    "    ax.set_xticklabels(xLabel)\n",
    "    ax.set_xlabel(xlabel_text)\n",
    "    im = ax.imshow(hes_a, cmap=plt.cm.hot_r)\n",
    "    ba = plt.colorbar(im)\n",
    "    ba.set_label('log$_{10}$(trace(FIM))')\n",
    "    plt.tight_layout()\n",
    "    if save is not None:\n",
    "        plt.savefig(save+'_trace.pdf')\n",
    "    plt.show()\n",
    "\n",
    "    # D-optimality\n",
    "    fig = plt.figure()\n",
    "    plt.rc('axes', titlesize=font_axes)\n",
    "    plt.rc('axes', labelsize=font_axes)\n",
    "    plt.rc('xtick', labelsize=font_tick)\n",
    "    plt.rc('ytick', labelsize=font_tick)\n",
    "    ax = fig.add_subplot(111)\n",
    "    params = {'mathtext.default': 'regular'}\n",
    "    plt.rcParams.update(params)\n",
    "    ax.set_yticks(range(len(yLabel)))\n",
    "    ax.set_yticklabels(yLabel)\n",
    "    ax.set_ylabel(ylabel_text)\n",
    "    ax.set_xticks(range(len(xLabel)))\n",
    "    ax.set_xticklabels(xLabel)\n",
    "    ax.set_xlabel(xlabel_text)\n",
    "    im = ax.imshow(hes_d, cmap=plt.cm.hot_r)\n",
    "    ba = plt.colorbar(im)\n",
    "    ba.set_label('log$_{10}$(det(FIM))')\n",
    "    plt.tight_layout()\n",
    "    if save is not None:\n",
    "        plt.savefig(save+'_det.pdf')\n",
    "    plt.show()"
   ]
  },
  {
   "cell_type": "code",
   "execution_count": 22,
   "id": "afa5dc95",
   "metadata": {},
   "outputs": [],
   "source": [
    "res_a = load_pickle(\"./Countercurrent_results/MBDoE_results/heatmap_a\")\n",
    "res_d = load_pickle(\"./Countercurrent_results/MBDoE_results/heatmap_d\")"
   ]
  },
  {
   "cell_type": "code",
   "execution_count": 23,
   "id": "b7a21c3b",
   "metadata": {
    "scrolled": true
   },
   "outputs": [
    {
     "data": {
      "image/png": "[encoded data removed]",
      "text/plain": [
       "<Figure size 432x288 with 2 Axes>"
      ]
     },
     "metadata": {
      "needs_background": "light"
     },
     "output_type": "display_data"
    },
    {
     "data": {
      "image/png": "[encoded data removed]",
      "text/plain": [
       "<Figure size 432x288 with 2 Axes>"
      ]
     },
     "metadata": {
      "needs_background": "light"
     },
     "output_type": "display_data"
    }
   ],
   "source": [
    "# specify x, y ranges\n",
    "x_range = [361, 362, 363, 364, 365]\n",
    "y_range = [391, 392, 393, 394]\n",
    "\n",
    "\n",
    "heatmap(res_a, res_d, \"heatmap-\", \"Ads.T$_{in}$ [K]\", \"Des.T$_{in}$ [K]\", log_scale=False, \n",
    "        save=\"heatmap-\")"
   ]
  },
  {
   "cell_type": "markdown",
   "id": "f9993f0f",
   "metadata": {},
   "source": [
    "## Figure 4.3 "
   ]
  },
  {
   "cell_type": "code",
   "execution_count": null,
   "id": "04b44397",
   "metadata": {},
   "outputs": [],
   "source": [
    "# create pyomo model\n",
    "RPB = full_model_creation(lean_temp_connection=True, configuration = \"counter-current\")"
   ]
  },
  {
   "cell_type": "code",
   "execution_count": null,
   "id": "5dfa53f1",
   "metadata": {},
   "outputs": [],
   "source": [
    "# load a previous solution and solve\n",
    "#from_json(RPB, fname=\"./BaseCase0213/base case solution 021324.json.gz\", gz=True)\n",
    "#from_json(RPB, fname=\"./MBDOE_sens_001/Tgin_des_391_001/Tgin_ads_365/Tgads365_Tgdes391_base.json.gz\")\n",
    "from_json(RPB, fname=\"./MBDOE_sens_001/Tgin_des_393_001/Tgin_ads_361/Tgads361_Tgdes393_base.json.gz\")\n",
    "#from_json(RPB, fname=\"./MBDOE_sens/Tgin368 Tgout391 mar7.json.gz\", gz=True)"
   ]
  },
  {
   "cell_type": "code",
   "execution_count": null,
   "id": "24246e62",
   "metadata": {},
   "outputs": [],
   "source": [
    "y_ref = full_contactor_plotting(RPB, with_legend=False, save_option=True)"
   ]
  },
  {
   "cell_type": "code",
   "execution_count": null,
   "id": "9b5cef22",
   "metadata": {},
   "outputs": [],
   "source": [
    "model_plot_Tg_RKH(RPB.des)"
   ]
  }
 ],
 "metadata": {
  "kernelspec": {
   "display_name": "Python 3 (ipykernel)",
   "language": "python",
   "name": "python3"
  },
  "language_info": {
   "codemirror_mode": {
    "name": "ipython",
    "version": 3
   },
   "file_extension": ".py",
   "mimetype": "text/x-python",
   "name": "python",
   "nbconvert_exporter": "python",
   "pygments_lexer": "ipython3",
   "version": "3.9.7"
  }
 },
 "nbformat": 4,
 "nbformat_minor": 5
}
