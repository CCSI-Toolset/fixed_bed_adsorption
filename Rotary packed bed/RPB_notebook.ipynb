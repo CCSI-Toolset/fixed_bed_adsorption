{
 "cells": [
  {
   "attachments": {},
   "cell_type": "markdown",
   "metadata": {},
   "source": [
    "# Import RPB model along with other utility functions"
   ]
  },
  {
   "cell_type": "code",
   "execution_count": 1,
   "metadata": {},
   "outputs": [],
   "source": [
    "from idaes.core import FlowsheetBlock\n",
    "from idaes.models.unit_models import Feed, Product\n",
    "from RPB_model import RotaryPackedBed\n",
    "\n",
    "from pyomo.environ import (\n",
    "    ConcreteModel,\n",
    "    SolverFactory,\n",
    "    TransformationFactory,\n",
    "    )\n",
    "\n",
    "import idaes.core.util as iutil\n",
    "import idaes.core.util.scaling as iscale\n",
    "from idaes.core.util.model_statistics import degrees_of_freedom\n",
    "import idaes.logger as idaeslog\n",
    "from pyomo.environ import units as u\n",
    "from idaes.core.util.initialization import propagate_state\n",
    "\n",
    "# from idaes.models_extra.power_generation.properties import FlueGasParameterBlock\n",
    "from flue_gas_ideal import FlueGasParameterBlock\n",
    "from idaes.models.properties.modular_properties.base.generic_property import (\n",
    "    GenericParameterBlock,\n",
    ")\n",
    "from idaes.models_extra.power_generation.properties.natural_gas_PR import (\n",
    "    get_prop,\n",
    "    EosType,\n",
    ")\n",
    "\n",
    "from pyomo.network import Arc\n",
    "\n",
    "from idaes.core.util.model_diagnostics import DiagnosticsToolbox\n",
    "\n",
    "import numpy as np"
   ]
  },
  {
   "cell_type": "code",
   "execution_count": 2,
   "metadata": {},
   "outputs": [],
   "source": [
    "# create Flowsheet block\n",
    "\n",
    "m = ConcreteModel()\n",
    "m.fs = FlowsheetBlock(dynamic = False)"
   ]
  },
  {
   "cell_type": "code",
   "execution_count": 3,
   "metadata": {},
   "outputs": [],
   "source": [
    "# create gas phase properties block\n",
    "\n",
    "flue_species={\"H2O\", \"CO2\", \"N2\"}\n",
    "m.fs.gas_props = GenericParameterBlock(\n",
    "            **get_prop(flue_species, [\"Vap\"], eos=EosType.IDEAL),\n",
    "            doc=\"Flue gas properties\",\n",
    "        )"
   ]
  },
  {
   "cell_type": "code",
   "execution_count": 4,
   "metadata": {},
   "outputs": [],
   "source": [
    "# create feed and product blocks\n",
    "\n",
    "m.fs.flue_gas_in = Feed(property_package = m.fs.gas_props)\n",
    "m.fs.flue_gas_out = Product(property_package = m.fs.gas_props)\n",
    "m.fs.steam_sweep_feed = Feed(property_package = m.fs.gas_props)\n",
    "m.fs.regeneration_prod = Product(property_package = m.fs.gas_props)"
   ]
  },
  {
   "cell_type": "code",
   "execution_count": 5,
   "metadata": {},
   "outputs": [
    {
     "data": {
      "text/plain": [
       "{'flow_mol': <pyomo.core.base.var.ScalarVar at 0x258299e3140>,\n",
       " 'mole_frac_comp': <pyomo.core.base.var.IndexedVar at 0x25829aca2c0>,\n",
       " 'temperature': <pyomo.core.base.var.ScalarVar at 0x25829accac0>,\n",
       " 'pressure': <pyomo.core.base.var.ScalarVar at 0x25829acc900>}"
      ]
     },
     "execution_count": 5,
     "metadata": {},
     "output_type": "execute_result"
    }
   ],
   "source": [
    "m.fs.flue_gas_in.properties[0].define_state_vars()"
   ]
  },
  {
   "cell_type": "code",
   "execution_count": 6,
   "metadata": {},
   "outputs": [],
   "source": [
    "# best discretization\n",
    "\n",
    "z_init_points=tuple(np.geomspace(0.01, 0.5, 9)[:-1]) + tuple((1 - np.geomspace(0.01, 0.5, 9))[::-1])\n",
    "o_init_points=tuple(np.geomspace(0.005, 0.1, 8)) + tuple(np.linspace(0.1, 0.995, 10)[1:])\n",
    "\n",
    "z_nfe=20\n",
    "o_nfe=20\n",
    "\n",
    "m.fs.RPB = RotaryPackedBed(\n",
    "    property_package = m.fs.gas_props,\n",
    "    z_init_points=z_init_points,\n",
    "    o_init_points=o_init_points,\n",
    "    z_nfe=z_nfe,\n",
    "    o_nfe=o_nfe,\n",
    ")"
   ]
  },
  {
   "cell_type": "code",
   "execution_count": 7,
   "metadata": {},
   "outputs": [],
   "source": [
    "# # limited discretization, used for debugging\n",
    "\n",
    "# m.fs.RPB = RotaryPackedBed(\n",
    "#     property_package = m.fs.gas_props,\n",
    "# )"
   ]
  },
  {
   "cell_type": "code",
   "execution_count": 8,
   "metadata": {},
   "outputs": [
    {
     "name": "stdout",
     "output_type": "stream",
     "text": [
      "DOF = 30\n"
     ]
    }
   ],
   "source": [
    "# check degrees of freedom before connecting streams\n",
    "\n",
    "print(\"DOF =\",degrees_of_freedom(m))"
   ]
  },
  {
   "cell_type": "code",
   "execution_count": 9,
   "metadata": {},
   "outputs": [],
   "source": [
    "# add stream connections\n",
    "\n",
    "m.fs.s01 = Arc(source=m.fs.flue_gas_in.outlet, destination=m.fs.RPB.ads_gas_inlet)\n",
    "m.fs.s02 = Arc(source=m.fs.RPB.ads_gas_outlet, destination=m.fs.flue_gas_out.inlet)\n",
    "m.fs.s03 = Arc(source=m.fs.steam_sweep_feed.outlet, destination=m.fs.RPB.des_gas_inlet)\n",
    "m.fs.s04 = Arc(source=m.fs.RPB.des_gas_outlet, destination=m.fs.regeneration_prod.inlet)"
   ]
  },
  {
   "cell_type": "code",
   "execution_count": 10,
   "metadata": {},
   "outputs": [],
   "source": [
    "TransformationFactory(\"network.expand_arcs\").apply_to(m)"
   ]
  },
  {
   "cell_type": "code",
   "execution_count": 11,
   "metadata": {},
   "outputs": [
    {
     "name": "stdout",
     "output_type": "stream",
     "text": [
      "DOF = 14\n"
     ]
    }
   ],
   "source": [
    "# check degrees of freedom after applying transformation\n",
    "\n",
    "print(\"DOF =\",degrees_of_freedom(m))"
   ]
  },
  {
   "cell_type": "code",
   "execution_count": 12,
   "metadata": {},
   "outputs": [],
   "source": [
    "# fix streams around RPB\n",
    "\n",
    "m.fs.RPB.ads_gas_inlet.pressure.fix(1.02*1e5)\n",
    "m.fs.RPB.ads_gas_outlet.pressure.fix(1.01325*1e5)\n",
    "m.fs.RPB.ads_gas_inlet.temperature.fix()\n",
    "# m.fs.RPB.ads.gas_inlet.F_in.fix()\n",
    "m.fs.RPB.ads_gas_inlet.mole_frac_comp.fix()\n",
    "\n",
    "m.fs.RPB.des_gas_inlet.pressure.fix(1.05*1e5)\n",
    "m.fs.RPB.des_gas_outlet.pressure.fix(1.01325*1e5)\n",
    "m.fs.RPB.des_gas_inlet.temperature.fix()\n",
    "# m.fs.RPB.des.gas_inlet.F_in.fix()\n",
    "m.fs.RPB.des_gas_inlet.mole_frac_comp.fix()"
   ]
  },
  {
   "cell_type": "code",
   "execution_count": 13,
   "metadata": {},
   "outputs": [],
   "source": [
    "# fix design variables of the RPB\n",
    "\n",
    "m.fs.RPB.ads.Tx.fix()\n",
    "m.fs.RPB.des.Tx.fix()\n",
    "\n",
    "m.fs.RPB.w_rpm.fix(0.1)"
   ]
  },
  {
   "cell_type": "code",
   "execution_count": 14,
   "metadata": {},
   "outputs": [
    {
     "name": "stdout",
     "output_type": "stream",
     "text": [
      "DOF = 0\n"
     ]
    }
   ],
   "source": [
    "print(\"DOF =\",degrees_of_freedom(m))"
   ]
  },
  {
   "cell_type": "code",
   "execution_count": 15,
   "metadata": {},
   "outputs": [
    {
     "data": {
      "text/plain": [
       "{'etime_load_file': 0.10979342460632324,\n",
       " 'etime_read_dict': 0.29868221282958984,\n",
       " 'etime_read_suffixes': 0.02291560173034668}"
      ]
     },
     "execution_count": 15,
     "metadata": {},
     "output_type": "execute_result"
    }
   ],
   "source": [
    "# load model\n",
    "\n",
    "iutil.from_json(m, fname=\"RPB flowsheet 052324.json.gz\", gz=True)"
   ]
  },
  {
   "cell_type": "code",
   "execution_count": null,
   "metadata": {},
   "outputs": [],
   "source": [
    "# initialize feed and product blocks\n",
    "\n",
    "m.fs.flue_gas_in.initialize()\n",
    "m.fs.flue_gas_out.initialize()\n",
    "m.fs.steam_sweep_feed.initialize()\n",
    "m.fs.regeneration_prod.initialize()"
   ]
  },
  {
   "cell_type": "code",
   "execution_count": null,
   "metadata": {},
   "outputs": [],
   "source": [
    "# Initialize RPB\n",
    "\n",
    "optarg = {\n",
    "    # \"halt_on_ampl_error\": \"yes\",\n",
    "    \"max_iter\": 1000,\n",
    "    # \"bound_push\": 1e-22,\n",
    "    # \"mu_init\": 1e-3,\n",
    "    \"nlp_scaling_method\": \"user-scaling\",\n",
    "}\n",
    "\n",
    "init_points = [1e-10,1e-3,1e-1,0.5,]\n",
    "\n",
    "m.fs.RPB.initialize(outlvl=idaeslog.DEBUG, optarg=optarg, initialization_points=init_points)"
   ]
  },
  {
   "cell_type": "code",
   "execution_count": 16,
   "metadata": {},
   "outputs": [
    {
     "name": "stdout",
     "output_type": "stream",
     "text": [
      "WARNING: model contains export suffix 'scaling_factor' that contains 11\n",
      "component keys that are not exported as part of the NL file.  Skipping.\n",
      "WARNING: model contains export suffix 'scaling_factor' that contains 8 keys\n",
      "that are not Var, Constraint, Objective, or the model.  Skipping.\n",
      "Ipopt 3.13.2: \n",
      "\n",
      "******************************************************************************\n",
      "This program contains Ipopt, a library for large-scale nonlinear optimization.\n",
      " Ipopt is released as open source code under the Eclipse Public License (EPL).\n",
      "         For more information visit http://projects.coin-or.org/Ipopt\n",
      "\n",
      "This version of Ipopt was compiled from source code available at\n",
      "    https://github.com/IDAES/Ipopt as part of the Institute for the Design of\n",
      "    Advanced Energy Systems Process Systems Engineering Framework (IDAES PSE\n",
      "    Framework) Copyright (c) 2018-2019. See https://github.com/IDAES/idaes-pse.\n",
      "\n",
      "This version of Ipopt was compiled using HSL, a collection of Fortran codes\n",
      "    for large-scale scientific computation.  All technical papers, sales and\n",
      "    publicity material resulting from use of the HSL codes within IPOPT must\n",
      "    contain the following acknowledgement:\n",
      "        HSL, a collection of Fortran codes for large-scale scientific\n",
      "        computation. See http://www.hsl.rl.ac.uk.\n",
      "******************************************************************************\n",
      "\n",
      "This is Ipopt version 3.13.2, running with linear solver ma27.\n",
      "\n",
      "Number of nonzeros in equality constraint Jacobian...:    80542\n",
      "Number of nonzeros in inequality constraint Jacobian.:        0\n",
      "Number of nonzeros in Lagrangian Hessian.............:    35534\n",
      "\n",
      "Total number of variables............................:    21995\n",
      "                     variables with only lower bounds:       50\n",
      "                variables with lower and upper bounds:    12493\n",
      "                     variables with only upper bounds:        0\n",
      "Total number of equality constraints.................:    21995\n",
      "Total number of inequality constraints...............:        0\n",
      "        inequality constraints with only lower bounds:        0\n",
      "   inequality constraints with lower and upper bounds:        0\n",
      "        inequality constraints with only upper bounds:        0\n",
      "\n",
      "iter    objective    inf_pr   inf_du lg(mu)  ||d||  lg(rg) alpha_du alpha_pr  ls\n",
      "   0  0.0000000e+00 2.26e+00 1.00e+00  -1.0 0.00e+00    -  0.00e+00 0.00e+00   0\n",
      "   1  0.0000000e+00 2.48e-02 3.16e+02  -1.0 1.25e-01    -  9.90e-01 9.91e-01h  1\n",
      "   2  0.0000000e+00 3.12e-06 3.98e+01  -1.0 1.24e-01    -  9.90e-01 1.00e+00h  1\n",
      "   3  0.0000000e+00 2.00e-10 8.98e+01  -1.0 6.20e-04    -  9.90e-01 1.00e+00h  1\n",
      "\n",
      "Number of Iterations....: 3\n",
      "\n",
      "                                   (scaled)                 (unscaled)\n",
      "Objective...............:   0.0000000000000000e+00    0.0000000000000000e+00\n",
      "Dual infeasibility......:   0.0000000000000000e+00    0.0000000000000000e+00\n",
      "Constraint violation....:   1.9979425058824773e-10    1.9979425058824773e-10\n",
      "Complementarity.........:   0.0000000000000000e+00    0.0000000000000000e+00\n",
      "Overall NLP error.......:   1.9979425058824773e-10    1.9979425058824773e-10\n",
      "\n",
      "\n",
      "Number of objective function evaluations             = 4\n",
      "Number of objective gradient evaluations             = 4\n",
      "Number of equality constraint evaluations            = 4\n",
      "Number of inequality constraint evaluations          = 0\n",
      "Number of equality constraint Jacobian evaluations   = 4\n",
      "Number of inequality constraint Jacobian evaluations = 0\n",
      "Number of Lagrangian Hessian evaluations             = 3\n",
      "Total CPU secs in IPOPT (w/o function evaluations)   =      3.137\n",
      "Total CPU secs in NLP function evaluations           =      0.095\n",
      "\n",
      "EXIT: Optimal Solution Found.\n",
      "# ==========================================================\n",
      "# = Solver Results                                         =\n",
      "# ==========================================================\n",
      "# ----------------------------------------------------------\n",
      "#   Problem Information\n",
      "# ----------------------------------------------------------\n",
      "Problem: \n",
      "- Lower bound: -inf\n",
      "  Upper bound: inf\n",
      "  Number of objectives: 1\n",
      "  Number of constraints: 21995\n",
      "  Number of variables: 21995\n",
      "  Sense: unknown\n",
      "# ----------------------------------------------------------\n",
      "#   Solver Information\n",
      "# ----------------------------------------------------------\n",
      "Solver: \n",
      "- Status: ok\n",
      "  Message: Ipopt 3.13.2\\x3a Optimal Solution Found\n",
      "  Termination condition: optimal\n",
      "  Id: 0\n",
      "  Error rc: 0\n",
      "  Time: 3.7106895446777344\n",
      "# ----------------------------------------------------------\n",
      "#   Solution Information\n",
      "# ----------------------------------------------------------\n",
      "Solution: \n",
      "- number of solutions: 0\n",
      "  number of solutions displayed: 0\n"
     ]
    }
   ],
   "source": [
    "Solver = SolverFactory(\"ipopt\")\n",
    "Solver.solve(m, tee=True).write()"
   ]
  },
  {
   "cell_type": "code",
   "execution_count": 17,
   "metadata": {},
   "outputs": [
    {
     "name": "stdout",
     "output_type": "stream",
     "text": [
      "\n",
      "====================================================================================\n",
      "Flowsheet : fs                                                             Time: 0.0\n",
      "------------------------------------------------------------------------------------\n",
      "    Stream Table\n",
      "                                Units          s01        s02        s03        s04   \n",
      "    Total Molar Flowrate     mole / second     73.318     70.427     173.12     176.58\n",
      "    Total Mole Fraction N2   dimensionless    0.87000    0.90571  0.0010000 0.00098039\n",
      "    Total Mole Fraction H2O  dimensionless   0.090000   0.093694    0.99899    0.97940\n",
      "    Total Mole Fraction CO2  dimensionless   0.040000 0.00059670 1.0000e-05   0.019619\n",
      "    Temperature                     kelvin     363.00     386.88     393.00     368.85\n",
      "    Pressure                        pascal 1.0200e+05 1.0132e+05 1.0500e+05 1.0132e+05\n",
      "====================================================================================\n"
     ]
    }
   ],
   "source": [
    "m.fs.report()"
   ]
  },
  {
   "cell_type": "code",
   "execution_count": null,
   "metadata": {},
   "outputs": [],
   "source": [
    "diagtool = DiagnosticsToolbox(m)"
   ]
  },
  {
   "cell_type": "code",
   "execution_count": null,
   "metadata": {},
   "outputs": [],
   "source": [
    "diagtool.report_structural_issues()"
   ]
  },
  {
   "cell_type": "code",
   "execution_count": null,
   "metadata": {},
   "outputs": [],
   "source": [
    "diagtool.report_numerical_issues()"
   ]
  },
  {
   "cell_type": "code",
   "execution_count": null,
   "metadata": {},
   "outputs": [],
   "source": [
    "# save model\n",
    "\n",
    "iutil.to_json(m, fname=\"RPB flowsheet 052324.json.gz\", gz=True, human_read=False)"
   ]
  },
  {
   "cell_type": "code",
   "execution_count": 18,
   "metadata": {},
   "outputs": [
    {
     "name": "stdout",
     "output_type": "stream",
     "text": [
      "\n",
      "====================================================================================\n",
      "Unit : fs.RPB                                                              Time: 0.0\n",
      "====================================================================================\n",
      "    Local Degrees of Freedom: 0\n",
      "    Total Variables: 22285    Activated Constraints: 21951    Activated Blocks: 7\n",
      "------------------------------------------------------------------------------------\n",
      "    Unit Performance\n",
      "\n",
      "    Variables: \n",
      "\n",
      "    Key                        : Value    : Units           : Fixed : Bounds\n",
      "                 Adsorption Tx :   393.00 :          kelvin :  True : (0, None)\n",
      "    Adsorption Volume Fraction :  0.75000 :   dimensionless :  True : (0.01, 0.99)\n",
      "                   CO2 Capture :  0.98567 :   dimensionless : False : (None, None)\n",
      "    Desorption Volume Fraction :  0.25000 :   dimensionless : False : (0.01, 0.99)\n",
      "                      Diameter :   10.000 :           meter :  True : (0, None)\n",
      "                        Length :   3.0000 :           meter :  True : (0.1, 10.001)\n",
      "           Rotational Velocity : 0.010472 : radian / second :  True : (1e-05, 2)\n",
      "\n",
      "    Expressions: \n",
      "\n",
      "    Key                : Value      : Units\n",
      "    Energy Requirement : 6.3047e+07 : joule / kilogram\n",
      "          Productivity : 0.00080990 : kilogram / meter ** 3 / second\n",
      "\n",
      "------------------------------------------------------------------------------------\n",
      "    Stream Table\n",
      "                                Units       Flue Gas Feed  Cleaned Flue Gas  Steam Sweep  Regeneration Product\n",
      "    Total Molar Flowrate     mole / second       73.318           70.427         173.12            176.58     \n",
      "    Total Mole Fraction N2   dimensionless      0.87000          0.90571      0.0010000        0.00098039     \n",
      "    Total Mole Fraction H2O  dimensionless     0.090000         0.093694        0.99899           0.97940     \n",
      "    Total Mole Fraction CO2  dimensionless     0.040000       0.00059670     1.0000e-05          0.019619     \n",
      "    Temperature                     kelvin       363.00           386.88         393.00            368.85     \n",
      "    Pressure                        pascal   1.0200e+05       1.0132e+05     1.0500e+05        1.0132e+05     \n",
      "====================================================================================\n"
     ]
    }
   ],
   "source": [
    "m.fs.RPB.report(dof=True)"
   ]
  },
  {
   "cell_type": "markdown",
   "metadata": {},
   "source": [
    "# Creating model for a single side/section of the RPB"
   ]
  },
  {
   "cell_type": "code",
   "execution_count": null,
   "metadata": {},
   "outputs": [],
   "source": [
    "# Create model instance. Currently, mode can be either \"adsorption\" or \"desorption\" which sets the initial values and boundary conditions for each case.\n",
    "# m=RPB_model(mode=\"adsorption\", gas_flow_direction=1)\n",
    "# or\n",
    "RPB = RotaryPackedBed()\n",
    "# RPB.m = Block()\n",
    "add_single_section_equations(RPB, section_name = \"m\", mode=\"adsorption\", gas_flow_direction=\"forward\")\n",
    "\n",
    "# Custom initialization routine. Uses block initialization function.\n",
    "single_section_init(RPB.m)"
   ]
  },
  {
   "cell_type": "code",
   "execution_count": null,
   "metadata": {},
   "outputs": [],
   "source": [
    "solver = SolverFactory(\"ipopt\")\n",
    "solver.options = {\n",
    "    \"max_iter\": 1000,\n",
    "    \"bound_push\": 1e-22,\n",
    "    \"halt_on_ampl_error\": \"yes\",\n",
    "    \"nlp_scaling_method\": \"user-scaling\",\n",
    "}\n",
    "solver.solve(RPB, tee=True).write()"
   ]
  },
  {
   "cell_type": "code",
   "execution_count": null,
   "metadata": {},
   "outputs": [],
   "source": [
    "# Some various utility functions to check model performance\n",
    "evaluate_MB_error(RPB.m)\n",
    "\n",
    "print(f'CO2 Capture = {RPB.m.CO2_capture[0]():.3}')"
   ]
  },
  {
   "cell_type": "code",
   "execution_count": null,
   "metadata": {},
   "outputs": [],
   "source": [
    "# scaling functions\n",
    "\n",
    "# check_scaling(m)\n",
    "\n",
    "# jac, variables, constraints = scaling_script(m)"
   ]
  },
  {
   "cell_type": "code",
   "execution_count": null,
   "metadata": {},
   "outputs": [],
   "source": [
    "plotting(RPB.m)"
   ]
  },
  {
   "attachments": {},
   "cell_type": "markdown",
   "metadata": {},
   "source": [
    "# Creating a full RPB model"
   ]
  },
  {
   "cell_type": "markdown",
   "metadata": {},
   "source": [
    "From scratch"
   ]
  },
  {
   "cell_type": "code",
   "execution_count": null,
   "metadata": {},
   "outputs": [],
   "source": [
    "# create pyomo model\n",
    "RPB = full_model_creation(lean_temp_connection=True, configuration = \"counter-current\")"
   ]
  },
  {
   "cell_type": "code",
   "execution_count": null,
   "metadata": {},
   "outputs": [],
   "source": [
    "RPB.ads.P.setub(1.26)\n",
    "RPB.ads.P_in.setub(1.26)\n",
    "\n",
    "RPB.des.P.setub(1.04)\n",
    "\n",
    "RPB.L.fix(7.811853)\n",
    "RPB.ads.theta.fix(0.606758)\n",
    "RPB.des.P_in.fix(1.034350)\n",
    "RPB.ads.Tx.fix(347.700154)\n",
    "RPB.des.Tx.fix(433)\n",
    "# RPB.ads.w_rpm.fix(0.003502)\n",
    "RPB.ads.P_in.fix(1.250714)"
   ]
  },
  {
   "cell_type": "code",
   "execution_count": null,
   "metadata": {},
   "outputs": [],
   "source": [
    "# initialize using BlockTriangularizationInitializer() with a list of values for initialization factors within the models\n",
    "# init_routine_1(RPB, homotopy_points=[1e-5,1e-4,1e-3,1e-2] + np.linspace(0.1,1,5).tolist())\n",
    "init_routine_1(RPB, homotopy_points=[1e-3] + np.linspace(0.1,1,5).tolist())"
   ]
  },
  {
   "cell_type": "code",
   "execution_count": null,
   "metadata": {},
   "outputs": [],
   "source": [
    "solver = SolverFactory(\"ipopt\")\n",
    "solver.options = {\n",
    "    \"max_iter\": 1000,\n",
    "    \"bound_push\": 1e-22,\n",
    "    # \"halt_on_ampl_error\": \"yes\",\n",
    "}\n",
    "solver.solve(RPB, tee=True).write()"
   ]
  },
  {
   "cell_type": "code",
   "execution_count": null,
   "metadata": {},
   "outputs": [],
   "source": [
    "init_obj = BlockTriangularizationInitializer()\n",
    "\n",
    "init_obj.config.block_solver_call_options = {\"tee\": True}\n",
    "init_obj.config.block_solver_options = {\n",
    "    # \"halt_on_ampl_error\": \"yes\",\n",
    "    \"max_iter\": 1000,\n",
    "}\n",
    "\n",
    "# target = 0.003502\n",
    "targets = [0.1,0.05,0.01,0.005,0.003502]\n",
    "\n",
    "for target in targets:\n",
    "\n",
    "    steps = np.linspace(0,1,5)\n",
    "\n",
    "    points = [(target - RPB.w_rpm())*i + RPB.w_rpm() for i in steps]\n",
    "\n",
    "    for i in points:\n",
    "        RPB.w_rpm.fix(i)\n",
    "        \n",
    "        init_obj.initialization_routine(RPB)\n",
    "\n",
    "    # solve using conopt thorugh gams\n",
    "    results = SolverFactory(\"gams\").solve(\n",
    "        RPB,\n",
    "        tee=True,\n",
    "        keepfiles=True,\n",
    "        solver=\"conopt4\",\n",
    "        tmpdir=\"temp\",\n",
    "        add_options=[\"gams_model.optfile=1;\"],\n",
    "    )"
   ]
  },
  {
   "cell_type": "code",
   "execution_count": null,
   "metadata": {},
   "outputs": [],
   "source": [
    "get_init_factors(RPB.ads) # these should all be = 1"
   ]
  },
  {
   "cell_type": "code",
   "execution_count": null,
   "metadata": {},
   "outputs": [],
   "source": [
    "report(RPB)"
   ]
  },
  {
   "cell_type": "markdown",
   "metadata": {},
   "source": [
    "From a previous solution"
   ]
  },
  {
   "cell_type": "code",
   "execution_count": null,
   "metadata": {},
   "outputs": [],
   "source": [
    "# create pyomo model\n",
    "RPB = full_model_creation(lean_temp_connection=True, configuration = \"counter-current\")\n",
    "\n",
    "# load a previous solution and solve\n",
    "from_json(RPB, fname=\"base case solution 012424.json.gz\", gz=True)\n",
    "\n",
    "solver = SolverFactory(\"ipopt\")\n",
    "solver.options = {\n",
    "    \"max_iter\": 1000,\n",
    "    \"bound_push\": 1e-22,\n",
    "    \"halt_on_ampl_error\": \"yes\",\n",
    "}\n",
    "solver.solve(RPB, tee=True).write()"
   ]
  },
  {
   "cell_type": "code",
   "execution_count": null,
   "metadata": {},
   "outputs": [],
   "source": [
    "report(RPB)"
   ]
  },
  {
   "cell_type": "code",
   "execution_count": null,
   "metadata": {},
   "outputs": [],
   "source": [
    "evaluate_MB_error(RPB.ads)\n",
    "print(' ')\n",
    "evaluate_MB_error(RPB.des)"
   ]
  },
  {
   "cell_type": "code",
   "execution_count": null,
   "metadata": {},
   "outputs": [],
   "source": [
    "# different scaling functions\n",
    "\n",
    "# check_scaling(RPB)\n",
    "\n",
    "# jac, variables, constraints = scaling_script(RPB)"
   ]
  },
  {
   "cell_type": "markdown",
   "metadata": {},
   "source": [
    "# Optimization"
   ]
  },
  {
   "cell_type": "markdown",
   "metadata": {},
   "source": [
    "start from initialized model"
   ]
  },
  {
   "cell_type": "code",
   "execution_count": null,
   "metadata": {},
   "outputs": [],
   "source": [
    "# starting from initialized model. Change design to fix capture by freeing up inlet adsorber pressure\n",
    "\n",
    "RPB.ads.P_in.unfix()\n",
    "RPB.ads.CO2_capture.fix(0.95)\n",
    "\n",
    "solver = SolverFactory(\"ipopt\")\n",
    "solver.options = {\n",
    "    \"max_iter\": 1000,\n",
    "    \"bound_push\": 1e-22,\n",
    "    # \"halt_on_ampl_error\": \"yes\",\n",
    "}\n",
    "solver.solve(RPB, tee=True).write()"
   ]
  },
  {
   "cell_type": "code",
   "execution_count": null,
   "metadata": {},
   "outputs": [],
   "source": [
    "# create regularization parameter for the objective function\n",
    "RPB.alpha_obj = Param(initialize=0.5, mutable=True)\n",
    "\n",
    "# add objective\n",
    "@RPB.Expression()\n",
    "def obj(RPB):\n",
    "    return RPB.alpha_obj * RPB.energy_requirement - (1 - RPB.alpha_obj) * RPB.productivity\n",
    "\n",
    "RPB.objective = Objective(expr=RPB.obj)\n",
    "\n",
    "RPB.objective.pprint()"
   ]
  },
  {
   "cell_type": "code",
   "execution_count": null,
   "metadata": {},
   "outputs": [],
   "source": [
    "# set bounds for decision variables\n",
    "RPB.ads.L.setlb(0.01)\n",
    "RPB.ads.L.setub(40)\n",
    "RPB.des.L.setlb(0.01)\n",
    "RPB.des.L.setub(40)\n",
    "RPB.ads.L.pprint()"
   ]
  },
  {
   "cell_type": "code",
   "execution_count": null,
   "metadata": {},
   "outputs": [],
   "source": [
    "RPB.ads.Tx.setlb(25+273)\n",
    "RPB.ads.Tx.setub(95+273)\n",
    "RPB.ads.Tx.pprint()"
   ]
  },
  {
   "cell_type": "code",
   "execution_count": null,
   "metadata": {},
   "outputs": [],
   "source": [
    "RPB.des.Tx.setlb(100+273)\n",
    "RPB.des.Tx.setub(160+273)\n",
    "RPB.des.Tx.pprint()"
   ]
  },
  {
   "cell_type": "code",
   "execution_count": null,
   "metadata": {},
   "outputs": [],
   "source": [
    "RPB.ads.P_in.setub(1.5)\n",
    "RPB.ads.P_in.pprint()\n",
    "RPB.ads.P.setub(1.5)"
   ]
  },
  {
   "cell_type": "code",
   "execution_count": null,
   "metadata": {},
   "outputs": [],
   "source": [
    "RPB.des.P_in.setub(1.5)\n",
    "RPB.des.P_in.setlb(1.01325)\n",
    "RPB.des.P.setub(1.5)\n",
    "RPB.des.P_in.pprint()"
   ]
  },
  {
   "cell_type": "code",
   "execution_count": null,
   "metadata": {},
   "outputs": [],
   "source": [
    "RPB.ads.w_rpm.setlb(0.00001)\n",
    "RPB.ads.w_rpm.setub(0.005)\n",
    "RPB.ads.w_rpm.pprint()"
   ]
  },
  {
   "cell_type": "code",
   "execution_count": null,
   "metadata": {},
   "outputs": [],
   "source": [
    "# free up decision variables (keep des.Tx fixed for first run the free up later)\n",
    "RPB.ads.L.unfix()\n",
    "RPB.ads.theta.unfix()\n",
    "RPB.des.P_in.unfix()\n",
    "RPB.ads.Tx.unfix()\n",
    "RPB.des.Tx.unfix()\n",
    "RPB.ads.w_rpm.unfix()"
   ]
  },
  {
   "cell_type": "code",
   "execution_count": null,
   "metadata": {},
   "outputs": [],
   "source": [
    "degrees_of_freedom(RPB)"
   ]
  },
  {
   "cell_type": "code",
   "execution_count": null,
   "metadata": {},
   "outputs": [],
   "source": [
    "RPB.ads.w_rpm.unfix()"
   ]
  },
  {
   "cell_type": "code",
   "execution_count": null,
   "metadata": {},
   "outputs": [],
   "source": [
    "# solve using conopt thorugh gams\n",
    "results = SolverFactory(\"gams\").solve(\n",
    "    RPB,\n",
    "    tee=True,\n",
    "    keepfiles=True,\n",
    "    solver=\"conopt4\",\n",
    "    tmpdir=\"temp\",\n",
    "    add_options=[\"gams_model.optfile=1;\"],\n",
    ")"
   ]
  },
  {
   "cell_type": "code",
   "execution_count": null,
   "metadata": {},
   "outputs": [],
   "source": [
    "# or solve using ipopt\n",
    "# solver = SolverFactory(\"ipopt\")\n",
    "# solver.options = {\n",
    "#     \"max_iter\": 1000,\n",
    "#     \"bound_push\": 1e-8,\n",
    "#     # \"halt_on_ampl_error\": \"yes\",\n",
    "#     \"tol\": 1e-4,\n",
    "#     \"max_cpu_time\": 5*60,\n",
    "#     # \"mu_strategy\": \"adaptive\",\n",
    "# }\n",
    "# solver.solve(RPB, tee=True).write()"
   ]
  },
  {
   "cell_type": "code",
   "execution_count": null,
   "metadata": {},
   "outputs": [],
   "source": [
    "results_df = report(RPB)\n",
    "results_df"
   ]
  },
  {
   "cell_type": "code",
   "execution_count": null,
   "metadata": {},
   "outputs": [],
   "source": [
    "evaluate_MB_error(RPB.ads)\n",
    "print(' ')\n",
    "evaluate_MB_error(RPB.des)"
   ]
  },
  {
   "cell_type": "code",
   "execution_count": null,
   "metadata": {},
   "outputs": [],
   "source": [
    "# custom function using degeneracy hunter. Mainly to see if any variables are pushing their bounds\n",
    "degen_hunter(RPB)"
   ]
  },
  {
   "cell_type": "markdown",
   "metadata": {},
   "source": [
    "start from previous optimized case"
   ]
  },
  {
   "cell_type": "code",
   "execution_count": null,
   "metadata": {},
   "outputs": [],
   "source": [
    "# create pyomo model\n",
    "RPB = full_model_creation(lean_temp_connection=True, configuration = \"counter-current\")"
   ]
  },
  {
   "cell_type": "code",
   "execution_count": null,
   "metadata": {},
   "outputs": [],
   "source": [
    "# create regularization parameter for the objective function\n",
    "RPB.alpha_obj = Param(initialize=0.5, mutable=True)\n",
    "\n",
    "# add objective\n",
    "@RPB.Expression()\n",
    "def obj(RPB):\n",
    "    return RPB.alpha_obj * RPB.energy_requirement - (1 - RPB.alpha_obj) * RPB.productivity\n",
    "\n",
    "RPB.objective = Objective(expr=RPB.obj)\n",
    "\n",
    "RPB.objective.pprint()"
   ]
  },
  {
   "cell_type": "code",
   "execution_count": null,
   "metadata": {},
   "outputs": [],
   "source": [
    "# set bounds for decision variables\n",
    "RPB.ads.L.setlb(0.01)\n",
    "RPB.ads.L.setub(40)\n",
    "RPB.des.L.setlb(0.01)\n",
    "RPB.des.L.setub(40)\n",
    "RPB.ads.L.pprint()"
   ]
  },
  {
   "cell_type": "code",
   "execution_count": null,
   "metadata": {},
   "outputs": [],
   "source": [
    "RPB.ads.Tx.setlb(25+273)\n",
    "RPB.ads.Tx.setub(95+273)\n",
    "RPB.ads.Tx.pprint()"
   ]
  },
  {
   "cell_type": "code",
   "execution_count": null,
   "metadata": {},
   "outputs": [],
   "source": [
    "RPB.des.Tx.setlb(100+273)\n",
    "RPB.des.Tx.setub(160+273)\n",
    "RPB.des.Tx.pprint()"
   ]
  },
  {
   "cell_type": "code",
   "execution_count": null,
   "metadata": {},
   "outputs": [],
   "source": [
    "RPB.ads.P_in.setub(1.5)\n",
    "RPB.ads.P_in.pprint()\n",
    "RPB.ads.P.setub(1.5)"
   ]
  },
  {
   "cell_type": "code",
   "execution_count": null,
   "metadata": {},
   "outputs": [],
   "source": [
    "RPB.des.P_in.setub(1.5)\n",
    "RPB.des.P_in.setlb(1.01325)\n",
    "RPB.des.P.setub(1.5)\n",
    "RPB.des.P_in.pprint()"
   ]
  },
  {
   "cell_type": "code",
   "execution_count": null,
   "metadata": {},
   "outputs": [],
   "source": [
    "RPB.ads.w_rpm.setlb(0.00001)\n",
    "RPB.ads.w_rpm.setub(0.1)\n",
    "RPB.ads.w_rpm.pprint()"
   ]
  },
  {
   "cell_type": "code",
   "execution_count": null,
   "metadata": {},
   "outputs": [],
   "source": [
    "# load a previous solution and solve\n",
    "from_json(RPB, fname=\"opt solution 012424.json.gz\", gz=True)"
   ]
  },
  {
   "cell_type": "code",
   "execution_count": null,
   "metadata": {},
   "outputs": [],
   "source": [
    "RPB.alpha_obj.pprint()"
   ]
  },
  {
   "cell_type": "code",
   "execution_count": null,
   "metadata": {},
   "outputs": [],
   "source": [
    "# free up decision variables (keep des.Tx fixed for first run the free up later)\n",
    "RPB.ads.L.unfix()\n",
    "RPB.ads.theta.unfix()\n",
    "RPB.des.P_in.unfix()\n",
    "RPB.ads.Tx.unfix()\n",
    "RPB.des.Tx.unfix()\n",
    "RPB.ads.w_rpm.unfix()"
   ]
  },
  {
   "cell_type": "code",
   "execution_count": null,
   "metadata": {},
   "outputs": [],
   "source": [
    "degrees_of_freedom(RPB)"
   ]
  },
  {
   "cell_type": "code",
   "execution_count": null,
   "metadata": {},
   "outputs": [],
   "source": [
    "# solve using conopt thorugh gams\n",
    "results = SolverFactory(\"gams\").solve(\n",
    "    RPB,\n",
    "    tee=True,\n",
    "    keepfiles=True,\n",
    "    solver=\"conopt4\",\n",
    "    tmpdir=\"temp\",\n",
    "    add_options=[\"gams_model.optfile=1;\"],\n",
    ")"
   ]
  },
  {
   "cell_type": "code",
   "execution_count": null,
   "metadata": {},
   "outputs": [],
   "source": [
    "report(RPB)"
   ]
  },
  {
   "cell_type": "code",
   "execution_count": null,
   "metadata": {},
   "outputs": [],
   "source": [
    "degen_hunter(RPB)"
   ]
  },
  {
   "cell_type": "markdown",
   "metadata": {},
   "source": [
    "pareto front generation"
   ]
  },
  {
   "cell_type": "code",
   "execution_count": null,
   "metadata": {},
   "outputs": [],
   "source": [
    "# list of alpha values to use in the objective function\n",
    "alpha_list=[\n",
    "    0.0001,\n",
    "    0.001,\n",
    "    0.005,\n",
    "    0.01,\n",
    "    0.02,\n",
    "    0.05,\n",
    "    0.1,\n",
    "    0.2,\n",
    "    0.3,\n",
    "    0.4,\n",
    "    0.5,\n",
    "    0.6,\n",
    "    0.7,\n",
    "    0.8,\n",
    "    0.9,\n",
    "    0.925,\n",
    "    0.95,\n",
    "    0.975,\n",
    "    0.99,\n",
    "    0.999,\n",
    "]"
   ]
  },
  {
   "cell_type": "code",
   "execution_count": null,
   "metadata": {},
   "outputs": [],
   "source": [
    "# optimize for every value and store the results\n",
    "E = []\n",
    "P = []\n",
    "\n",
    "for j in alpha_list:\n",
    "    RPB.alpha_obj = j\n",
    "\n",
    "    results = SolverFactory(\"gams\").solve(\n",
    "        RPB,\n",
    "        tee=True,\n",
    "        keepfiles=True,\n",
    "        solver=\"conopt4\",\n",
    "        tmpdir=\"temp\",\n",
    "        add_options=[\"gams_model.optfile=1;\"],\n",
    "    )\n",
    "\n",
    "    print(f'alpha = {j}, E={RPB.energy_requirement()}, P={RPB.productivity()}')\n",
    "\n",
    "    E.append(RPB.energy_requirement())\n",
    "    P.append(RPB.productivity())\n"
   ]
  },
  {
   "cell_type": "code",
   "execution_count": null,
   "metadata": {},
   "outputs": [],
   "source": [
    "pd.DataFrame({'alpha':alpha_list,'E':E,'P':P})"
   ]
  },
  {
   "cell_type": "code",
   "execution_count": null,
   "metadata": {},
   "outputs": [],
   "source": [
    "plt.scatter(E,P)"
   ]
  },
  {
   "cell_type": "markdown",
   "metadata": {},
   "source": [
    "# Polishing step simulation and optimization"
   ]
  },
  {
   "cell_type": "markdown",
   "metadata": {},
   "source": [
    "start from previous optimized case"
   ]
  },
  {
   "cell_type": "code",
   "execution_count": null,
   "metadata": {},
   "outputs": [],
   "source": [
    "# create pyomo model\n",
    "RPB = full_model_creation(lean_temp_connection=True, configuration = \"counter-current\")"
   ]
  },
  {
   "cell_type": "code",
   "execution_count": null,
   "metadata": {},
   "outputs": [],
   "source": [
    "# create regularization parameter for the objective function\n",
    "RPB.alpha_obj = Param(initialize=0.5, mutable=True)\n",
    "\n",
    "# add objective\n",
    "@RPB.Expression()\n",
    "def obj(RPB):\n",
    "    return RPB.alpha_obj * RPB.energy_requirement - (1 - RPB.alpha_obj) * RPB.productivity\n",
    "\n",
    "RPB.objective = Objective(expr=RPB.obj)\n",
    "\n",
    "RPB.objective.pprint()"
   ]
  },
  {
   "cell_type": "code",
   "execution_count": null,
   "metadata": {},
   "outputs": [],
   "source": [
    "# set bounds for decision variables\n",
    "RPB.ads.L.setlb(0.01)\n",
    "RPB.ads.L.setub(40)\n",
    "RPB.des.L.setlb(0.01)\n",
    "RPB.des.L.setub(40)\n",
    "RPB.ads.L.pprint()"
   ]
  },
  {
   "cell_type": "code",
   "execution_count": null,
   "metadata": {},
   "outputs": [],
   "source": [
    "RPB.ads.Tx.setlb(25+273)\n",
    "RPB.ads.Tx.setub(95+273)\n",
    "RPB.ads.Tx.pprint()"
   ]
  },
  {
   "cell_type": "code",
   "execution_count": null,
   "metadata": {},
   "outputs": [],
   "source": [
    "RPB.des.Tx.setlb(100+273)\n",
    "RPB.des.Tx.setub(160+273)\n",
    "RPB.des.Tx.pprint()"
   ]
  },
  {
   "cell_type": "code",
   "execution_count": null,
   "metadata": {},
   "outputs": [],
   "source": [
    "RPB.ads.P_in.setub(1.5)\n",
    "RPB.ads.P_in.pprint()\n",
    "RPB.ads.P.setub(1.5)"
   ]
  },
  {
   "cell_type": "code",
   "execution_count": null,
   "metadata": {},
   "outputs": [],
   "source": [
    "RPB.des.P_in.setub(1.5)\n",
    "RPB.des.P_in.setlb(1.01325)\n",
    "RPB.des.P.setub(1.5)\n",
    "RPB.des.P_in.pprint()"
   ]
  },
  {
   "cell_type": "code",
   "execution_count": null,
   "metadata": {},
   "outputs": [],
   "source": [
    "RPB.ads.w_rpm.setlb(0.00001)\n",
    "RPB.ads.w_rpm.setub(0.1)\n",
    "RPB.ads.w_rpm.pprint()"
   ]
  },
  {
   "cell_type": "code",
   "execution_count": null,
   "metadata": {},
   "outputs": [],
   "source": [
    "# load a previous solution and solve (will also load the inlet gas feed conc.)\n",
    "from_json(RPB, fname=\"polishing step optimized solution 031824.json.gz\", gz=True)"
   ]
  },
  {
   "cell_type": "code",
   "execution_count": null,
   "metadata": {},
   "outputs": [],
   "source": [
    "# solve using conopt thorugh gams\n",
    "results = SolverFactory(\"gams\").solve(\n",
    "    RPB,\n",
    "    tee=True,\n",
    "    keepfiles=True,\n",
    "    solver=\"conopt4\",\n",
    "    tmpdir=\"temp\",\n",
    "    add_options=[\"gams_model.optfile=1;\"],\n",
    ")"
   ]
  },
  {
   "cell_type": "code",
   "execution_count": null,
   "metadata": {},
   "outputs": [],
   "source": [
    "report(RPB)"
   ]
  },
  {
   "cell_type": "markdown",
   "metadata": {},
   "source": [
    "# Plotting"
   ]
  },
  {
   "cell_type": "code",
   "execution_count": null,
   "metadata": {},
   "outputs": [],
   "source": [
    "full_contactor_plotting(RPB)"
   ]
  },
  {
   "cell_type": "markdown",
   "metadata": {},
   "source": [
    "# Save Model"
   ]
  },
  {
   "cell_type": "code",
   "execution_count": null,
   "metadata": {},
   "outputs": [],
   "source": [
    "# save model\n",
    "to_json(RPB, fname=\"base case solution 012424.json.gz\", gz=True, human_read=False)"
   ]
  },
  {
   "cell_type": "markdown",
   "metadata": {},
   "source": [
    "# Diagnostics testing"
   ]
  },
  {
   "cell_type": "code",
   "execution_count": null,
   "metadata": {},
   "outputs": [],
   "source": [
    "# iscale.set_scaling_factor(RPB.ads.Tg_out_eq, 0.1)\n",
    "# iscale.set_scaling_factor(RPB.des.Tg_out_eq, 0.1)\n",
    "\n",
    "# for z in RPB.ads.z:\n",
    "#     for o in RPB.ads.o:\n",
    "#         if 0 < z < 1 and 0 < o < 1:\n",
    "#             iscale.set_scaling_factor(RPB.des.pde_solidEB[z,o], 1e-2)\n",
    "#             iscale.set_scaling_factor(RPB.ads.Q_gs_eq[z, o], 0.001)"
   ]
  },
  {
   "cell_type": "code",
   "execution_count": null,
   "metadata": {},
   "outputs": [],
   "source": [
    "# # solve using conopt thorugh gams\n",
    "# results = SolverFactory(\"gams\").solve(\n",
    "#     RPB,\n",
    "#     tee=True,\n",
    "#     keepfiles=True,\n",
    "#     solver=\"conopt4\",\n",
    "#     tmpdir=\"temp\",\n",
    "#     add_options=[\"gams_model.optfile=1;\"],\n",
    "# )"
   ]
  },
  {
   "cell_type": "code",
   "execution_count": null,
   "metadata": {},
   "outputs": [],
   "source": [
    "# RPB.ads.L.fix()\n",
    "# RPB.ads.theta.fix()\n",
    "# RPB.des.P_in.fix()\n",
    "# RPB.ads.Tx.fix()\n",
    "# RPB.des.Tx.fix()\n",
    "# RPB.ads.w_rpm.fix()\n",
    "\n",
    "# degrees_of_freedom(RPB) # need dof=0 for diagnostic tools"
   ]
  },
  {
   "cell_type": "code",
   "execution_count": null,
   "metadata": {},
   "outputs": [],
   "source": [
    "diagtool = DiagnosticsToolbox(m)"
   ]
  },
  {
   "cell_type": "code",
   "execution_count": null,
   "metadata": {},
   "outputs": [],
   "source": [
    "diagtool.report_structural_issues()"
   ]
  },
  {
   "cell_type": "code",
   "execution_count": null,
   "metadata": {},
   "outputs": [],
   "source": [
    "diagtool.report_numerical_issues()"
   ]
  },
  {
   "cell_type": "code",
   "execution_count": null,
   "metadata": {},
   "outputs": [],
   "source": [
    "diagtool.display_constraints_with_extreme_jacobians()"
   ]
  },
  {
   "cell_type": "code",
   "execution_count": null,
   "metadata": {},
   "outputs": [],
   "source": [
    "iscale.get_scaling_factor(RPB.ads.Q_gs_eq[0.5,0.005])"
   ]
  },
  {
   "cell_type": "code",
   "execution_count": null,
   "metadata": {},
   "outputs": [],
   "source": [
    "value(RPB.des.Cp_g_out * RPB.des.Tg_out)"
   ]
  },
  {
   "cell_type": "code",
   "execution_count": null,
   "metadata": {},
   "outputs": [],
   "source": [
    "m=RPB.des\n",
    "z=0.8846928460920032\n",
    "o=0.005\n",
    "\n",
    "value((1 - m.eb) * m.rho_sol * m.Cp_sol * m.w * m.dTsdo[z, o])"
   ]
  },
  {
   "cell_type": "code",
   "execution_count": null,
   "metadata": {},
   "outputs": [],
   "source": [
    "print(units.get_units(RPB.productivity))"
   ]
  },
  {
   "cell_type": "code",
   "execution_count": null,
   "metadata": {},
   "outputs": [],
   "source": [
    "from pyomo.util.check_units import assert_units_consistent, assert_units_equivalent, check_units_equivalent"
   ]
  },
  {
   "cell_type": "code",
   "execution_count": null,
   "metadata": {},
   "outputs": [],
   "source": [
    "assert_units_equivalent(RPB.ads.vel0)"
   ]
  },
  {
   "cell_type": "code",
   "execution_count": null,
   "metadata": {},
   "outputs": [],
   "source": [
    "assert_units_equivalent(RPB.ads.Cp_g[\"CO2\", 0.5, 0.1])"
   ]
  },
  {
   "cell_type": "code",
   "execution_count": null,
   "metadata": {},
   "outputs": [],
   "source": [
    "check_units_equivalent(RPB.ads.qCO2_eq[0.5, 0.1])"
   ]
  },
  {
   "cell_type": "code",
   "execution_count": null,
   "metadata": {},
   "outputs": [],
   "source": [
    "assert_units_consistent(RPB.lean_temp_constraint)"
   ]
  },
  {
   "cell_type": "code",
   "execution_count": null,
   "metadata": {},
   "outputs": [],
   "source": [
    "print(units.get_units(RPB.ads.iso_w2[0.5, 0.1]))"
   ]
  },
  {
   "cell_type": "code",
   "execution_count": null,
   "metadata": {},
   "outputs": [],
   "source": [
    "check_scaling(RPB)"
   ]
  },
  {
   "cell_type": "code",
   "execution_count": null,
   "metadata": {},
   "outputs": [],
   "source": [
    "m=RPB.des\n",
    "z=0.8846928460920032\n",
    "o=0.005\n",
    "\n",
    "m.Q_gs[z, o]()"
   ]
  },
  {
   "cell_type": "code",
   "execution_count": null,
   "metadata": {},
   "outputs": [],
   "source": [
    "RPB.ads.Q_gs_eq[0.04336244396414017,0.005]()/RPB.ads.R_HT_gs() * RPB.ads.h_gs[0.04336244396414017,0.005]() * RPB.ads.a_s()"
   ]
  },
  {
   "cell_type": "code",
   "execution_count": null,
   "metadata": {},
   "outputs": [],
   "source": []
  }
 ],
 "metadata": {
  "kernelspec": {
   "display_name": "idaes-pse",
   "language": "python",
   "name": "python3"
  },
  "language_info": {
   "codemirror_mode": {
    "name": "ipython",
    "version": 3
   },
   "file_extension": ".py",
   "mimetype": "text/x-python",
   "name": "python",
   "nbconvert_exporter": "python",
   "pygments_lexer": "ipython3",
   "version": "3.10.13"
  },
  "orig_nbformat": 4
 },
 "nbformat": 4,
 "nbformat_minor": 2
}
