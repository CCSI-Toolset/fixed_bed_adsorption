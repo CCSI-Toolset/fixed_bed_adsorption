{
 "cells": [
  {
   "attachments": {},
   "cell_type": "markdown",
   "metadata": {},
   "source": [
    "# Import RPB model along with other utility functions"
   ]
  },
  {
   "cell_type": "code",
   "execution_count": null,
   "metadata": {},
   "outputs": [],
   "source": [
    "from RPB_model import *"
   ]
  },
  {
   "cell_type": "markdown",
   "metadata": {},
   "source": [
    "# Creating model for a single side/section of the RPB"
   ]
  },
  {
   "cell_type": "code",
   "execution_count": null,
   "metadata": {},
   "outputs": [],
   "source": [
    "# Create model instance. Currently, mode can be either \"adsorption\" or \"desorption\" which sets the boundary conditions for each case.\n",
    "# m=RPB_model(mode=\"adsorption\")\n",
    "# or\n",
    "m=RPB_model(mode=\"adsorption\", gas_flow_direction=1)\n",
    "\n",
    "# Custom initialization routine. Uses a homotopy routine to adjust the initialization factors so that all equations are 'active'.\n",
    "single_section_init(m)\n",
    "# homotopy_init_routine(m)"
   ]
  },
  {
   "cell_type": "code",
   "execution_count": null,
   "metadata": {},
   "outputs": [],
   "source": [
    "list(m.z)"
   ]
  },
  {
   "cell_type": "code",
   "execution_count": null,
   "metadata": {},
   "outputs": [],
   "source": [
    "# Plotting the results/profiles\n",
    "\n",
    "plotting(m)"
   ]
  },
  {
   "cell_type": "code",
   "execution_count": null,
   "metadata": {},
   "outputs": [],
   "source": [
    "# Some various utility functions that I have been using to check model performance\n",
    "evaluate_MB_error(m)\n",
    "\n",
    "print(f'CO2 Capture = {m.CO2_capture():.3}')\n",
    "\n",
    "check_scaling(m)\n",
    "\n",
    "# degen_hunter(m)\n",
    "\n",
    "# jac, variables, constraints = scaling_script(m)"
   ]
  },
  {
   "cell_type": "code",
   "execution_count": null,
   "metadata": {},
   "outputs": [],
   "source": [
    "variables[3870].pprint()"
   ]
  },
  {
   "cell_type": "code",
   "execution_count": null,
   "metadata": {},
   "outputs": [],
   "source": [
    "constraints[4076].pprint()"
   ]
  },
  {
   "cell_type": "code",
   "execution_count": null,
   "metadata": {},
   "outputs": [],
   "source": [
    "print(jac.getcol(2921))"
   ]
  },
  {
   "attachments": {},
   "cell_type": "markdown",
   "metadata": {},
   "source": [
    "# Creating a full RPB model"
   ]
  },
  {
   "cell_type": "code",
   "execution_count": null,
   "metadata": {},
   "outputs": [],
   "source": [
    "RPB = full_model_creation(lean_temp_connection=True, configuration = \"counter-current\")\n",
    "init_routine_1(RPB)"
   ]
  },
  {
   "cell_type": "code",
   "execution_count": null,
   "metadata": {},
   "outputs": [],
   "source": [
    "fix_capture_and_solve(RPB, capture=0.95)"
   ]
  },
  {
   "cell_type": "code",
   "execution_count": null,
   "metadata": {},
   "outputs": [],
   "source": [
    "report(RPB)"
   ]
  },
  {
   "cell_type": "code",
   "execution_count": null,
   "metadata": {},
   "outputs": [],
   "source": [
    "evaluate_MB_error(RPB.ads)"
   ]
  },
  {
   "cell_type": "code",
   "execution_count": null,
   "metadata": {},
   "outputs": [],
   "source": [
    "check_scaling(RPB)"
   ]
  },
  {
   "cell_type": "code",
   "execution_count": null,
   "metadata": {},
   "outputs": [],
   "source": [
    "jac, variables, constraints = scaling_script(RPB)"
   ]
  },
  {
   "cell_type": "markdown",
   "metadata": {},
   "source": [
    "# Save and load model"
   ]
  },
  {
   "cell_type": "code",
   "execution_count": null,
   "metadata": {},
   "outputs": [],
   "source": [
    "# save model\n",
    "to_json(RPB, fname=\"counter current base case 090823.json.gz\", gz=True, human_read=False)"
   ]
  },
  {
   "cell_type": "code",
   "execution_count": null,
   "metadata": {},
   "outputs": [],
   "source": [
    "# create model, load, and solve\n",
    "RPB = full_model_creation(lean_temp_connection=True, configuration = \"counter-current\")\n",
    "\n",
    "from_json(RPB, fname=\"counter current base case 090823.json.gz\", gz=True)\n",
    "\n",
    "solver = SolverFactory(\"ipopt\")\n",
    "solver.options = {\n",
    "    \"max_iter\": 1000,\n",
    "    \"bound_push\": 1e-22,\n",
    "    # \"halt_on_ampl_error\": \"yes\",\n",
    "}\n",
    "solver.solve(RPB, tee=True).write()"
   ]
  },
  {
   "cell_type": "markdown",
   "metadata": {},
   "source": [
    "Optimization Testing"
   ]
  },
  {
   "cell_type": "code",
   "execution_count": null,
   "metadata": {},
   "outputs": [],
   "source": [
    "# create regularization parameter for the objective function\n",
    "RPB.alpha_obj = Param(initialize=0.9, mutable=True)\n",
    "\n",
    "# add objective\n",
    "@RPB.Expression()\n",
    "def obj(RPB):\n",
    "    return RPB.alpha_obj * RPB.energy_requirement/10 - (1 - RPB.alpha_obj) * RPB.productivity/20\n",
    "\n",
    "RPB.objective = Objective(expr=RPB.obj)"
   ]
  },
  {
   "cell_type": "code",
   "execution_count": null,
   "metadata": {},
   "outputs": [],
   "source": [
    "RPB.ads.L.setlb(0.5)\n",
    "RPB.ads.L.setub(10)\n",
    "RPB.ads.L.pprint()"
   ]
  },
  {
   "cell_type": "code",
   "execution_count": null,
   "metadata": {},
   "outputs": [],
   "source": [
    "RPB.ads.Tx.setlb(25+273)\n",
    "RPB.ads.Tx.setub(95+273)\n",
    "RPB.ads.Tx.pprint()"
   ]
  },
  {
   "cell_type": "code",
   "execution_count": null,
   "metadata": {},
   "outputs": [],
   "source": [
    "RPB.des.Tx.setlb(100+273)\n",
    "RPB.des.Tx.setub(160+273)\n",
    "RPB.des.Tx.pprint()"
   ]
  },
  {
   "cell_type": "code",
   "execution_count": null,
   "metadata": {},
   "outputs": [],
   "source": [
    "RPB.des.P_in.setub(1.15)\n",
    "RPB.des.P_in.setlb(1.02)\n",
    "RPB.des.P_in.pprint()"
   ]
  },
  {
   "cell_type": "code",
   "execution_count": null,
   "metadata": {},
   "outputs": [],
   "source": [
    "degrees_of_freedom(RPB)"
   ]
  },
  {
   "cell_type": "code",
   "execution_count": null,
   "metadata": {},
   "outputs": [],
   "source": [
    "RPB.ads.w_rpm.setlb(0.5)\n",
    "RPB.ads.w_rpm.setub(5)\n",
    "RPB.ads.w_rpm.pprint()"
   ]
  },
  {
   "cell_type": "code",
   "execution_count": null,
   "metadata": {},
   "outputs": [],
   "source": [
    "# free up decision variables\n",
    "# RPB.ads.L.unfix()\n",
    "RPB.ads.theta.unfix()\n",
    "# RPB.des.P_in.unfix()\n",
    "# RPB.ads.Tx.unfix()\n",
    "# RPB.des.Tx.unfix()"
   ]
  },
  {
   "cell_type": "code",
   "execution_count": null,
   "metadata": {},
   "outputs": [],
   "source": [
    "degrees_of_freedom(RPB)"
   ]
  },
  {
   "cell_type": "code",
   "execution_count": null,
   "metadata": {},
   "outputs": [],
   "source": [
    "# solve\n",
    "solver = SolverFactory(\"ipopt\")\n",
    "solver.options = {\n",
    "    \"max_iter\": 1000,\n",
    "    \"bound_push\": 1e-8,\n",
    "    # \"halt_on_ampl_error\": \"yes\",\n",
    "    \"tol\": 1e-4,\n",
    "    \"max_cpu_time\": 5*60,\n",
    "    \"mu_strategy\": \"adaptive\",\n",
    "}\n",
    "solver.solve(RPB, tee=True).write()"
   ]
  },
  {
   "cell_type": "code",
   "execution_count": null,
   "metadata": {},
   "outputs": [],
   "source": [
    "report(RPB)"
   ]
  },
  {
   "cell_type": "code",
   "execution_count": null,
   "metadata": {},
   "outputs": [],
   "source": [
    "[RPB.ads.qCO2_eq[z,o]() for z,o in RPB.ads.qCO2_eq.keys()]"
   ]
  },
  {
   "cell_type": "code",
   "execution_count": null,
   "metadata": {},
   "outputs": [],
   "source": [
    "RPB.ads.Tx()"
   ]
  },
  {
   "cell_type": "code",
   "execution_count": null,
   "metadata": {},
   "outputs": [],
   "source": [
    "full_contactor_plotting(RPB)"
   ]
  },
  {
   "cell_type": "code",
   "execution_count": null,
   "metadata": {},
   "outputs": [],
   "source": [
    "RPB.ads.Q_ghx_tot_kW()"
   ]
  },
  {
   "cell_type": "code",
   "execution_count": null,
   "metadata": {},
   "outputs": [],
   "source": [
    "list(RPB.ads.z)"
   ]
  },
  {
   "cell_type": "code",
   "execution_count": null,
   "metadata": {},
   "outputs": [],
   "source": []
  }
 ],
 "metadata": {
  "kernelspec": {
   "display_name": "idaes-pse",
   "language": "python",
   "name": "python3"
  },
  "language_info": {
   "codemirror_mode": {
    "name": "ipython",
    "version": 3
   },
   "file_extension": ".py",
   "mimetype": "text/x-python",
   "name": "python",
   "nbconvert_exporter": "python",
   "pygments_lexer": "ipython3",
   "version": "3.10.12"
  },
  "orig_nbformat": 4
 },
 "nbformat": 4,
 "nbformat_minor": 2
}
