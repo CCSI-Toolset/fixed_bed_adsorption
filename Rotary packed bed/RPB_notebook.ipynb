{
 "cells": [
  {
   "attachments": {},
   "cell_type": "markdown",
   "metadata": {},
   "source": [
    "# Import RPB model along with other utility functions"
   ]
  },
  {
   "cell_type": "code",
   "execution_count": 1,
   "metadata": {},
   "outputs": [],
   "source": [
    "from RPB_model import *"
   ]
  },
  {
   "cell_type": "markdown",
   "metadata": {},
   "source": [
    "# Creating model for a single side/section of the RPB"
   ]
  },
  {
   "cell_type": "code",
   "execution_count": null,
   "metadata": {},
   "outputs": [],
   "source": [
    "# Create model instance. Currently, mode can be either \"adsorption\" or \"desorption\" which sets the initial values and boundary conditions for each case.\n",
    "# m=RPB_model(mode=\"adsorption\", gas_flow_direction=1)\n",
    "# or\n",
    "m=RPB_model(mode=\"desorption\", gas_flow_direction=1)\n",
    "\n",
    "# Custom initialization routine. Uses block initialization function.\n",
    "single_section_init(m)"
   ]
  },
  {
   "cell_type": "code",
   "execution_count": null,
   "metadata": {},
   "outputs": [],
   "source": [
    "# Some various utility functions to check model performance\n",
    "evaluate_MB_error(m)\n",
    "\n",
    "print(f'CO2 Capture = {m.CO2_capture():.3}')"
   ]
  },
  {
   "cell_type": "code",
   "execution_count": null,
   "metadata": {},
   "outputs": [],
   "source": [
    "# scaling functions\n",
    "\n",
    "# check_scaling(m)\n",
    "\n",
    "# jac, variables, constraints = scaling_script(m)"
   ]
  },
  {
   "cell_type": "code",
   "execution_count": null,
   "metadata": {},
   "outputs": [],
   "source": [
    "plotting(m)"
   ]
  },
  {
   "attachments": {},
   "cell_type": "markdown",
   "metadata": {},
   "source": [
    "# Creating a full RPB model"
   ]
  },
  {
   "cell_type": "markdown",
   "metadata": {},
   "source": [
    "From scratch"
   ]
  },
  {
   "cell_type": "code",
   "execution_count": null,
   "metadata": {},
   "outputs": [],
   "source": [
    "# create pyomo model\n",
    "RPB = full_model_creation(lean_temp_connection=True, configuration = \"counter-current\")"
   ]
  },
  {
   "cell_type": "code",
   "execution_count": null,
   "metadata": {},
   "outputs": [],
   "source": [
    "RPB.ads.P.setub(1.26)\n",
    "RPB.ads.P_in.setub(1.26)\n",
    "\n",
    "RPB.des.P.setub(1.04)\n",
    "\n",
    "RPB.ads.L.fix(7.811853)\n",
    "RPB.ads.theta.fix(0.606758)\n",
    "RPB.des.P_in.fix(1.034350)\n",
    "RPB.ads.Tx.fix(347.700154)\n",
    "RPB.des.Tx.fix(433)\n",
    "# RPB.ads.w_rpm.fix(0.003502)\n",
    "RPB.ads.P_in.fix(1.250714)"
   ]
  },
  {
   "cell_type": "code",
   "execution_count": null,
   "metadata": {},
   "outputs": [],
   "source": [
    "# initialize using BlockTriangularizationInitializer() with a list of values for initialization factors within the models\n",
    "init_routine_1(RPB, homotopy_points=[1e-5,1e-4,1e-3,1e-2] + np.linspace(0.1,1,5).tolist())"
   ]
  },
  {
   "cell_type": "code",
   "execution_count": null,
   "metadata": {},
   "outputs": [],
   "source": [
    "init_obj = BlockTriangularizationInitializer()\n",
    "\n",
    "init_obj.config.block_solver_call_options = {\"tee\": True}\n",
    "init_obj.config.block_solver_options = {\n",
    "    # \"halt_on_ampl_error\": \"yes\",\n",
    "    \"max_iter\": 1000,\n",
    "}\n",
    "\n",
    "# target = 0.003502\n",
    "targets = [0.1,0.05,0.01,0.005,0.003502]\n",
    "\n",
    "for target in targets:\n",
    "\n",
    "    steps = np.linspace(0,1,10)\n",
    "\n",
    "    points = [(target - RPB.ads.w_rpm())*i + RPB.ads.w_rpm() for i in steps]\n",
    "\n",
    "    for i in points:\n",
    "        RPB.ads.w_rpm.fix(i)\n",
    "        \n",
    "        init_obj.initialization_routine(RPB)\n",
    "\n",
    "    solver = SolverFactory(\"ipopt\")\n",
    "    solver.options = {\n",
    "        \"max_iter\": 500,\n",
    "        \"bound_push\": 1e-22,\n",
    "        \"halt_on_ampl_error\": \"yes\",\n",
    "    }\n",
    "    solver.solve(RPB, tee=True).write()"
   ]
  },
  {
   "cell_type": "code",
   "execution_count": null,
   "metadata": {},
   "outputs": [],
   "source": [
    "get_init_factors(RPB.ads) # these should all be = 1"
   ]
  },
  {
   "cell_type": "code",
   "execution_count": null,
   "metadata": {},
   "outputs": [],
   "source": [
    "report(RPB)"
   ]
  },
  {
   "cell_type": "markdown",
   "metadata": {},
   "source": [
    "From a previous solution"
   ]
  },
  {
   "cell_type": "code",
   "execution_count": null,
   "metadata": {},
   "outputs": [],
   "source": [
    "# create pyomo model\n",
    "RPB = full_model_creation(lean_temp_connection=True, configuration = \"counter-current\")\n",
    "\n",
    "# load a previous solution and solve\n",
    "from_json(RPB, fname=\"base case solution 012424.json.gz\", gz=True)\n",
    "\n",
    "solver = SolverFactory(\"ipopt\")\n",
    "solver.options = {\n",
    "    \"max_iter\": 1000,\n",
    "    \"bound_push\": 1e-22,\n",
    "    \"halt_on_ampl_error\": \"yes\",\n",
    "}\n",
    "solver.solve(RPB, tee=True).write()"
   ]
  },
  {
   "cell_type": "code",
   "execution_count": null,
   "metadata": {},
   "outputs": [],
   "source": [
    "report(RPB)"
   ]
  },
  {
   "cell_type": "code",
   "execution_count": null,
   "metadata": {},
   "outputs": [],
   "source": [
    "evaluate_MB_error(RPB.ads)\n",
    "print(' ')\n",
    "evaluate_MB_error(RPB.des)"
   ]
  },
  {
   "cell_type": "code",
   "execution_count": null,
   "metadata": {},
   "outputs": [],
   "source": [
    "# different scaling functions\n",
    "\n",
    "# check_scaling(RPB)\n",
    "\n",
    "# jac, variables, constraints = scaling_script(RPB)"
   ]
  },
  {
   "cell_type": "markdown",
   "metadata": {},
   "source": [
    "# Optimization"
   ]
  },
  {
   "cell_type": "markdown",
   "metadata": {},
   "source": [
    "start from initialized model"
   ]
  },
  {
   "cell_type": "code",
   "execution_count": null,
   "metadata": {},
   "outputs": [],
   "source": [
    "# starting from initialized model. Change design to fix capture by freeing up inlet adsorber pressure\n",
    "\n",
    "RPB.ads.P_in.unfix()\n",
    "RPB.ads.CO2_capture.fix(0.95)\n",
    "\n",
    "solver = SolverFactory(\"ipopt\")\n",
    "solver.options = {\n",
    "    \"max_iter\": 1000,\n",
    "    \"bound_push\": 1e-22,\n",
    "    # \"halt_on_ampl_error\": \"yes\",\n",
    "}\n",
    "solver.solve(RPB, tee=True).write()"
   ]
  },
  {
   "cell_type": "code",
   "execution_count": null,
   "metadata": {},
   "outputs": [],
   "source": [
    "# create regularization parameter for the objective function\n",
    "RPB.alpha_obj = Param(initialize=0.5, mutable=True)\n",
    "\n",
    "# add objective\n",
    "@RPB.Expression()\n",
    "def obj(RPB):\n",
    "    return RPB.alpha_obj * RPB.energy_requirement - (1 - RPB.alpha_obj) * RPB.productivity\n",
    "\n",
    "RPB.objective = Objective(expr=RPB.obj)\n",
    "\n",
    "RPB.objective.pprint()"
   ]
  },
  {
   "cell_type": "code",
   "execution_count": null,
   "metadata": {},
   "outputs": [],
   "source": [
    "# set bounds for decision variables\n",
    "RPB.ads.L.setlb(0.01)\n",
    "RPB.ads.L.setub(40)\n",
    "RPB.des.L.setlb(0.01)\n",
    "RPB.des.L.setub(40)\n",
    "RPB.ads.L.pprint()"
   ]
  },
  {
   "cell_type": "code",
   "execution_count": null,
   "metadata": {},
   "outputs": [],
   "source": [
    "RPB.ads.Tx.setlb(25+273)\n",
    "RPB.ads.Tx.setub(95+273)\n",
    "RPB.ads.Tx.pprint()"
   ]
  },
  {
   "cell_type": "code",
   "execution_count": null,
   "metadata": {},
   "outputs": [],
   "source": [
    "RPB.des.Tx.setlb(100+273)\n",
    "RPB.des.Tx.setub(160+273)\n",
    "RPB.des.Tx.pprint()"
   ]
  },
  {
   "cell_type": "code",
   "execution_count": null,
   "metadata": {},
   "outputs": [],
   "source": [
    "RPB.ads.P_in.setub(1.5)\n",
    "RPB.ads.P_in.pprint()\n",
    "RPB.ads.P.setub(1.5)"
   ]
  },
  {
   "cell_type": "code",
   "execution_count": null,
   "metadata": {},
   "outputs": [],
   "source": [
    "RPB.des.P_in.setub(1.5)\n",
    "RPB.des.P_in.setlb(1.01325)\n",
    "RPB.des.P.setub(1.5)\n",
    "RPB.des.P_in.pprint()"
   ]
  },
  {
   "cell_type": "code",
   "execution_count": null,
   "metadata": {},
   "outputs": [],
   "source": [
    "RPB.ads.w_rpm.setlb(0.00001)\n",
    "RPB.ads.w_rpm.setub(0.005)\n",
    "RPB.ads.w_rpm.pprint()"
   ]
  },
  {
   "cell_type": "code",
   "execution_count": null,
   "metadata": {},
   "outputs": [],
   "source": [
    "# free up decision variables (keep des.Tx fixed for first run the free up later)\n",
    "RPB.ads.L.unfix()\n",
    "RPB.ads.theta.unfix()\n",
    "RPB.des.P_in.unfix()\n",
    "RPB.ads.Tx.unfix()\n",
    "RPB.des.Tx.unfix()\n",
    "RPB.ads.w_rpm.unfix()"
   ]
  },
  {
   "cell_type": "code",
   "execution_count": null,
   "metadata": {},
   "outputs": [],
   "source": [
    "degrees_of_freedom(RPB)"
   ]
  },
  {
   "cell_type": "code",
   "execution_count": null,
   "metadata": {},
   "outputs": [],
   "source": [
    "RPB.ads.w_rpm.unfix()"
   ]
  },
  {
   "cell_type": "code",
   "execution_count": null,
   "metadata": {},
   "outputs": [],
   "source": [
    "# solve using conopt thorugh gams\n",
    "results = SolverFactory(\"gams\").solve(\n",
    "    RPB,\n",
    "    tee=True,\n",
    "    keepfiles=True,\n",
    "    solver=\"conopt4\",\n",
    "    tmpdir=\"temp\",\n",
    "    add_options=[\"gams_model.optfile=1;\"],\n",
    ")"
   ]
  },
  {
   "cell_type": "code",
   "execution_count": null,
   "metadata": {},
   "outputs": [],
   "source": [
    "# or solve using ipopt\n",
    "# solver = SolverFactory(\"ipopt\")\n",
    "# solver.options = {\n",
    "#     \"max_iter\": 1000,\n",
    "#     \"bound_push\": 1e-8,\n",
    "#     # \"halt_on_ampl_error\": \"yes\",\n",
    "#     \"tol\": 1e-4,\n",
    "#     \"max_cpu_time\": 5*60,\n",
    "#     # \"mu_strategy\": \"adaptive\",\n",
    "# }\n",
    "# solver.solve(RPB, tee=True).write()"
   ]
  },
  {
   "cell_type": "code",
   "execution_count": null,
   "metadata": {},
   "outputs": [],
   "source": [
    "results_df = report(RPB)\n",
    "results_df"
   ]
  },
  {
   "cell_type": "code",
   "execution_count": null,
   "metadata": {},
   "outputs": [],
   "source": [
    "evaluate_MB_error(RPB.ads)\n",
    "print(' ')\n",
    "evaluate_MB_error(RPB.des)"
   ]
  },
  {
   "cell_type": "code",
   "execution_count": null,
   "metadata": {},
   "outputs": [],
   "source": [
    "# custom function using degeneracy hunter. Mainly to see if any variables are pushing their bounds\n",
    "degen_hunter(RPB)"
   ]
  },
  {
   "cell_type": "markdown",
   "metadata": {},
   "source": [
    "start from previous optimized case"
   ]
  },
  {
   "cell_type": "code",
   "execution_count": null,
   "metadata": {},
   "outputs": [],
   "source": [
    "# create pyomo model\n",
    "RPB = full_model_creation(lean_temp_connection=True, configuration = \"counter-current\")"
   ]
  },
  {
   "cell_type": "code",
   "execution_count": null,
   "metadata": {},
   "outputs": [],
   "source": [
    "# create regularization parameter for the objective function\n",
    "RPB.alpha_obj = Param(initialize=0.5, mutable=True)\n",
    "\n",
    "# add objective\n",
    "@RPB.Expression()\n",
    "def obj(RPB):\n",
    "    return RPB.alpha_obj * RPB.energy_requirement - (1 - RPB.alpha_obj) * RPB.productivity\n",
    "\n",
    "RPB.objective = Objective(expr=RPB.obj)\n",
    "\n",
    "RPB.objective.pprint()"
   ]
  },
  {
   "cell_type": "code",
   "execution_count": null,
   "metadata": {},
   "outputs": [],
   "source": [
    "# set bounds for decision variables\n",
    "RPB.ads.L.setlb(0.01)\n",
    "RPB.ads.L.setub(40)\n",
    "RPB.des.L.setlb(0.01)\n",
    "RPB.des.L.setub(40)\n",
    "RPB.ads.L.pprint()"
   ]
  },
  {
   "cell_type": "code",
   "execution_count": null,
   "metadata": {},
   "outputs": [],
   "source": [
    "RPB.ads.Tx.setlb(25+273)\n",
    "RPB.ads.Tx.setub(95+273)\n",
    "RPB.ads.Tx.pprint()"
   ]
  },
  {
   "cell_type": "code",
   "execution_count": null,
   "metadata": {},
   "outputs": [],
   "source": [
    "RPB.des.Tx.setlb(100+273)\n",
    "RPB.des.Tx.setub(160+273)\n",
    "RPB.des.Tx.pprint()"
   ]
  },
  {
   "cell_type": "code",
   "execution_count": null,
   "metadata": {},
   "outputs": [],
   "source": [
    "RPB.ads.P_in.setub(1.5)\n",
    "RPB.ads.P_in.pprint()\n",
    "RPB.ads.P.setub(1.5)"
   ]
  },
  {
   "cell_type": "code",
   "execution_count": null,
   "metadata": {},
   "outputs": [],
   "source": [
    "RPB.des.P_in.setub(1.5)\n",
    "RPB.des.P_in.setlb(1.01325)\n",
    "RPB.des.P.setub(1.5)\n",
    "RPB.des.P_in.pprint()"
   ]
  },
  {
   "cell_type": "code",
   "execution_count": null,
   "metadata": {},
   "outputs": [],
   "source": [
    "RPB.ads.w_rpm.setlb(0.00001)\n",
    "RPB.ads.w_rpm.setub(0.1)\n",
    "RPB.ads.w_rpm.pprint()"
   ]
  },
  {
   "cell_type": "code",
   "execution_count": null,
   "metadata": {},
   "outputs": [],
   "source": [
    "# load a previous solution and solve\n",
    "from_json(RPB, fname=\"opt solution 012424.json.gz\", gz=True)"
   ]
  },
  {
   "cell_type": "code",
   "execution_count": null,
   "metadata": {},
   "outputs": [],
   "source": [
    "RPB.alpha_obj.pprint()"
   ]
  },
  {
   "cell_type": "code",
   "execution_count": null,
   "metadata": {},
   "outputs": [],
   "source": [
    "# free up decision variables (keep des.Tx fixed for first run the free up later)\n",
    "RPB.ads.L.unfix()\n",
    "RPB.ads.theta.unfix()\n",
    "RPB.des.P_in.unfix()\n",
    "RPB.ads.Tx.unfix()\n",
    "RPB.des.Tx.unfix()\n",
    "RPB.ads.w_rpm.unfix()"
   ]
  },
  {
   "cell_type": "code",
   "execution_count": null,
   "metadata": {},
   "outputs": [],
   "source": [
    "degrees_of_freedom(RPB)"
   ]
  },
  {
   "cell_type": "code",
   "execution_count": null,
   "metadata": {},
   "outputs": [],
   "source": [
    "# solve using conopt thorugh gams\n",
    "results = SolverFactory(\"gams\").solve(\n",
    "    RPB,\n",
    "    tee=True,\n",
    "    keepfiles=True,\n",
    "    solver=\"conopt4\",\n",
    "    tmpdir=\"temp\",\n",
    "    add_options=[\"gams_model.optfile=1;\"],\n",
    ")"
   ]
  },
  {
   "cell_type": "code",
   "execution_count": null,
   "metadata": {},
   "outputs": [],
   "source": [
    "report(RPB)"
   ]
  },
  {
   "cell_type": "code",
   "execution_count": null,
   "metadata": {},
   "outputs": [],
   "source": [
    "degen_hunter(RPB)"
   ]
  },
  {
   "cell_type": "markdown",
   "metadata": {},
   "source": [
    "pareto front generation"
   ]
  },
  {
   "cell_type": "code",
   "execution_count": null,
   "metadata": {},
   "outputs": [],
   "source": [
    "# list of alpha values to use in the objective function\n",
    "alpha_list=[\n",
    "    0.0001,\n",
    "    0.001,\n",
    "    0.005,\n",
    "    0.01,\n",
    "    0.02,\n",
    "    0.05,\n",
    "    0.1,\n",
    "    0.2,\n",
    "    0.3,\n",
    "    0.4,\n",
    "    0.5,\n",
    "    0.6,\n",
    "    0.7,\n",
    "    0.8,\n",
    "    0.9,\n",
    "    0.925,\n",
    "    0.95,\n",
    "    0.975,\n",
    "    0.99,\n",
    "    0.999,\n",
    "]"
   ]
  },
  {
   "cell_type": "code",
   "execution_count": null,
   "metadata": {},
   "outputs": [],
   "source": [
    "# optimize for every value and store the results\n",
    "E = []\n",
    "P = []\n",
    "\n",
    "for j in alpha_list:\n",
    "    RPB.alpha_obj = j\n",
    "\n",
    "    results = SolverFactory(\"gams\").solve(\n",
    "        RPB,\n",
    "        tee=True,\n",
    "        keepfiles=True,\n",
    "        solver=\"conopt4\",\n",
    "        tmpdir=\"temp\",\n",
    "        add_options=[\"gams_model.optfile=1;\"],\n",
    "    )\n",
    "\n",
    "    print(f'alpha = {j}, E={RPB.energy_requirement()}, P={RPB.productivity()}')\n",
    "\n",
    "    E.append(RPB.energy_requirement())\n",
    "    P.append(RPB.productivity())\n"
   ]
  },
  {
   "cell_type": "code",
   "execution_count": null,
   "metadata": {},
   "outputs": [],
   "source": [
    "pd.DataFrame({'alpha':alpha_list,'E':E,'P':P})"
   ]
  },
  {
   "cell_type": "code",
   "execution_count": null,
   "metadata": {},
   "outputs": [],
   "source": [
    "plt.scatter(E,P)"
   ]
  },
  {
   "cell_type": "markdown",
   "metadata": {},
   "source": [
    "# Polishing step simulation and optimization"
   ]
  },
  {
   "cell_type": "markdown",
   "metadata": {},
   "source": [
    "start from previous optimized case"
   ]
  },
  {
   "cell_type": "code",
   "execution_count": 2,
   "metadata": {},
   "outputs": [],
   "source": [
    "# create pyomo model\n",
    "RPB = full_model_creation(lean_temp_connection=True, configuration = \"counter-current\")"
   ]
  },
  {
   "cell_type": "code",
   "execution_count": 3,
   "metadata": {},
   "outputs": [
    {
     "name": "stdout",
     "output_type": "stream",
     "text": [
      "objective : Size=1, Index=None, Active=True\n",
      "    Key  : Active : Sense    : Expression\n",
      "    None :   True : minimize :        obj\n"
     ]
    }
   ],
   "source": [
    "# create regularization parameter for the objective function\n",
    "RPB.alpha_obj = Param(initialize=0.5, mutable=True)\n",
    "\n",
    "# add objective\n",
    "@RPB.Expression()\n",
    "def obj(RPB):\n",
    "    return RPB.alpha_obj * RPB.energy_requirement - (1 - RPB.alpha_obj) * RPB.productivity\n",
    "\n",
    "RPB.objective = Objective(expr=RPB.obj)\n",
    "\n",
    "RPB.objective.pprint()"
   ]
  },
  {
   "cell_type": "code",
   "execution_count": 4,
   "metadata": {},
   "outputs": [
    {
     "name": "stdout",
     "output_type": "stream",
     "text": [
      "L : Bed Length [m]\n",
      "    Size=1, Index=None, Units=m\n",
      "    Key  : Lower : Value : Upper : Fixed : Stale : Domain\n",
      "    None :  0.01 :     3 :    40 :  True : False :  Reals\n"
     ]
    }
   ],
   "source": [
    "# set bounds for decision variables\n",
    "RPB.ads.L.setlb(0.01)\n",
    "RPB.ads.L.setub(40)\n",
    "RPB.des.L.setlb(0.01)\n",
    "RPB.des.L.setub(40)\n",
    "RPB.ads.L.pprint()"
   ]
  },
  {
   "cell_type": "code",
   "execution_count": 5,
   "metadata": {},
   "outputs": [
    {
     "name": "stdout",
     "output_type": "stream",
     "text": [
      "Tx : heat exchange fluid temperature, constant [K]\n",
      "    Size=1, Index=None, Units=K\n",
      "    Key  : Lower : Value : Upper : Fixed : Stale : Domain\n",
      "    None :   298 :   363 :   368 :  True : False :  Reals\n"
     ]
    }
   ],
   "source": [
    "RPB.ads.Tx.setlb(25+273)\n",
    "RPB.ads.Tx.setub(95+273)\n",
    "RPB.ads.Tx.pprint()"
   ]
  },
  {
   "cell_type": "code",
   "execution_count": 6,
   "metadata": {},
   "outputs": [
    {
     "name": "stdout",
     "output_type": "stream",
     "text": [
      "Tx : heat exchange fluid temperature, constant [K]\n",
      "    Size=1, Index=None, Units=K\n",
      "    Key  : Lower : Value : Upper : Fixed : Stale : Domain\n",
      "    None :   373 :   393 :   433 :  True : False :  Reals\n"
     ]
    }
   ],
   "source": [
    "RPB.des.Tx.setlb(100+273)\n",
    "RPB.des.Tx.setub(160+273)\n",
    "RPB.des.Tx.pprint()"
   ]
  },
  {
   "cell_type": "code",
   "execution_count": 7,
   "metadata": {},
   "outputs": [
    {
     "name": "stdout",
     "output_type": "stream",
     "text": [
      "P_in : Inlet flue gas pressure [bar]\n",
      "    Size=1, Index=None, Units=bar\n",
      "    Key  : Lower : Value    : Upper : Fixed : Stale : Domain\n",
      "    None :     1 : 1.025649 :   1.5 :  True : False :  Reals\n"
     ]
    }
   ],
   "source": [
    "RPB.ads.P_in.setub(1.5)\n",
    "RPB.ads.P_in.pprint()\n",
    "RPB.ads.P.setub(1.5)"
   ]
  },
  {
   "cell_type": "code",
   "execution_count": 8,
   "metadata": {},
   "outputs": [
    {
     "name": "stdout",
     "output_type": "stream",
     "text": [
      "P_in : Inlet flue gas pressure [bar]\n",
      "    Size=1, Index=None, Units=bar\n",
      "    Key  : Lower   : Value : Upper : Fixed : Stale : Domain\n",
      "    None : 1.01325 :   1.1 :   1.5 :  True : False :  Reals\n"
     ]
    }
   ],
   "source": [
    "RPB.des.P_in.setub(1.5)\n",
    "RPB.des.P_in.setlb(1.01325)\n",
    "RPB.des.P.setub(1.5)\n",
    "RPB.des.P_in.pprint()"
   ]
  },
  {
   "cell_type": "code",
   "execution_count": 9,
   "metadata": {},
   "outputs": [
    {
     "name": "stdout",
     "output_type": "stream",
     "text": [
      "w_rpm : bed rotational speed [revolutions/min]\n",
      "    Size=1, Index=None, Units=turn/min\n",
      "    Key  : Lower : Value : Upper : Fixed : Stale : Domain\n",
      "    None : 1e-05 :     1 :   0.1 :  True : False :  Reals\n"
     ]
    }
   ],
   "source": [
    "RPB.ads.w_rpm.setlb(0.00001)\n",
    "RPB.ads.w_rpm.setub(0.1)\n",
    "RPB.ads.w_rpm.pprint()"
   ]
  },
  {
   "cell_type": "code",
   "execution_count": 10,
   "metadata": {},
   "outputs": [
    {
     "data": {
      "text/plain": [
       "{'etime_load_file': 0.10199594497680664,\n",
       " 'etime_read_dict': 0.25035572052001953,\n",
       " 'etime_read_suffixes': 0.021993637084960938}"
      ]
     },
     "execution_count": 10,
     "metadata": {},
     "output_type": "execute_result"
    }
   ],
   "source": [
    "# load a previous solution and solve (will also load the inlet gas feed conc.)\n",
    "from_json(RPB, fname=\"polishing step optimized solution 031824.json.gz\", gz=True)"
   ]
  },
  {
   "cell_type": "code",
   "execution_count": 12,
   "metadata": {},
   "outputs": [
    {
     "name": "stdout",
     "output_type": "stream",
     "text": [
      "--- Job model.gms Start 03/18/24 15:33:32 40.4.0 d540b52e WEX-WEI x86 64bit/MS Windows\n",
      "--- Applying:\n",
      "    C:\\GAMS\\40\\gmsprmNT.txt\n",
      "--- GAMS Parameters defined\n",
      "    Input \"c:\\Users\\hughesr\\NETL\\CCSI\\fixed bed adsorption\\fixed_bed_adsorption\\Rotary packed bed\\temp\\model.gms\"\n",
      "    Output \"c:\\Users\\hughesr\\NETL\\CCSI\\fixed bed adsorption\\fixed_bed_adsorption\\Rotary packed bed\\temp\\output.lst\"\n",
      "    ScrDir \"c:\\Users\\hughesr\\NETL\\CCSI\\fixed bed adsorption\\fixed_bed_adsorption\\Rotary packed bed\\temp\\225m\\\"\n",
      "    SysDir C:\\GAMS\\40\\\n",
      "    CurDir \"c:\\Users\\hughesr\\NETL\\CCSI\\fixed bed adsorption\\fixed_bed_adsorption\\Rotary packed bed\\temp\\\"\n",
      "    LogOption 3\n",
      "Licensee: Medium MUD - 10 User License                   G211229|0002CN-GEN\n",
      "          U.S. Department of Energy, National Energy Technology LaborDC9138\n",
      "          C:\\Users\\hughesr\\Documents\\GAMS\\gamslice.txt\n",
      "          License Admin: Anthony P. Burgard, anthony.burgard@netl.doe.gov  \n",
      "Processor information: 1 socket(s), 8 core(s), and 16 thread(s) available\n",
      "GAMS 40.4.0   Copyright (C) 1987-2022 GAMS Development. All rights reserved\n",
      "--- Starting compilation\n",
      "--- model.gms(46983) 24 Mb\n",
      "--- model.gms(55343) 29 Mb\n",
      "--- model.gms(58033) 47 Mb\n",
      "--- model.gms(99207) 51 Mb\n",
      "--- model.gms(150288) 61 Mb\n",
      "--- Starting execution: elapsed 0:00:00.602\n",
      "--- model.gms(106355) 61 Mb\n",
      "--- Generating NLP model GAMS_MODEL\n",
      "--- model.gms(46806) 67 Mb\n",
      "--- model.gms(49127) 70 Mb\n",
      "--- model.gms(106359) 80 Mb\n",
      "---   21,935 rows  21,941 columns  86,587 non-zeroes\n",
      "---   2,074,332 nl-code  52,210 nl-non-zeroes\n",
      "--- Range statistics (absolute non-zero finite values)\n",
      "--- RHS       [min, max] : [ 1.000E-05, 7.460E+04] - Zero values observed as well\n",
      "--- Bound     [min, max] : [ 1.000E-05, 1.000E+03] - Zero values observed as well\n",
      "--- Matrix    [min, max] : [ 1.153E-20, 5.147E+05] - Zero values observed as well\n",
      "--- model.gms(106359) 79 Mb\n",
      "--- model.gms(106359) 68 Mb\n",
      "--- Executing CONOPT4 (Solvelink=5): elapsed 0:00:00.961\n",
      "\n",
      "CONOPT 4         40.4.0 d540b52e Oct 3, 2022           WEI x86 64bit/MS Window\n",
      "\n",
      "\n",
      "Reading parameter(s) from \"c:\\Users\\hughesr\\NETL\\CCSI\\fixed bed adsorption\\fixed_bed_adsorption\\Rotary packed bed\\temp\\conopt4.opt\"\n",
      ">>  iterlim = 500\n",
      ">>  rtredg = 1e-8\n",
      ">>  reslim = 600\n",
      "Finished reading from \"c:\\Users\\hughesr\\NETL\\CCSI\\fixed bed adsorption\\fixed_bed_adsorption\\Rotary packed bed\\temp\\conopt4.opt\"\n",
      "\n",
      " \n",
      " \n",
      "    C O N O P T   version 4.28\n",
      "    Copyright (C) ARKI Consulting and Development A/S\n",
      "                  Bagsvaerdvej 246 A\n",
      "                  DK-2880 Bagsvaerd, Denmark\n",
      " \n",
      " \n",
      "    The user model has 21935 constraints and 21941 variables\n",
      "    with 86587 Jacobian elements, 52210 of which are nonlinear.\n",
      " \n",
      "    Iter Phase   Ninf   Infeasibility   RGmax      NSB   Step  InItr MX OK\n",
      "       0   0          3.1096264066E+00 (Input point)\n",
      " \n",
      "    The pre-triangular part of the model has 2767 constraints and variables.\n",
      "    The post-triangular part of the model has 405 constraints and variables.\n",
      "    There are 7431 definitional constraints and defined variables.\n",
      " \n",
      "    Preprocessed model has 11332 constraints and 11338 variables\n",
      "    with 78415 Jacobian elements, 69734 of which are nonlinear.\n",
      " \n",
      "    Iter Phase   Ninf   Infeasibility   RGmax      NSB   Step  InItr MX OK\n",
      "                      5.9202902489E-08 (Full preprocessed model)\n",
      "                      4.6998580680E-10 (After scaling)\n",
      " \n",
      " ** Feasible solution. Value of objective =   -3.10962635588\n",
      " \n",
      "    Iter Phase   Ninf     Objective     RGmax      NSB   Step  InItr MX OK\n",
      "       1   3         -3.1096263559E+00 2.1E-09       3 0.0E+00     5 F  T\n",
      "       2   4         -3.1096263559E+00 2.1E-09       3\n",
      " \n",
      " ** Optimal solution. Reduced gradient less than tolerance.\n",
      " \n",
      "--- Reading solution for model GAMS_MODEL\n",
      "--- Executing after solve: elapsed 0:00:03.077\n",
      "--- model.gms(106362) 68 Mb\n",
      "--- model.gms(150288) 68 Mb\n",
      "--- Putfile results c:\\Users\\hughesr\\NETL\\CCSI\\fixed bed adsorption\\fixed_bed_adsorption\\Rotary packed bed\\temp\\results.dat\n",
      "--- Putfile statresults c:\\Users\\hughesr\\NETL\\CCSI\\fixed bed adsorption\\fixed_bed_adsorption\\Rotary packed bed\\temp\\resultsstat.dat\n",
      "*** Status: Normal completion\n",
      "--- model.gms(150288) 67 Mb\n",
      "--- Job model.gms Stop 03/18/24 15:33:35 elapsed 0:00:03.173\n",
      "\n",
      "GAMS WORKING DIRECTORY: temp\n",
      "\n"
     ]
    }
   ],
   "source": [
    "# solve using conopt thorugh gams\n",
    "results = SolverFactory(\"gams\").solve(\n",
    "    RPB,\n",
    "    tee=True,\n",
    "    keepfiles=True,\n",
    "    solver=\"conopt4\",\n",
    "    tmpdir=\"temp\",\n",
    "    add_options=[\"gams_model.optfile=1;\"],\n",
    ")"
   ]
  },
  {
   "cell_type": "code",
   "execution_count": 14,
   "metadata": {},
   "outputs": [
    {
     "data": {
      "text/html": [
       "<div>\n",
       "<style scoped>\n",
       "    .dataframe tbody tr th:only-of-type {\n",
       "        vertical-align: middle;\n",
       "    }\n",
       "\n",
       "    .dataframe tbody tr th {\n",
       "        vertical-align: top;\n",
       "    }\n",
       "\n",
       "    .dataframe thead th {\n",
       "        text-align: right;\n",
       "    }\n",
       "</style>\n",
       "<table border=\"1\" class=\"dataframe\">\n",
       "  <thead>\n",
       "    <tr style=\"text-align: right;\">\n",
       "      <th></th>\n",
       "      <th>Value</th>\n",
       "      <th>Doc</th>\n",
       "      <th>Fixed</th>\n",
       "      <th>Lower Bound</th>\n",
       "      <th>Upper Bound</th>\n",
       "    </tr>\n",
       "  </thead>\n",
       "  <tbody>\n",
       "    <tr>\n",
       "      <th>ads.L</th>\n",
       "      <td>2.296788</td>\n",
       "      <td>Bed Length [m]</td>\n",
       "      <td>False</td>\n",
       "      <td>0.01</td>\n",
       "      <td>40</td>\n",
       "    </tr>\n",
       "    <tr>\n",
       "      <th>ads.D</th>\n",
       "      <td>10.000000</td>\n",
       "      <td>Bed diameter [m]</td>\n",
       "      <td>True</td>\n",
       "      <td>None</td>\n",
       "      <td>None</td>\n",
       "    </tr>\n",
       "    <tr>\n",
       "      <th>ads.w_rpm</th>\n",
       "      <td>0.004795</td>\n",
       "      <td>bed rotational speed [revolutions/min]</td>\n",
       "      <td>False</td>\n",
       "      <td>0.00001</td>\n",
       "      <td>0.1</td>\n",
       "    </tr>\n",
       "    <tr>\n",
       "      <th>ads.theta</th>\n",
       "      <td>0.606012</td>\n",
       "      <td>Fraction of bed [-]</td>\n",
       "      <td>False</td>\n",
       "      <td>0.01</td>\n",
       "      <td>0.99</td>\n",
       "    </tr>\n",
       "    <tr>\n",
       "      <th>des.theta</th>\n",
       "      <td>0.393988</td>\n",
       "      <td>Fraction of bed [-]</td>\n",
       "      <td>False</td>\n",
       "      <td>0.01</td>\n",
       "      <td>0.99</td>\n",
       "    </tr>\n",
       "    <tr>\n",
       "      <th>ads.P_in</th>\n",
       "      <td>1.500000</td>\n",
       "      <td>Inlet flue gas pressure [bar]</td>\n",
       "      <td>False</td>\n",
       "      <td>1</td>\n",
       "      <td>1.5</td>\n",
       "    </tr>\n",
       "    <tr>\n",
       "      <th>ads.P_out</th>\n",
       "      <td>1.013250</td>\n",
       "      <td>Outlet adsorber pressure [bar]</td>\n",
       "      <td>True</td>\n",
       "      <td>0.99</td>\n",
       "      <td>1.2</td>\n",
       "    </tr>\n",
       "    <tr>\n",
       "      <th>ads.F_in</th>\n",
       "      <td>2572.502253</td>\n",
       "      <td>Inlet adsorber gas flow [mol/s]</td>\n",
       "      <td>False</td>\n",
       "      <td>0</td>\n",
       "      <td>None</td>\n",
       "    </tr>\n",
       "    <tr>\n",
       "      <th>ads.Tg_in</th>\n",
       "      <td>363.000000</td>\n",
       "      <td>Inlet flue gas temperature [K]</td>\n",
       "      <td>True</td>\n",
       "      <td>None</td>\n",
       "      <td>None</td>\n",
       "    </tr>\n",
       "    <tr>\n",
       "      <th>ads.Tx</th>\n",
       "      <td>298.000000</td>\n",
       "      <td>heat exchange fluid temperature, constant [K]</td>\n",
       "      <td>False</td>\n",
       "      <td>298</td>\n",
       "      <td>368</td>\n",
       "    </tr>\n",
       "    <tr>\n",
       "      <th>des.P_in</th>\n",
       "      <td>1.016762</td>\n",
       "      <td>Inlet flue gas pressure [bar]</td>\n",
       "      <td>False</td>\n",
       "      <td>1.01325</td>\n",
       "      <td>1.5</td>\n",
       "    </tr>\n",
       "    <tr>\n",
       "      <th>des.P_out</th>\n",
       "      <td>1.013250</td>\n",
       "      <td>Outlet adsorber pressure [bar]</td>\n",
       "      <td>True</td>\n",
       "      <td>0.99</td>\n",
       "      <td>1.2</td>\n",
       "    </tr>\n",
       "    <tr>\n",
       "      <th>des.F_in</th>\n",
       "      <td>30.493734</td>\n",
       "      <td>Inlet adsorber gas flow [mol/s]</td>\n",
       "      <td>False</td>\n",
       "      <td>0</td>\n",
       "      <td>None</td>\n",
       "    </tr>\n",
       "    <tr>\n",
       "      <th>des.Tg_in</th>\n",
       "      <td>393.000000</td>\n",
       "      <td>Inlet flue gas temperature [K]</td>\n",
       "      <td>True</td>\n",
       "      <td>None</td>\n",
       "      <td>None</td>\n",
       "    </tr>\n",
       "    <tr>\n",
       "      <th>des.Tx</th>\n",
       "      <td>433.000000</td>\n",
       "      <td>heat exchange fluid temperature, constant [K]</td>\n",
       "      <td>False</td>\n",
       "      <td>373</td>\n",
       "      <td>433</td>\n",
       "    </tr>\n",
       "    <tr>\n",
       "      <th>ads.CO2_capture</th>\n",
       "      <td>0.900000</td>\n",
       "      <td>CO2 capture fraction</td>\n",
       "      <td>True</td>\n",
       "      <td>None</td>\n",
       "      <td>None</td>\n",
       "    </tr>\n",
       "    <tr>\n",
       "      <th>energy_requirement</th>\n",
       "      <td>6.436162</td>\n",
       "      <td>Energy requirement [MJ/kg CO2]</td>\n",
       "      <td>N/A</td>\n",
       "      <td>N/A</td>\n",
       "      <td>N/A</td>\n",
       "    </tr>\n",
       "    <tr>\n",
       "      <th>productivity</th>\n",
       "      <td>12.655415</td>\n",
       "      <td>Productivity [kg CO2/h/m^3]</td>\n",
       "      <td>N/A</td>\n",
       "      <td>N/A</td>\n",
       "      <td>N/A</td>\n",
       "    </tr>\n",
       "    <tr>\n",
       "      <th>ads.y_in[N2]</th>\n",
       "      <td>0.902851</td>\n",
       "      <td>inlet mole fraction</td>\n",
       "      <td>True</td>\n",
       "      <td>NaN</td>\n",
       "      <td>NaN</td>\n",
       "    </tr>\n",
       "    <tr>\n",
       "      <th>ads.y_in[CO2]</th>\n",
       "      <td>0.004149</td>\n",
       "      <td>inlet mole fraction</td>\n",
       "      <td>True</td>\n",
       "      <td>NaN</td>\n",
       "      <td>NaN</td>\n",
       "    </tr>\n",
       "    <tr>\n",
       "      <th>ads.y_in[H2O]</th>\n",
       "      <td>0.093000</td>\n",
       "      <td>inlet mole fraction</td>\n",
       "      <td>True</td>\n",
       "      <td>NaN</td>\n",
       "      <td>NaN</td>\n",
       "    </tr>\n",
       "    <tr>\n",
       "      <th>ads.y_out[N2]</th>\n",
       "      <td>0.906235</td>\n",
       "      <td>outlet mole fraction</td>\n",
       "      <td>False</td>\n",
       "      <td>0.0</td>\n",
       "      <td>1.0</td>\n",
       "    </tr>\n",
       "    <tr>\n",
       "      <th>ads.y_out[CO2]</th>\n",
       "      <td>0.000416</td>\n",
       "      <td>outlet mole fraction</td>\n",
       "      <td>False</td>\n",
       "      <td>0.0</td>\n",
       "      <td>1.0</td>\n",
       "    </tr>\n",
       "    <tr>\n",
       "      <th>ads.y_out[H2O]</th>\n",
       "      <td>0.093349</td>\n",
       "      <td>outlet mole fraction</td>\n",
       "      <td>False</td>\n",
       "      <td>0.0</td>\n",
       "      <td>1.0</td>\n",
       "    </tr>\n",
       "  </tbody>\n",
       "</table>\n",
       "</div>"
      ],
      "text/plain": [
       "                          Value  \\\n",
       "ads.L                  2.296788   \n",
       "ads.D                 10.000000   \n",
       "ads.w_rpm              0.004795   \n",
       "ads.theta              0.606012   \n",
       "des.theta              0.393988   \n",
       "ads.P_in               1.500000   \n",
       "ads.P_out              1.013250   \n",
       "ads.F_in            2572.502253   \n",
       "ads.Tg_in            363.000000   \n",
       "ads.Tx               298.000000   \n",
       "des.P_in               1.016762   \n",
       "des.P_out              1.013250   \n",
       "des.F_in              30.493734   \n",
       "des.Tg_in            393.000000   \n",
       "des.Tx               433.000000   \n",
       "ads.CO2_capture        0.900000   \n",
       "energy_requirement     6.436162   \n",
       "productivity          12.655415   \n",
       "ads.y_in[N2]           0.902851   \n",
       "ads.y_in[CO2]          0.004149   \n",
       "ads.y_in[H2O]          0.093000   \n",
       "ads.y_out[N2]          0.906235   \n",
       "ads.y_out[CO2]         0.000416   \n",
       "ads.y_out[H2O]         0.093349   \n",
       "\n",
       "                                                              Doc  Fixed  \\\n",
       "ads.L                                              Bed Length [m]  False   \n",
       "ads.D                                            Bed diameter [m]   True   \n",
       "ads.w_rpm                  bed rotational speed [revolutions/min]  False   \n",
       "ads.theta                                     Fraction of bed [-]  False   \n",
       "des.theta                                     Fraction of bed [-]  False   \n",
       "ads.P_in                            Inlet flue gas pressure [bar]  False   \n",
       "ads.P_out                          Outlet adsorber pressure [bar]   True   \n",
       "ads.F_in                          Inlet adsorber gas flow [mol/s]  False   \n",
       "ads.Tg_in                          Inlet flue gas temperature [K]   True   \n",
       "ads.Tx              heat exchange fluid temperature, constant [K]  False   \n",
       "des.P_in                            Inlet flue gas pressure [bar]  False   \n",
       "des.P_out                          Outlet adsorber pressure [bar]   True   \n",
       "des.F_in                          Inlet adsorber gas flow [mol/s]  False   \n",
       "des.Tg_in                          Inlet flue gas temperature [K]   True   \n",
       "des.Tx              heat exchange fluid temperature, constant [K]  False   \n",
       "ads.CO2_capture                              CO2 capture fraction   True   \n",
       "energy_requirement                 Energy requirement [MJ/kg CO2]    N/A   \n",
       "productivity                          Productivity [kg CO2/h/m^3]    N/A   \n",
       "ads.y_in[N2]                                  inlet mole fraction   True   \n",
       "ads.y_in[CO2]                                 inlet mole fraction   True   \n",
       "ads.y_in[H2O]                                 inlet mole fraction   True   \n",
       "ads.y_out[N2]                                outlet mole fraction  False   \n",
       "ads.y_out[CO2]                               outlet mole fraction  False   \n",
       "ads.y_out[H2O]                               outlet mole fraction  False   \n",
       "\n",
       "                   Lower Bound Upper Bound  \n",
       "ads.L                     0.01          40  \n",
       "ads.D                     None        None  \n",
       "ads.w_rpm              0.00001         0.1  \n",
       "ads.theta                 0.01        0.99  \n",
       "des.theta                 0.01        0.99  \n",
       "ads.P_in                     1         1.5  \n",
       "ads.P_out                 0.99         1.2  \n",
       "ads.F_in                     0        None  \n",
       "ads.Tg_in                 None        None  \n",
       "ads.Tx                     298         368  \n",
       "des.P_in               1.01325         1.5  \n",
       "des.P_out                 0.99         1.2  \n",
       "des.F_in                     0        None  \n",
       "des.Tg_in                 None        None  \n",
       "des.Tx                     373         433  \n",
       "ads.CO2_capture           None        None  \n",
       "energy_requirement         N/A         N/A  \n",
       "productivity               N/A         N/A  \n",
       "ads.y_in[N2]               NaN         NaN  \n",
       "ads.y_in[CO2]              NaN         NaN  \n",
       "ads.y_in[H2O]              NaN         NaN  \n",
       "ads.y_out[N2]              0.0         1.0  \n",
       "ads.y_out[CO2]             0.0         1.0  \n",
       "ads.y_out[H2O]             0.0         1.0  "
      ]
     },
     "execution_count": 14,
     "metadata": {},
     "output_type": "execute_result"
    }
   ],
   "source": [
    "report(RPB)"
   ]
  },
  {
   "cell_type": "markdown",
   "metadata": {},
   "source": [
    "# Plotting"
   ]
  },
  {
   "cell_type": "code",
   "execution_count": null,
   "metadata": {},
   "outputs": [],
   "source": [
    "full_contactor_plotting(RPB)"
   ]
  },
  {
   "cell_type": "markdown",
   "metadata": {},
   "source": [
    "# Save Model"
   ]
  },
  {
   "cell_type": "code",
   "execution_count": null,
   "metadata": {},
   "outputs": [],
   "source": [
    "# save model\n",
    "to_json(RPB, fname=\"base case solution 012424.json.gz\", gz=True, human_read=False)"
   ]
  },
  {
   "cell_type": "markdown",
   "metadata": {},
   "source": [
    "# Diagnostics testing"
   ]
  },
  {
   "cell_type": "code",
   "execution_count": null,
   "metadata": {},
   "outputs": [],
   "source": [
    "iscale.set_scaling_factor(RPB.ads.Tg_out_eq, 0.1)\n",
    "iscale.set_scaling_factor(RPB.des.Tg_out_eq, 0.1)\n",
    "\n",
    "for z in RPB.ads.z:\n",
    "    for o in RPB.ads.o:\n",
    "        if 0 < z < 1 and 0 < o < 1:\n",
    "            iscale.set_scaling_factor(RPB.des.pde_solidEB[z,o], 1e-2)\n",
    "            iscale.set_scaling_factor(RPB.ads.Q_gs_eq[z, o], 0.001)"
   ]
  },
  {
   "cell_type": "code",
   "execution_count": null,
   "metadata": {},
   "outputs": [],
   "source": [
    "# solve using conopt thorugh gams\n",
    "results = SolverFactory(\"gams\").solve(\n",
    "    RPB,\n",
    "    tee=True,\n",
    "    keepfiles=True,\n",
    "    solver=\"conopt4\",\n",
    "    tmpdir=\"temp\",\n",
    "    add_options=[\"gams_model.optfile=1;\"],\n",
    ")"
   ]
  },
  {
   "cell_type": "code",
   "execution_count": null,
   "metadata": {},
   "outputs": [],
   "source": [
    "RPB.ads.L.fix()\n",
    "RPB.ads.theta.fix()\n",
    "RPB.des.P_in.fix()\n",
    "RPB.ads.Tx.fix()\n",
    "RPB.des.Tx.fix()\n",
    "RPB.ads.w_rpm.fix()\n",
    "\n",
    "degrees_of_freedom(RPB) # need dof=0 for diagnostic tools"
   ]
  },
  {
   "cell_type": "code",
   "execution_count": null,
   "metadata": {},
   "outputs": [],
   "source": [
    "from idaes.core.util.model_diagnostics import DiagnosticsToolbox"
   ]
  },
  {
   "cell_type": "code",
   "execution_count": null,
   "metadata": {},
   "outputs": [],
   "source": [
    "diagtool = DiagnosticsToolbox(RPB)"
   ]
  },
  {
   "cell_type": "code",
   "execution_count": null,
   "metadata": {},
   "outputs": [],
   "source": [
    "diagtool.report_structural_issues()"
   ]
  },
  {
   "cell_type": "code",
   "execution_count": null,
   "metadata": {},
   "outputs": [],
   "source": [
    "diagtool.report_numerical_issues()"
   ]
  },
  {
   "cell_type": "code",
   "execution_count": null,
   "metadata": {},
   "outputs": [],
   "source": [
    "diagtool.display_constraints_with_extreme_jacobians()"
   ]
  },
  {
   "cell_type": "code",
   "execution_count": null,
   "metadata": {},
   "outputs": [],
   "source": [
    "iscale.get_scaling_factor(RPB.ads.Q_gs_eq[0.5,0.005])"
   ]
  },
  {
   "cell_type": "code",
   "execution_count": null,
   "metadata": {},
   "outputs": [],
   "source": [
    "value(RPB.des.Cp_g_out * RPB.des.Tg_out)"
   ]
  },
  {
   "cell_type": "code",
   "execution_count": null,
   "metadata": {},
   "outputs": [],
   "source": [
    "m=RPB.des\n",
    "z=0.8846928460920032\n",
    "o=0.005\n",
    "\n",
    "value((1 - m.eb) * m.rho_sol * m.Cp_sol * m.w * m.dTsdo[z, o])"
   ]
  },
  {
   "cell_type": "code",
   "execution_count": null,
   "metadata": {},
   "outputs": [],
   "source": [
    "print(units.get_units(RPB.productivity))"
   ]
  },
  {
   "cell_type": "code",
   "execution_count": null,
   "metadata": {},
   "outputs": [],
   "source": [
    "from pyomo.util.check_units import assert_units_consistent, assert_units_equivalent, check_units_equivalent"
   ]
  },
  {
   "cell_type": "code",
   "execution_count": null,
   "metadata": {},
   "outputs": [],
   "source": [
    "assert_units_consistent(RPB.lean_temp_constraint)"
   ]
  },
  {
   "cell_type": "code",
   "execution_count": null,
   "metadata": {},
   "outputs": [],
   "source": [
    "check_scaling(RPB)"
   ]
  },
  {
   "cell_type": "code",
   "execution_count": null,
   "metadata": {},
   "outputs": [],
   "source": [
    "m=RPB.des\n",
    "z=0.8846928460920032\n",
    "o=0.005\n",
    "\n",
    "m.Q_gs[z, o]()"
   ]
  },
  {
   "cell_type": "code",
   "execution_count": null,
   "metadata": {},
   "outputs": [],
   "source": [
    "RPB.ads.Q_gs_eq[0.04336244396414017,0.005]()/RPB.ads.R_HT_gs() * RPB.ads.h_gs[0.04336244396414017,0.005]() * RPB.ads.a_s()"
   ]
  },
  {
   "cell_type": "code",
   "execution_count": null,
   "metadata": {},
   "outputs": [],
   "source": []
  }
 ],
 "metadata": {
  "kernelspec": {
   "display_name": "idaes-pse",
   "language": "python",
   "name": "python3"
  },
  "language_info": {
   "codemirror_mode": {
    "name": "ipython",
    "version": 3
   },
   "file_extension": ".py",
   "mimetype": "text/x-python",
   "name": "python",
   "nbconvert_exporter": "python",
   "pygments_lexer": "ipython3",
   "version": "3.10.13"
  },
  "orig_nbformat": 4
 },
 "nbformat": 4,
 "nbformat_minor": 2
}
