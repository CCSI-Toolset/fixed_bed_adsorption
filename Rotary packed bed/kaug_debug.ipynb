{
 "cells": [
  {
   "cell_type": "code",
   "execution_count": 1,
   "id": "a849abd3-ceb5-4f85-a172-a57e8be9333f",
   "metadata": {},
   "outputs": [
    {
     "name": "stdout",
     "output_type": "stream",
     "text": [
      "WARNING: DEPRECATED: pyomo.core.expr.current is deprecated.  Please import\n",
      "expression symbols from pyomo.core.expr  (deprecated in 6.6.2.dev0) (called\n",
      "from <frozen importlib._bootstrap>:219)\n"
     ]
    }
   ],
   "source": [
    "from RPB_model_for_debug import *\n",
    "import pyomo.environ as pyo\n",
    "from pyomo.contrib.sensitivity_toolbox.sens import get_dsdp"
   ]
  },
  {
   "cell_type": "code",
   "execution_count": 2,
   "id": "1b66d139-b1cf-47d8-93b8-33f4e254f133",
   "metadata": {
    "scrolled": true
   },
   "outputs": [
    {
     "name": "stdout",
     "output_type": "stream",
     "text": [
      "Ipopt 3.13.2: \n",
      "\n",
      "******************************************************************************\n",
      "This program contains Ipopt, a library for large-scale nonlinear optimization.\n",
      " Ipopt is released as open source code under the Eclipse Public License (EPL).\n",
      "         For more information visit http://projects.coin-or.org/Ipopt\n",
      "\n",
      "This version of Ipopt was compiled from source code available at\n",
      "    https://github.com/IDAES/Ipopt as part of the Institute for the Design of\n",
      "    Advanced Energy Systems Process Systems Engineering Framework (IDAES PSE\n",
      "    Framework) Copyright (c) 2018-2019. See https://github.com/IDAES/idaes-pse.\n",
      "\n",
      "This version of Ipopt was compiled using HSL, a collection of Fortran codes\n",
      "    for large-scale scientific computation.  All technical papers, sales and\n",
      "    publicity material resulting from use of the HSL codes within IPOPT must\n",
      "    contain the following acknowledgement:\n",
      "        HSL, a collection of Fortran codes for large-scale scientific\n",
      "        computation. See http://www.hsl.rl.ac.uk.\n",
      "******************************************************************************\n",
      "\n",
      "This is Ipopt version 3.13.2, running with linear solver ma27.\n",
      "\n",
      "Number of nonzeros in equality constraint Jacobian...:    46800\n",
      "Number of nonzeros in inequality constraint Jacobian.:        0\n",
      "Number of nonzeros in Lagrangian Hessian.............:    26565\n",
      "\n",
      "Total number of variables............................:    11595\n",
      "                     variables with only lower bounds:     2708\n",
      "                variables with lower and upper bounds:     5867\n",
      "                     variables with only upper bounds:        0\n",
      "Total number of equality constraints.................:    11595\n",
      "Total number of inequality constraints...............:        0\n",
      "        inequality constraints with only lower bounds:        0\n",
      "   inequality constraints with lower and upper bounds:        0\n",
      "        inequality constraints with only upper bounds:        0\n",
      "\n",
      "iter    objective    inf_pr   inf_du lg(mu)  ||d||  lg(rg) alpha_du alpha_pr  ls\n",
      "   0  0.0000000e+00 3.51e+02 1.00e+00  -1.0 0.00e+00    -  0.00e+00 0.00e+00   0\n",
      "   1  0.0000000e+00 3.37e+02 6.98e+02  -1.0 2.91e+02    -  5.01e-02 9.15e-01h  1\n",
      "   2  0.0000000e+00 1.11e+01 4.39e+02  -1.0 1.51e+01    -  5.48e-01 9.95e-01h  1\n",
      "   3  0.0000000e+00 3.86e-03 6.44e+01  -1.0 4.56e-01    -  9.91e-01 1.00e+00h  1\n",
      "   4  0.0000000e+00 2.47e-10 2.21e-05  -1.0 1.58e-04    -  1.00e+00 1.00e+00h  1\n",
      "\n",
      "Number of Iterations....: 4\n",
      "\n",
      "                                   (scaled)                 (unscaled)\n",
      "Objective...............:   0.0000000000000000e+00    0.0000000000000000e+00\n",
      "Dual infeasibility......:   0.0000000000000000e+00    0.0000000000000000e+00\n",
      "Constraint violation....:   4.1094961798511712e-12    2.4738255888223648e-10\n",
      "Complementarity.........:   0.0000000000000000e+00    0.0000000000000000e+00\n",
      "Overall NLP error.......:   4.1094961798511712e-12    2.4738255888223648e-10\n",
      "\n",
      "\n",
      "Number of objective function evaluations             = 5\n",
      "Number of objective gradient evaluations             = 5\n",
      "Number of equality constraint evaluations            = 5\n",
      "Number of inequality constraint evaluations          = 0\n",
      "Number of equality constraint Jacobian evaluations   = 5\n",
      "Number of inequality constraint Jacobian evaluations = 0\n",
      "Number of Lagrangian Hessian evaluations             = 4\n",
      "Total CPU secs in IPOPT (w/o function evaluations)   =      0.524\n",
      "Total CPU secs in NLP function evaluations           =      0.085\n",
      "\n",
      "EXIT: Optimal Solution Found.\n"
     ]
    },
    {
     "data": {
      "text/plain": [
       "{'Problem': [{'Lower bound': -inf, 'Upper bound': inf, 'Number of objectives': 1, 'Number of constraints': 11595, 'Number of variables': 11595, 'Sense': 'unknown'}], 'Solver': [{'Status': 'ok', 'Message': 'Ipopt 3.13.2\\\\x3a Optimal Solution Found', 'Termination condition': 'optimal', 'Id': 0, 'Error rc': 0, 'Time': 0.754814624786377}], 'Solution': [OrderedDict([('number of solutions', 0), ('number of solutions displayed', 0)])]}"
      ]
     },
     "execution_count": 2,
     "metadata": {},
     "output_type": "execute_result"
    }
   ],
   "source": [
    "# Create model instance. Currently, mode can be either \"adsorption\" or \"desorption\" which sets the boundary conditions for each case.\n",
    "# m=RPB_model(mode=\"adsorption\")\n",
    "# or\n",
    "m=RPB_model(mode=\"desorption\", kaug=True)\n",
    "\n",
    "m.hgx.fix()\n",
    "m.Obj = pyo.Objective(expr=0, sense=pyo.minimize)\n",
    "\n",
    "m.P_in.fix(1.1)\n",
    "m.Tg_in.fix()\n",
    "m.y_in.fix()\n",
    "m.P_out.fix(1.01325)\n",
    "\n",
    "# Custom initialization routine. Uses a homotopy routine to adjust the initialization factors so that all equations are 'active'.\n",
    "#homotopy_init_routine(m)\n",
    "\n",
    "solver = pyo.SolverFactory(\"ipopt\")\n",
    "solver.solve(m, tee=True)"
   ]
  },
  {
   "cell_type": "code",
   "execution_count": 3,
   "id": "b6a7ff87-079c-4e64-b7f6-67c4fa345346",
   "metadata": {
    "scrolled": true
   },
   "outputs": [
    {
     "name": "stdout",
     "output_type": "stream",
     "text": [
      "W[K_AUG]...\t[K_AUG_ASL]No n_rhs declared.\n",
      "W[K_AUG]...\t[K_AUG_ASL]Target log10mu:= -11.\n",
      "W[K_AUG]...\t[K_AUG_ASL]This problem has no degrees of freedom\n",
      "Pass the option square_override for the desired behaviour\n",
      "[K_AUG] 0.1.0, Part of the IDAES PSE framework\n",
      "Please visit https://idaes.org/\n",
      ": dsdp_mode=\n",
      "dsdp_mode=\n",
      "W[K_AUG_ASL]...\t[K_AUG_ASL]No ipopt_zL_in suffix declared, setting zL = 0.\n",
      "W[K_AUG_ASL]...\t[K_AUG_ASL]No ipopt_zU_in suffix declared, setting zU = 0.\n",
      "W[K_AUG]...\t[K_AUG_ASL]No f_timestamp suffix declared, Fallback to default writing mode.\n",
      "I[K_AUG]...\t[K_AUG_ASL] Filename for dot_sens dsdp_in_.in\n",
      "W[K_AUG]...\t[K_AUG_ASL]dsdp for linear C(x) + I*p = 0 override.\n",
      "E[K_AUG]...\t[SIGMA_COMPUTE]is x[6500] = xlb?\n",
      "E[K_AUG]...\t[SIGMA_COMPUTE]is x[6500] = xlb?\n",
      "E[K_AUG]...\t[SIGMA_COMPUTE]Unresolved sigma values, is the mu computation successful? or is this a square problem?\n",
      "Check the sigma_out file with the PRINT_VERBOSE (cmake) option set to 0\n",
      "W[K_AUG]...\t[MA57_DRIVER]\n",
      "\n",
      "\t\tCould not fix the accuracy of the problem.\n",
      "\t\tTry re-writing the problem or give a different point or change \"max_refinement_steps\"\n",
      "\t\tWarning: results might be incorrect.\n",
      "\t\tCurrent residual ratio 0.5; Max residual ratio 1e-10.\n",
      "\n",
      "I[K_AUG]...\t[K_AUG_ASL]File read successfully.\n",
      "I[K_AUG]...\t[K_AUG_ASL]Number of Right hand sides: 0\n",
      "I[K_AUG]...\t[K_AUG_ASL]Number of variables       : 11596\n",
      "I[K_AUG]...\t[K_AUG_ASL]Number of constraints     : 11596\n",
      "I[K_AUG]...\t[K_AUG_ASL]Number of valid n_dof     : 0\n",
      "I[K_AUG]...\t[ADJUST_MU]\tWarning strict complementarity (lb) is not within tol for var:6500\n",
      "I[K_AUG]...\t[ADJUST_MU]\tWarning no relevant info from the problem can predict logmu\n",
      "I[K_AUG]...\t[FIND_INEQUALITIES]summary: eq: 11596, leq: 0, geq: 0 \n",
      "I[K_AUG]...\t[K_AUG_ASL]Nonzeroes in the sparse Jacobian 47152\n",
      "I[K_AUG]...\t[GET_HESS_ASL]Objective found\n",
      "I[K_AUG]...\t[GET_HESS_ASL]Nonzeroes in the sparse hessian 26917\n",
      "I[K_AUG]...\t[GET_HESS_ASL]Minimization problem detected\n",
      "I[K_AUG]...\t[GET_HESS_ASL]Current objective 0.000000\n",
      "I[K_AUG]...\t[GET_HESS_ASL]Missing nz in the Hessian of the Lag: 6757\n",
      "I[K_AUG]...\t[K_AUG_ASL]Barrier term added.\n",
      "I[K_AUG]...\t[K_AUG_ASL]MC19 scaling...\n",
      "I[K_AUG]...\t[ASSM_RHS_DCDP]According to the suffixes declared len p is 1 \n",
      "I[MA57]...\t[]***\n",
      "I[MA57]...\t[ma57bd_]ma57ad_: Status Ok.\n",
      "I[MA57]...\t[MA57_FACTOR]\n",
      "I[K_AUG]...\t[MA57_FACTOR]n_neig = 11596\n",
      "I[K_AUG]...\t[INERTIA_STRATEGY]Inertia check successful.\n",
      "I[MA57]...\t[Factorize Success.]***\n",
      "I[MA57]...\t[MA57_RATIO]\n",
      "I[K_AUG]...\t[MA57_SOLVE]: Ratio of norm of scaled residuals (reported); 5.000000e-01 \n",
      "I[K_AUG]...\t[MA57_SOLVE]: The norm of residuals is larger than max ratio(computed)\n",
      "I[K_AUG]...\t[MA57_SOLVE]: Attempting to reduce residuals\n",
      "\n",
      "W[K_AUG]...\t[MA57_SOLVE]Attempting to make dc > 0. (Jacobian regularization)\n",
      "I[K_AUG]...\t[INERTIA_STRATEGY]Inertia check successful.\n",
      "I[MA57]...\t[MA57_FACTOR]\n",
      "W[MA57]...\t[MA57_FACTOR]always_pert_jacobian is on before fact\n",
      "I[K_AUG]...\t[MA57_FACTOR]n_neig = 11596\n",
      "I[K_AUG]...\t[INERTIA_STRATEGY]Inertia check successful.\n",
      "I[MA57]...\t[MA57_RATIO]\n",
      "I[K_AUG]...\t[MA57_SOLVE]Accuracy improvement tries 0, Trial pivtol 1e-06, Residual ratio 0.5.\n",
      "I[K_AUG]...\t[MA57_SOLVE]Accuracy is not improving.\n",
      "\n",
      "W[K_AUG]...\t[MA57_DRIVER]Inertia check OK neig=11596, (neig == m).\n",
      "I[K_AUG]...\t[K_AUG_ASL]Linear solver done. \n",
      "I[K_AUG]...\t[K_AUG_ASL]Timings..Ev&Assem 0.157716, Fact 0.375123, Overall 0.384153.\n"
     ]
    },
    {
     "ename": "DeveloperError",
     "evalue": "Internal Pyomo implementation error:\n        \"The '_data' dictionary and '_index' attribute are out of sync for\n        indexed Expression 'Flow_kz': The ('N2', 1) entry in the '_data'\n        dictionary does not map back to this component data object.\"\n    Please report this to the Pyomo Developers.",
     "output_type": "error",
     "traceback": [
      "\u001b[0;31m---------------------------------------------------------------------------\u001b[0m",
      "\u001b[0;31mDeveloperError\u001b[0m                            Traceback (most recent call last)",
      "Cell \u001b[0;32mIn[3], line 4\u001b[0m\n\u001b[1;32m      1\u001b[0m param \u001b[38;5;241m=\u001b[39m {\u001b[38;5;124m\"\u001b[39m\u001b[38;5;124mhgx\u001b[39m\u001b[38;5;124m\"\u001b[39m: \u001b[38;5;241m25\u001b[39m\u001b[38;5;241m*\u001b[39m\u001b[38;5;241m1e-3\u001b[39m}\n\u001b[1;32m      2\u001b[0m param_list \u001b[38;5;241m=\u001b[39m [\u001b[38;5;124m\"\u001b[39m\u001b[38;5;124mhgx\u001b[39m\u001b[38;5;124m\"\u001b[39m]\n\u001b[0;32m----> 4\u001b[0m dsdp, col \u001b[38;5;241m=\u001b[39m \u001b[43mget_dsdp\u001b[49m\u001b[43m(\u001b[49m\u001b[43mm\u001b[49m\u001b[43m,\u001b[49m\u001b[43m \u001b[49m\u001b[43mparam_list\u001b[49m\u001b[43m,\u001b[49m\u001b[43m \u001b[49m\u001b[43mparam\u001b[49m\u001b[43m,\u001b[49m\u001b[43m \u001b[49m\u001b[43mtee\u001b[49m\u001b[38;5;241;43m=\u001b[39;49m\u001b[38;5;28;43;01mTrue\u001b[39;49;00m\u001b[43m)\u001b[49m\n",
      "File \u001b[0;32m~/anaconda3/envs/idaes-test1/lib/python3.8/site-packages/pyomo/contrib/sensitivity_toolbox/sens.py:299\u001b[0m, in \u001b[0;36mget_dsdp\u001b[0;34m(model, theta_names, theta, tee)\u001b[0m\n\u001b[1;32m    297\u001b[0m row_file \u001b[38;5;241m=\u001b[39m \u001b[38;5;124m\"\u001b[39m\u001b[38;5;124m.\u001b[39m\u001b[38;5;124m\"\u001b[39m\u001b[38;5;241m.\u001b[39mjoin((base_fname, \u001b[38;5;124m\"\u001b[39m\u001b[38;5;124mrow\u001b[39m\u001b[38;5;124m\"\u001b[39m))\n\u001b[1;32m    298\u001b[0m col_file \u001b[38;5;241m=\u001b[39m \u001b[38;5;124m\"\u001b[39m\u001b[38;5;124m.\u001b[39m\u001b[38;5;124m\"\u001b[39m\u001b[38;5;241m.\u001b[39mjoin((base_fname, \u001b[38;5;124m\"\u001b[39m\u001b[38;5;124mcol\u001b[39m\u001b[38;5;124m\"\u001b[39m))\n\u001b[0;32m--> 299\u001b[0m \u001b[43mm\u001b[49m\u001b[38;5;241;43m.\u001b[39;49m\u001b[43mwrite\u001b[49m\u001b[43m(\u001b[49m\u001b[43mnl_file\u001b[49m\u001b[43m,\u001b[49m\u001b[43m \u001b[49m\u001b[43mio_options\u001b[49m\u001b[38;5;241;43m=\u001b[39;49m\u001b[43m{\u001b[49m\u001b[38;5;124;43m\"\u001b[39;49m\u001b[38;5;124;43msymbolic_solver_labels\u001b[39;49m\u001b[38;5;124;43m\"\u001b[39;49m\u001b[43m:\u001b[49m\u001b[43m \u001b[49m\u001b[38;5;28;43;01mTrue\u001b[39;49;00m\u001b[43m}\u001b[49m\u001b[43m)\u001b[49m\n\u001b[1;32m    300\u001b[0m \u001b[38;5;28;01mfor\u001b[39;00m fname \u001b[38;5;129;01min\u001b[39;00m [nl_file, row_file, col_file]:\n\u001b[1;32m    301\u001b[0m     \u001b[38;5;28;01mwith\u001b[39;00m \u001b[38;5;28mopen\u001b[39m(fname, \u001b[38;5;124m\"\u001b[39m\u001b[38;5;124mr\u001b[39m\u001b[38;5;124m\"\u001b[39m) \u001b[38;5;28;01mas\u001b[39;00m fp:\n",
      "File \u001b[0;32m~/anaconda3/envs/idaes-test1/lib/python3.8/site-packages/pyomo/core/base/block.py:1983\u001b[0m, in \u001b[0;36m_BlockData.write\u001b[0;34m(self, filename, format, solver_capability, io_options)\u001b[0m\n\u001b[1;32m   1980\u001b[0m     \u001b[38;5;28;01mdef\u001b[39;00m \u001b[38;5;21msolver_capability\u001b[39m(x):\n\u001b[1;32m   1981\u001b[0m         \u001b[38;5;28;01mreturn\u001b[39;00m \u001b[38;5;28;01mTrue\u001b[39;00m\n\u001b[0;32m-> 1983\u001b[0m (filename, smap) \u001b[38;5;241m=\u001b[39m \u001b[43mproblem_writer\u001b[49m\u001b[43m(\u001b[49m\u001b[38;5;28;43mself\u001b[39;49m\u001b[43m,\u001b[49m\u001b[43m \u001b[49m\u001b[43mfilename\u001b[49m\u001b[43m,\u001b[49m\u001b[43m \u001b[49m\u001b[43msolver_capability\u001b[49m\u001b[43m,\u001b[49m\u001b[43m \u001b[49m\u001b[43mio_options\u001b[49m\u001b[43m)\u001b[49m\n\u001b[1;32m   1984\u001b[0m smap_id \u001b[38;5;241m=\u001b[39m \u001b[38;5;28mid\u001b[39m(smap)\n\u001b[1;32m   1985\u001b[0m \u001b[38;5;28;01mif\u001b[39;00m \u001b[38;5;129;01mnot\u001b[39;00m \u001b[38;5;28mhasattr\u001b[39m(\u001b[38;5;28mself\u001b[39m, \u001b[38;5;124m'\u001b[39m\u001b[38;5;124msolutions\u001b[39m\u001b[38;5;124m'\u001b[39m):\n\u001b[1;32m   1986\u001b[0m     \u001b[38;5;66;03m# This is a bit of a hack.  The write() method was moved\u001b[39;00m\n\u001b[1;32m   1987\u001b[0m     \u001b[38;5;66;03m# here from PyomoModel to support the solution of arbitrary\u001b[39;00m\n\u001b[0;32m   (...)\u001b[0m\n\u001b[1;32m   1992\u001b[0m     \u001b[38;5;66;03m# dependency (we only need it here because we store the\u001b[39;00m\n\u001b[1;32m   1993\u001b[0m     \u001b[38;5;66;03m# SymbolMap returned by the writer in the solutions).\u001b[39;00m\n",
      "File \u001b[0;32m~/anaconda3/envs/idaes-test1/lib/python3.8/site-packages/pyomo/repn/plugins/nl_writer.py:266\u001b[0m, in \u001b[0;36mNLWriter.__call__\u001b[0;34m(self, model, filename, solver_capability, io_options)\u001b[0m\n\u001b[1;32m    262\u001b[0m     _open \u001b[38;5;241m=\u001b[39m nullcontext\n\u001b[1;32m    263\u001b[0m \u001b[38;5;28;01mwith\u001b[39;00m \u001b[38;5;28mopen\u001b[39m(filename, \u001b[38;5;124m'\u001b[39m\u001b[38;5;124mw\u001b[39m\u001b[38;5;124m'\u001b[39m, newline\u001b[38;5;241m=\u001b[39m\u001b[38;5;124m'\u001b[39m\u001b[38;5;124m'\u001b[39m) \u001b[38;5;28;01mas\u001b[39;00m FILE, _open(\n\u001b[1;32m    264\u001b[0m     row_fname\n\u001b[1;32m    265\u001b[0m ) \u001b[38;5;28;01mas\u001b[39;00m ROWFILE, _open(col_fname) \u001b[38;5;28;01mas\u001b[39;00m COLFILE:\n\u001b[0;32m--> 266\u001b[0m     info \u001b[38;5;241m=\u001b[39m \u001b[38;5;28;43mself\u001b[39;49m\u001b[38;5;241;43m.\u001b[39;49m\u001b[43mwrite\u001b[49m\u001b[43m(\u001b[49m\u001b[43mmodel\u001b[49m\u001b[43m,\u001b[49m\u001b[43m \u001b[49m\u001b[43mFILE\u001b[49m\u001b[43m,\u001b[49m\u001b[43m \u001b[49m\u001b[43mROWFILE\u001b[49m\u001b[43m,\u001b[49m\u001b[43m \u001b[49m\u001b[43mCOLFILE\u001b[49m\u001b[43m,\u001b[49m\u001b[43m \u001b[49m\u001b[43mconfig\u001b[49m\u001b[38;5;241;43m=\u001b[39;49m\u001b[43mconfig\u001b[49m\u001b[43m)\u001b[49m\n\u001b[1;32m    267\u001b[0m \u001b[38;5;66;03m# Historically, the NL writer communicated the external function\u001b[39;00m\n\u001b[1;32m    268\u001b[0m \u001b[38;5;66;03m# libraries back to the ASL interface through the PYOMO_AMPLFUNC\u001b[39;00m\n\u001b[1;32m    269\u001b[0m \u001b[38;5;66;03m# environment variable.\u001b[39;00m\n\u001b[1;32m    270\u001b[0m set_pyomo_amplfunc_env(info\u001b[38;5;241m.\u001b[39mexternal_function_libraries)\n",
      "File \u001b[0;32m~/anaconda3/envs/idaes-test1/lib/python3.8/site-packages/pyomo/repn/plugins/nl_writer.py:310\u001b[0m, in \u001b[0;36mNLWriter.write\u001b[0;34m(self, model, ostream, rowstream, colstream, **options)\u001b[0m\n\u001b[1;32m    306\u001b[0m \u001b[38;5;66;03m# Pause the GC, as the walker that generates the compiled NL\u001b[39;00m\n\u001b[1;32m    307\u001b[0m \u001b[38;5;66;03m# representation generates (and disposes of) a large number of\u001b[39;00m\n\u001b[1;32m    308\u001b[0m \u001b[38;5;66;03m# small objects.\u001b[39;00m\n\u001b[1;32m    309\u001b[0m \u001b[38;5;28;01mwith\u001b[39;00m _NLWriter_impl(ostream, rowstream, colstream, config) \u001b[38;5;28;01mas\u001b[39;00m impl:\n\u001b[0;32m--> 310\u001b[0m     \u001b[38;5;28;01mreturn\u001b[39;00m \u001b[43mimpl\u001b[49m\u001b[38;5;241;43m.\u001b[39;49m\u001b[43mwrite\u001b[49m\u001b[43m(\u001b[49m\u001b[43mmodel\u001b[49m\u001b[43m)\u001b[49m\n",
      "File \u001b[0;32m~/anaconda3/envs/idaes-test1/lib/python3.8/site-packages/pyomo/repn/plugins/nl_writer.py:1178\u001b[0m, in \u001b[0;36m_NLWriter_impl.write\u001b[0;34m(self, model)\u001b[0m\n\u001b[1;32m   1176\u001b[0m \u001b[38;5;28;01mif\u001b[39;00m single_use_subexpressions:\n\u001b[1;32m   1177\u001b[0m     \u001b[38;5;28;01mfor\u001b[39;00m _id \u001b[38;5;129;01min\u001b[39;00m single_use_subexpressions\u001b[38;5;241m.\u001b[39mget(\u001b[38;5;28mid\u001b[39m(info[\u001b[38;5;241m0\u001b[39m]), ()):\n\u001b[0;32m-> 1178\u001b[0m         \u001b[38;5;28;43mself\u001b[39;49m\u001b[38;5;241;43m.\u001b[39;49m\u001b[43m_write_v_line\u001b[49m\u001b[43m(\u001b[49m\u001b[43m_id\u001b[49m\u001b[43m,\u001b[49m\u001b[43m \u001b[49m\u001b[43mrow_idx\u001b[49m\u001b[43m \u001b[49m\u001b[38;5;241;43m+\u001b[39;49m\u001b[43m \u001b[49m\u001b[38;5;241;43m1\u001b[39;49m\u001b[43m)\u001b[49m\n\u001b[1;32m   1179\u001b[0m ostream\u001b[38;5;241m.\u001b[39mwrite(\u001b[38;5;124mf\u001b[39m\u001b[38;5;124m'\u001b[39m\u001b[38;5;124mC\u001b[39m\u001b[38;5;132;01m{\u001b[39;00mrow_idx\u001b[38;5;132;01m}\u001b[39;00m\u001b[38;5;132;01m{\u001b[39;00mrow_comments[row_idx]\u001b[38;5;132;01m}\u001b[39;00m\u001b[38;5;130;01m\\n\u001b[39;00m\u001b[38;5;124m'\u001b[39m)\n\u001b[1;32m   1180\u001b[0m \u001b[38;5;28mself\u001b[39m\u001b[38;5;241m.\u001b[39m_write_nl_expression(info[\u001b[38;5;241m1\u001b[39m], \u001b[38;5;28;01mFalse\u001b[39;00m)\n",
      "File \u001b[0;32m~/anaconda3/envs/idaes-test1/lib/python3.8/site-packages/pyomo/repn/plugins/nl_writer.py:1493\u001b[0m, in \u001b[0;36m_NLWriter_impl._write_v_line\u001b[0;34m(self, expr_id, k)\u001b[0m\n\u001b[1;32m   1491\u001b[0m info \u001b[38;5;241m=\u001b[39m \u001b[38;5;28mself\u001b[39m\u001b[38;5;241m.\u001b[39msubexpression_cache[expr_id]\n\u001b[1;32m   1492\u001b[0m \u001b[38;5;28;01mif\u001b[39;00m \u001b[38;5;28mself\u001b[39m\u001b[38;5;241m.\u001b[39msymbolic_solver_labels:\n\u001b[0;32m-> 1493\u001b[0m     lbl \u001b[38;5;241m=\u001b[39m \u001b[38;5;124m'\u001b[39m\u001b[38;5;130;01m\\t\u001b[39;00m\u001b[38;5;124m#\u001b[39m\u001b[38;5;132;01m%s\u001b[39;00m\u001b[38;5;124m'\u001b[39m \u001b[38;5;241m%\u001b[39m \u001b[43minfo\u001b[49m\u001b[43m[\u001b[49m\u001b[38;5;241;43m0\u001b[39;49m\u001b[43m]\u001b[49m\u001b[38;5;241;43m.\u001b[39;49m\u001b[43mname\u001b[49m\n\u001b[1;32m   1494\u001b[0m \u001b[38;5;28;01melse\u001b[39;00m:\n\u001b[1;32m   1495\u001b[0m     lbl \u001b[38;5;241m=\u001b[39m \u001b[38;5;124m'\u001b[39m\u001b[38;5;124m'\u001b[39m\n",
      "File \u001b[0;32m~/anaconda3/envs/idaes-test1/lib/python3.8/site-packages/pyomo/core/expr/numeric_expr.py:235\u001b[0m, in \u001b[0;36mNumericValue.name\u001b[0;34m(self)\u001b[0m\n\u001b[1;32m    233\u001b[0m \u001b[38;5;129m@property\u001b[39m\n\u001b[1;32m    234\u001b[0m \u001b[38;5;28;01mdef\u001b[39;00m \u001b[38;5;21mname\u001b[39m(\u001b[38;5;28mself\u001b[39m):\n\u001b[0;32m--> 235\u001b[0m     \u001b[38;5;28;01mreturn\u001b[39;00m \u001b[38;5;28;43mself\u001b[39;49m\u001b[38;5;241;43m.\u001b[39;49m\u001b[43mgetname\u001b[49m\u001b[43m(\u001b[49m\u001b[43mfully_qualified\u001b[49m\u001b[38;5;241;43m=\u001b[39;49m\u001b[38;5;28;43;01mTrue\u001b[39;49;00m\u001b[43m)\u001b[49m\n",
      "File \u001b[0;32m~/anaconda3/envs/idaes-test1/lib/python3.8/site-packages/pyomo/core/expr/numeric_expr.py:229\u001b[0m, in \u001b[0;36mNumericValue.getname\u001b[0;34m(self, fully_qualified, name_buffer)\u001b[0m\n\u001b[1;32m    227\u001b[0m _base \u001b[38;5;241m=\u001b[39m \u001b[38;5;28msuper\u001b[39m(NumericValue, \u001b[38;5;28mself\u001b[39m)\n\u001b[1;32m    228\u001b[0m \u001b[38;5;28;01mif\u001b[39;00m \u001b[38;5;28mhasattr\u001b[39m(_base, \u001b[38;5;124m'\u001b[39m\u001b[38;5;124mgetname\u001b[39m\u001b[38;5;124m'\u001b[39m):\n\u001b[0;32m--> 229\u001b[0m     \u001b[38;5;28;01mreturn\u001b[39;00m \u001b[43m_base\u001b[49m\u001b[38;5;241;43m.\u001b[39;49m\u001b[43mgetname\u001b[49m\u001b[43m(\u001b[49m\u001b[43mfully_qualified\u001b[49m\u001b[43m,\u001b[49m\u001b[43m \u001b[49m\u001b[43mname_buffer\u001b[49m\u001b[43m)\u001b[49m\n\u001b[1;32m    230\u001b[0m \u001b[38;5;28;01melse\u001b[39;00m:\n\u001b[1;32m    231\u001b[0m     \u001b[38;5;28;01mreturn\u001b[39;00m \u001b[38;5;28mstr\u001b[39m(\u001b[38;5;28mtype\u001b[39m(\u001b[38;5;28mself\u001b[39m))\n",
      "File \u001b[0;32m~/anaconda3/envs/idaes-test1/lib/python3.8/site-packages/pyomo/core/base/component.py:938\u001b[0m, in \u001b[0;36mComponentData.getname\u001b[0;34m(self, fully_qualified, name_buffer, relative_to)\u001b[0m\n\u001b[1;32m    932\u001b[0m         \u001b[38;5;28;01mreturn\u001b[39;00m name_buffer[\u001b[38;5;28mid\u001b[39m(\u001b[38;5;28mself\u001b[39m)]\n\u001b[1;32m    933\u001b[0m \u001b[38;5;28;01melse\u001b[39;00m:\n\u001b[1;32m    934\u001b[0m     \u001b[38;5;66;03m#\u001b[39;00m\n\u001b[1;32m    935\u001b[0m     \u001b[38;5;66;03m# No buffer, we can do what we are going to do all the time after we\u001b[39;00m\n\u001b[1;32m    936\u001b[0m     \u001b[38;5;66;03m# deprecate the buffer.\u001b[39;00m\n\u001b[1;32m    937\u001b[0m     \u001b[38;5;66;03m#\u001b[39;00m\n\u001b[0;32m--> 938\u001b[0m     \u001b[38;5;28;01mreturn\u001b[39;00m base \u001b[38;5;241m+\u001b[39m index_repr(\u001b[38;5;28;43mself\u001b[39;49m\u001b[38;5;241;43m.\u001b[39;49m\u001b[43mindex\u001b[49m\u001b[43m(\u001b[49m\u001b[43m)\u001b[49m)\n\u001b[1;32m    939\u001b[0m \u001b[38;5;66;03m#\u001b[39;00m\n\u001b[1;32m    940\u001b[0m \u001b[38;5;28;01mraise\u001b[39;00m \u001b[38;5;167;01mRuntimeError\u001b[39;00m(\n\u001b[1;32m    941\u001b[0m     \u001b[38;5;124m\"\u001b[39m\u001b[38;5;124mFatal error: cannot find the component data in \u001b[39m\u001b[38;5;124m\"\u001b[39m\n\u001b[1;32m    942\u001b[0m     \u001b[38;5;124m\"\u001b[39m\u001b[38;5;124mthe owning component\u001b[39m\u001b[38;5;124m'\u001b[39m\u001b[38;5;124ms _data dictionary.\u001b[39m\u001b[38;5;124m\"\u001b[39m\n\u001b[1;32m    943\u001b[0m )\n",
      "File \u001b[0;32m~/anaconda3/envs/idaes-test1/lib/python3.8/site-packages/pyomo/core/base/component.py:864\u001b[0m, in \u001b[0;36mComponentData.index\u001b[0;34m(self)\u001b[0m\n\u001b[1;32m    856\u001b[0m parent \u001b[38;5;241m=\u001b[39m \u001b[38;5;28mself\u001b[39m\u001b[38;5;241m.\u001b[39mparent_component()\n\u001b[1;32m    857\u001b[0m \u001b[38;5;28;01mif\u001b[39;00m (\n\u001b[1;32m    858\u001b[0m     parent \u001b[38;5;129;01mis\u001b[39;00m \u001b[38;5;129;01mnot\u001b[39;00m \u001b[38;5;28;01mNone\u001b[39;00m\n\u001b[1;32m    859\u001b[0m     \u001b[38;5;129;01mand\u001b[39;00m \u001b[38;5;28mself\u001b[39m\u001b[38;5;241m.\u001b[39m_index \u001b[38;5;129;01mis\u001b[39;00m \u001b[38;5;129;01mnot\u001b[39;00m NOTSET\n\u001b[0;32m   (...)\u001b[0m\n\u001b[1;32m    862\u001b[0m     \u001b[38;5;66;03m# This error message is a bit goofy, but we can't call self.name\u001b[39;00m\n\u001b[1;32m    863\u001b[0m     \u001b[38;5;66;03m# here--it's an infinite loop!\u001b[39;00m\n\u001b[0;32m--> 864\u001b[0m     \u001b[38;5;28;01mraise\u001b[39;00m DeveloperError(\n\u001b[1;32m    865\u001b[0m         \u001b[38;5;124m\"\u001b[39m\u001b[38;5;124mThe \u001b[39m\u001b[38;5;124m'\u001b[39m\u001b[38;5;124m_data\u001b[39m\u001b[38;5;124m'\u001b[39m\u001b[38;5;124m dictionary and \u001b[39m\u001b[38;5;124m'\u001b[39m\u001b[38;5;124m_index\u001b[39m\u001b[38;5;124m'\u001b[39m\u001b[38;5;124m attribute are out of \u001b[39m\u001b[38;5;124m\"\u001b[39m\n\u001b[1;32m    866\u001b[0m         \u001b[38;5;124m\"\u001b[39m\u001b[38;5;124msync for indexed \u001b[39m\u001b[38;5;132;01m%s\u001b[39;00m\u001b[38;5;124m \u001b[39m\u001b[38;5;124m'\u001b[39m\u001b[38;5;132;01m%s\u001b[39;00m\u001b[38;5;124m'\u001b[39m\u001b[38;5;124m: The \u001b[39m\u001b[38;5;132;01m%s\u001b[39;00m\u001b[38;5;124m entry in the \u001b[39m\u001b[38;5;124m'\u001b[39m\u001b[38;5;124m_data\u001b[39m\u001b[38;5;124m'\u001b[39m\u001b[38;5;124m \u001b[39m\u001b[38;5;124m\"\u001b[39m\n\u001b[1;32m    867\u001b[0m         \u001b[38;5;124m\"\u001b[39m\u001b[38;5;124mdictionary does not map back to this component data object.\u001b[39m\u001b[38;5;124m\"\u001b[39m\n\u001b[1;32m    868\u001b[0m         \u001b[38;5;241m%\u001b[39m (parent\u001b[38;5;241m.\u001b[39mctype\u001b[38;5;241m.\u001b[39m\u001b[38;5;18m__name__\u001b[39m, parent\u001b[38;5;241m.\u001b[39mname, \u001b[38;5;28mself\u001b[39m\u001b[38;5;241m.\u001b[39m_index)\n\u001b[1;32m    869\u001b[0m     )\n\u001b[1;32m    870\u001b[0m \u001b[38;5;28;01mreturn\u001b[39;00m \u001b[38;5;28mself\u001b[39m\u001b[38;5;241m.\u001b[39m_index\n",
      "\u001b[0;31mDeveloperError\u001b[0m: Internal Pyomo implementation error:\n        \"The '_data' dictionary and '_index' attribute are out of sync for\n        indexed Expression 'Flow_kz': The ('N2', 1) entry in the '_data'\n        dictionary does not map back to this component data object.\"\n    Please report this to the Pyomo Developers."
     ]
    }
   ],
   "source": [
    "param = {\"hgx\": 25*1e-3}\n",
    "param_list = [\"hgx\"]\n",
    "\n",
    "dsdp, col = get_dsdp(m, param_list, param, tee=True)"
   ]
  },
  {
   "cell_type": "code",
   "execution_count": null,
   "id": "ce1949d1-8578-4662-ad7f-3686c020dae7",
   "metadata": {},
   "outputs": [],
   "source": []
  }
 ],
 "metadata": {
  "kernelspec": {
   "display_name": "Python 3 (ipykernel)",
   "language": "python",
   "name": "python3"
  },
  "language_info": {
   "codemirror_mode": {
    "name": "ipython",
    "version": 3
   },
   "file_extension": ".py",
   "mimetype": "text/x-python",
   "name": "python",
   "nbconvert_exporter": "python",
   "pygments_lexer": "ipython3",
   "version": "3.8.17"
  }
 },
 "nbformat": 4,
 "nbformat_minor": 5
}
